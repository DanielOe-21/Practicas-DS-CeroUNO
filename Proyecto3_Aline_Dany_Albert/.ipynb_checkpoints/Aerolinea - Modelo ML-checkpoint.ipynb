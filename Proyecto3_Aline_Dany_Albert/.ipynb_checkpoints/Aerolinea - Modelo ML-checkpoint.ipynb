{
 "cells": [
  {
   "cell_type": "markdown",
   "metadata": {},
   "source": [
    "# Proyecto 3\n",
    "\n",
    "### Integrantes\n",
    "\n",
    "- Aline Nolte\n",
    "- Daniel Ortiz\n",
    "- Albert Resendiz\n"
   ]
  },
  {
   "cell_type": "markdown",
   "metadata": {},
   "source": [
    "## Un problema de clasificación\n",
    "\n",
    "El departamento de Marketing de nuestra empresa de seguros \"Dallas Flight Insurance\" nos requirió, para su nueva estrategia disruptiva de mercadeo, crear un modelo capaz de predecir al momento en que el usuario realiza la compra de vuelos, si contratará nuestro seguro de viajero o no lo hará.\n",
    "\n",
    "Dicha estrategia consistirá en ofrecer una promoción sobre el costo de nuestro seguro únicamente a aquellos usuarios que el modelo prediga que NO se asegurarán para persuadirlos a la contratación."
   ]
  },
  {
   "cell_type": "code",
   "execution_count": 2,
   "metadata": {},
   "outputs": [],
   "source": [
    "# Se importan librerías\n",
    "import pandas as pd\n",
    "import numpy as np\n",
    "import seaborn as sns\n",
    "import matplotlib.pyplot as plt\n",
    "import scipy.stats as st\n",
    "#Modelos\n",
    "from sklearn.linear_model import LogisticRegression\n",
    "from sklearn.neighbors import KNeighborsClassifier\n",
    "from sklearn.ensemble import RandomForestClassifier\n",
    "from sklearn.tree import DecisionTreeClassifier\n",
    "from sklearn.svm import SVC\n",
    "#Selección de modelos\n",
    "from sklearn.model_selection import cross_val_score\n",
    "from sklearn.model_selection import cross_validate\n",
    "from sklearn.model_selection import StratifiedKFold\n",
    "from sklearn.model_selection import StratifiedShuffleSplit\n",
    "from sklearn.model_selection import ShuffleSplit\n",
    "from sklearn.model_selection import GridSearchCV\n",
    "#Preprocesamiento\n",
    "from sklearn.preprocessing import OrdinalEncoder\n",
    "from sklearn.preprocessing import StandardScaler\n",
    "from sklearn.preprocessing import MinMaxScaler\n",
    "from sklearn.preprocessing import OneHotEncoder\n",
    "from sklearn.impute import SimpleImputer\n",
    "from sklearn.compose import ColumnTransformer\n",
    "from sklearn.pipeline import Pipeline\n",
    "#Evaluacion\n",
    "from sklearn.metrics import recall_score\n",
    "from sklearn.metrics import precision_score, average_precision_score\n",
    "from sklearn.metrics import precision_recall_curve\n",
    "from sklearn.metrics import roc_curve, roc_auc_score\n",
    "from sklearn.metrics import confusion_matrix\n",
    "from sklearn.metrics import classification_report\n",
    "from sklearn.metrics import f1_score\n",
    "#from scikitplot.metrics import plot_roc_curve\n",
    "from sklearn.metrics import plot_precision_recall_curve\n",
    "\n",
    "\n",
    "from sklearn.model_selection import train_test_split\n",
    "\n",
    "import warnings\n",
    "warnings.filterwarnings('ignore')"
   ]
  },
  {
   "cell_type": "markdown",
   "metadata": {},
   "source": [
    "## Se carga el dataset de las aerolíneas."
   ]
  },
  {
   "cell_type": "code",
   "execution_count": 3,
   "metadata": {},
   "outputs": [
    {
     "data": {
      "text/html": [
       "<div>\n",
       "<style scoped>\n",
       "    .dataframe tbody tr th:only-of-type {\n",
       "        vertical-align: middle;\n",
       "    }\n",
       "\n",
       "    .dataframe tbody tr th {\n",
       "        vertical-align: top;\n",
       "    }\n",
       "\n",
       "    .dataframe thead th {\n",
       "        text-align: right;\n",
       "    }\n",
       "</style>\n",
       "<table border=\"1\" class=\"dataframe\">\n",
       "  <thead>\n",
       "    <tr style=\"text-align: right;\">\n",
       "      <th></th>\n",
       "      <th>Airline</th>\n",
       "      <th>Days from Purchase to Travel</th>\n",
       "      <th>Fare Type</th>\n",
       "      <th>Número de registros</th>\n",
       "      <th>Passenger Email</th>\n",
       "      <th>Person-1</th>\n",
       "      <th>Person</th>\n",
       "      <th>Purchase Date</th>\n",
       "      <th>Purchase Day</th>\n",
       "      <th>Origin</th>\n",
       "      <th>Destination</th>\n",
       "      <th>Route</th>\n",
       "      <th>Row ID</th>\n",
       "      <th>Ticket Price</th>\n",
       "      <th>Travel Date</th>\n",
       "      <th>TravelDay</th>\n",
       "      <th>Trips</th>\n",
       "      <th>Type of Traveler</th>\n",
       "      <th>Insure</th>\n",
       "      <th>Sex</th>\n",
       "    </tr>\n",
       "  </thead>\n",
       "  <tbody>\n",
       "    <tr>\n",
       "      <th>0</th>\n",
       "      <td>Southwest</td>\n",
       "      <td>71</td>\n",
       "      <td>First Class</td>\n",
       "      <td>1</td>\n",
       "      <td>abergman@vizpainter.com</td>\n",
       "      <td>Aaron Bergman</td>\n",
       "      <td>Aaron Bergman</td>\n",
       "      <td>24/04/2019</td>\n",
       "      <td>miércoles</td>\n",
       "      <td>DAL</td>\n",
       "      <td>HOU</td>\n",
       "      <td>DAL-HOU</td>\n",
       "      <td>1</td>\n",
       "      <td>246</td>\n",
       "      <td>04/07/2019</td>\n",
       "      <td>jueves</td>\n",
       "      <td>9</td>\n",
       "      <td>Casual</td>\n",
       "      <td>True</td>\n",
       "      <td>M</td>\n",
       "    </tr>\n",
       "    <tr>\n",
       "      <th>1</th>\n",
       "      <td>Southwest</td>\n",
       "      <td>26</td>\n",
       "      <td>Economy</td>\n",
       "      <td>1</td>\n",
       "      <td>abergman@vizpainter.com</td>\n",
       "      <td>Aaron Bergman</td>\n",
       "      <td>Aaron Bergman</td>\n",
       "      <td>08/06/2019</td>\n",
       "      <td>sábado</td>\n",
       "      <td>DAL</td>\n",
       "      <td>GRR</td>\n",
       "      <td>DAL-GRR</td>\n",
       "      <td>1</td>\n",
       "      <td>140</td>\n",
       "      <td>04/07/2019</td>\n",
       "      <td>jueves</td>\n",
       "      <td>9</td>\n",
       "      <td>Casual</td>\n",
       "      <td>True</td>\n",
       "      <td>M</td>\n",
       "    </tr>\n",
       "    <tr>\n",
       "      <th>2</th>\n",
       "      <td>Southwest</td>\n",
       "      <td>45</td>\n",
       "      <td>Economy</td>\n",
       "      <td>1</td>\n",
       "      <td>abergman@vizpainter.com</td>\n",
       "      <td>Aaron Bergman</td>\n",
       "      <td>Aaron Bergman</td>\n",
       "      <td>23/08/2017</td>\n",
       "      <td>miércoles</td>\n",
       "      <td>DAL</td>\n",
       "      <td>MDW</td>\n",
       "      <td>DAL-MDW</td>\n",
       "      <td>1</td>\n",
       "      <td>70</td>\n",
       "      <td>07/10/2017</td>\n",
       "      <td>sábado</td>\n",
       "      <td>9</td>\n",
       "      <td>Casual</td>\n",
       "      <td>False</td>\n",
       "      <td>M</td>\n",
       "    </tr>\n",
       "  </tbody>\n",
       "</table>\n",
       "</div>"
      ],
      "text/plain": [
       "     Airline  Days from Purchase to Travel    Fare Type  Número de registros  \\\n",
       "0  Southwest                            71  First Class                    1   \n",
       "1  Southwest                            26      Economy                    1   \n",
       "2  Southwest                            45      Economy                    1   \n",
       "\n",
       "           Passenger Email       Person-1         Person Purchase Date  \\\n",
       "0  abergman@vizpainter.com  Aaron Bergman  Aaron Bergman    24/04/2019   \n",
       "1  abergman@vizpainter.com  Aaron Bergman  Aaron Bergman    08/06/2019   \n",
       "2  abergman@vizpainter.com  Aaron Bergman  Aaron Bergman    23/08/2017   \n",
       "\n",
       "  Purchase Day Origin Destination    Route  Row ID  Ticket Price Travel Date  \\\n",
       "0    miércoles    DAL         HOU  DAL-HOU       1           246  04/07/2019   \n",
       "1       sábado    DAL         GRR  DAL-GRR       1           140  04/07/2019   \n",
       "2    miércoles    DAL         MDW  DAL-MDW       1            70  07/10/2017   \n",
       "\n",
       "  TravelDay  Trips Type of Traveler  Insure Sex  \n",
       "0    jueves      9           Casual    True   M  \n",
       "1    jueves      9           Casual    True   M  \n",
       "2    sábado      9           Casual   False   M  "
      ]
     },
     "execution_count": 3,
     "metadata": {},
     "output_type": "execute_result"
    }
   ],
   "source": [
    "# Carga de datos\n",
    "df = pd.read_csv('./Employee Flights a visualizarcsvML.csv')\n",
    "# Primer vistazo de df\n",
    "df.head(3)"
   ]
  },
  {
   "cell_type": "markdown",
   "metadata": {},
   "source": [
    "## Descripción de las columnas:\n",
    "\n",
    "- Airline: Aerolínea\n",
    "\n",
    "- Days from Purchase to Travel: Días de anticipación de la compra\n",
    "\n",
    "- Fare Type: Clase en la que se viaja\n",
    "\n",
    "- Número de registros: 1\n",
    "\n",
    "- Passenger Email: Correo electrónico corporativo del empleado\n",
    "\n",
    "- Person-1: Nombre de la persona\n",
    "\n",
    "- Person: Nombre de la persona\n",
    "\n",
    "- Purchase Date: Fecha de compra\n",
    "\n",
    "- Purchase Day: Dia de la semana en que se compró\n",
    "\n",
    "- Origin: Aeropuerto de origen\n",
    "\n",
    "- Destination: Aeropuerto destino\n",
    "\n",
    "- Route: Ruta de vuelo\n",
    "\n",
    "- Row ID: Identificador de renglón\n",
    "\n",
    "- Ticket Price: Precio de vuelo\n",
    "\n",
    "- Travel Date: Fecha de vuelo\n",
    "\n",
    "- Travel Day: Dia de la semana en que vuela\n",
    "\n",
    "- Trips: Cantidad de viajes del pasajero\n",
    "\n",
    "- Type of traveler: Clasificación del pasajero según sus viajes\n",
    "\n",
    "- Insure: Si se aseguró o no\n",
    "\n",
    "- Sex: Sexo del pasajero"
   ]
  },
  {
   "cell_type": "markdown",
   "metadata": {},
   "source": [
    "## Verificar cantidades y tipos de datos."
   ]
  },
  {
   "cell_type": "code",
   "execution_count": 4,
   "metadata": {},
   "outputs": [
    {
     "name": "stdout",
     "output_type": "stream",
     "text": [
      "<class 'pandas.core.frame.DataFrame'>\n",
      "RangeIndex: 9158 entries, 0 to 9157\n",
      "Data columns (total 20 columns):\n",
      " #   Column                        Non-Null Count  Dtype \n",
      "---  ------                        --------------  ----- \n",
      " 0   Airline                       9158 non-null   object\n",
      " 1   Days from Purchase to Travel  9158 non-null   int64 \n",
      " 2   Fare Type                     9158 non-null   object\n",
      " 3   Número de registros           9158 non-null   int64 \n",
      " 4   Passenger Email               8694 non-null   object\n",
      " 5   Person-1                      9158 non-null   object\n",
      " 6   Person                        9158 non-null   object\n",
      " 7   Purchase Date                 9158 non-null   object\n",
      " 8   Purchase Day                  9158 non-null   object\n",
      " 9   Origin                        9158 non-null   object\n",
      " 10  Destination                   9158 non-null   object\n",
      " 11  Route                         9158 non-null   object\n",
      " 12  Row ID                        9158 non-null   int64 \n",
      " 13  Ticket Price                  9158 non-null   int64 \n",
      " 14  Travel Date                   9158 non-null   object\n",
      " 15  TravelDay                     9158 non-null   object\n",
      " 16  Trips                         9158 non-null   int64 \n",
      " 17  Type of Traveler              9158 non-null   object\n",
      " 18  Insure                        9158 non-null   bool  \n",
      " 19  Sex                           9158 non-null   object\n",
      "dtypes: bool(1), int64(5), object(14)\n",
      "memory usage: 1.3+ MB\n"
     ]
    }
   ],
   "source": [
    "df.info()"
   ]
  },
  {
   "cell_type": "markdown",
   "metadata": {},
   "source": [
    "## Verificar valores nulos"
   ]
  },
  {
   "cell_type": "code",
   "execution_count": 5,
   "metadata": {},
   "outputs": [
    {
     "data": {
      "text/plain": [
       "Airline                           0\n",
       "Days from Purchase to Travel      0\n",
       "Fare Type                         0\n",
       "Número de registros               0\n",
       "Passenger Email                 464\n",
       "Person-1                          0\n",
       "Person                            0\n",
       "Purchase Date                     0\n",
       "Purchase Day                      0\n",
       "Origin                            0\n",
       "Destination                       0\n",
       "Route                             0\n",
       "Row ID                            0\n",
       "Ticket Price                      0\n",
       "Travel Date                       0\n",
       "TravelDay                         0\n",
       "Trips                             0\n",
       "Type of Traveler                  0\n",
       "Insure                            0\n",
       "Sex                               0\n",
       "dtype: int64"
      ]
     },
     "execution_count": 5,
     "metadata": {},
     "output_type": "execute_result"
    }
   ],
   "source": [
    "df.isna().sum()"
   ]
  },
  {
   "cell_type": "markdown",
   "metadata": {},
   "source": [
    "## Verificar registros únicos"
   ]
  },
  {
   "cell_type": "code",
   "execution_count": 6,
   "metadata": {},
   "outputs": [
    {
     "data": {
      "text/plain": [
       "Airline                            4\n",
       "Days from Purchase to Travel     130\n",
       "Fare Type                          3\n",
       "Número de registros                1\n",
       "Passenger Email                  733\n",
       "Person-1                         765\n",
       "Person                           765\n",
       "Purchase Date                   1337\n",
       "Purchase Day                       7\n",
       "Origin                             2\n",
       "Destination                       30\n",
       "Route                             33\n",
       "Row ID                          2015\n",
       "Ticket Price                     463\n",
       "Travel Date                      993\n",
       "TravelDay                          7\n",
       "Trips                             21\n",
       "Type of Traveler                   4\n",
       "Insure                             2\n",
       "Sex                                2\n",
       "dtype: int64"
      ]
     },
     "execution_count": 6,
     "metadata": {},
     "output_type": "execute_result"
    }
   ],
   "source": [
    "df.nunique()"
   ]
  },
  {
   "cell_type": "markdown",
   "metadata": {},
   "source": [
    "## Se cambia el tipo de dato de la columna **Insure** de **Object** a **Int**\n",
    "\n",
    "Como nuestra variable de interes es que no se aseguren, entonces tomaremos como valor afirmativo el que no se aseguren.\n",
    "- No Insure = 1\n",
    "- Insure = 0"
   ]
  },
  {
   "cell_type": "code",
   "execution_count": 7,
   "metadata": {},
   "outputs": [],
   "source": [
    "df['Insure'] = np.where(df['Insure']==False, 1,0)"
   ]
  },
  {
   "cell_type": "code",
   "execution_count": 8,
   "metadata": {},
   "outputs": [
    {
     "data": {
      "text/html": [
       "<div>\n",
       "<style scoped>\n",
       "    .dataframe tbody tr th:only-of-type {\n",
       "        vertical-align: middle;\n",
       "    }\n",
       "\n",
       "    .dataframe tbody tr th {\n",
       "        vertical-align: top;\n",
       "    }\n",
       "\n",
       "    .dataframe thead th {\n",
       "        text-align: right;\n",
       "    }\n",
       "</style>\n",
       "<table border=\"1\" class=\"dataframe\">\n",
       "  <thead>\n",
       "    <tr style=\"text-align: right;\">\n",
       "      <th></th>\n",
       "      <th>Airline</th>\n",
       "      <th>Days from Purchase to Travel</th>\n",
       "      <th>Fare Type</th>\n",
       "      <th>Número de registros</th>\n",
       "      <th>Passenger Email</th>\n",
       "      <th>Person-1</th>\n",
       "      <th>Person</th>\n",
       "      <th>Purchase Date</th>\n",
       "      <th>Purchase Day</th>\n",
       "      <th>Origin</th>\n",
       "      <th>Destination</th>\n",
       "      <th>Route</th>\n",
       "      <th>Row ID</th>\n",
       "      <th>Ticket Price</th>\n",
       "      <th>Travel Date</th>\n",
       "      <th>TravelDay</th>\n",
       "      <th>Trips</th>\n",
       "      <th>Type of Traveler</th>\n",
       "      <th>Insure</th>\n",
       "      <th>Sex</th>\n",
       "    </tr>\n",
       "  </thead>\n",
       "  <tbody>\n",
       "    <tr>\n",
       "      <th>0</th>\n",
       "      <td>Southwest</td>\n",
       "      <td>71</td>\n",
       "      <td>First Class</td>\n",
       "      <td>1</td>\n",
       "      <td>abergman@vizpainter.com</td>\n",
       "      <td>Aaron Bergman</td>\n",
       "      <td>Aaron Bergman</td>\n",
       "      <td>24/04/2019</td>\n",
       "      <td>miércoles</td>\n",
       "      <td>DAL</td>\n",
       "      <td>HOU</td>\n",
       "      <td>DAL-HOU</td>\n",
       "      <td>1</td>\n",
       "      <td>246</td>\n",
       "      <td>04/07/2019</td>\n",
       "      <td>jueves</td>\n",
       "      <td>9</td>\n",
       "      <td>Casual</td>\n",
       "      <td>0</td>\n",
       "      <td>M</td>\n",
       "    </tr>\n",
       "    <tr>\n",
       "      <th>1</th>\n",
       "      <td>Southwest</td>\n",
       "      <td>26</td>\n",
       "      <td>Economy</td>\n",
       "      <td>1</td>\n",
       "      <td>abergman@vizpainter.com</td>\n",
       "      <td>Aaron Bergman</td>\n",
       "      <td>Aaron Bergman</td>\n",
       "      <td>08/06/2019</td>\n",
       "      <td>sábado</td>\n",
       "      <td>DAL</td>\n",
       "      <td>GRR</td>\n",
       "      <td>DAL-GRR</td>\n",
       "      <td>1</td>\n",
       "      <td>140</td>\n",
       "      <td>04/07/2019</td>\n",
       "      <td>jueves</td>\n",
       "      <td>9</td>\n",
       "      <td>Casual</td>\n",
       "      <td>0</td>\n",
       "      <td>M</td>\n",
       "    </tr>\n",
       "  </tbody>\n",
       "</table>\n",
       "</div>"
      ],
      "text/plain": [
       "     Airline  Days from Purchase to Travel    Fare Type  Número de registros  \\\n",
       "0  Southwest                            71  First Class                    1   \n",
       "1  Southwest                            26      Economy                    1   \n",
       "\n",
       "           Passenger Email       Person-1         Person Purchase Date  \\\n",
       "0  abergman@vizpainter.com  Aaron Bergman  Aaron Bergman    24/04/2019   \n",
       "1  abergman@vizpainter.com  Aaron Bergman  Aaron Bergman    08/06/2019   \n",
       "\n",
       "  Purchase Day Origin Destination    Route  Row ID  Ticket Price Travel Date  \\\n",
       "0    miércoles    DAL         HOU  DAL-HOU       1           246  04/07/2019   \n",
       "1       sábado    DAL         GRR  DAL-GRR       1           140  04/07/2019   \n",
       "\n",
       "  TravelDay  Trips Type of Traveler  Insure Sex  \n",
       "0    jueves      9           Casual       0   M  \n",
       "1    jueves      9           Casual       0   M  "
      ]
     },
     "execution_count": 8,
     "metadata": {},
     "output_type": "execute_result"
    }
   ],
   "source": [
    "df.head(2)"
   ]
  },
  {
   "cell_type": "markdown",
   "metadata": {},
   "source": [
    "### Observaciones:\n",
    "\n",
    "- **Passenger Email** tiene muchos valores nulos y es irrelevante.\n",
    "- **Número de registros** es igual en todos los casos (1).\n",
    "- **Person** y **Person-1** contienen la misma información.\n",
    "\n",
    "Se procede a eliminar las columnas en cuestión.\n",
    "\n",
    "Una observación interesante resulta de la cantidad de registros de 'Person', ya que a pesar de tener 9158 registros (ningún valor nulo), éstos pertenecen a 765 personas, por lo que es indicio de que hay más de 1 registro por persona."
   ]
  },
  {
   "cell_type": "markdown",
   "metadata": {},
   "source": [
    "## Limpieza de datos"
   ]
  },
  {
   "cell_type": "markdown",
   "metadata": {},
   "source": [
    "### Se eliminan las columnas irrelevantes."
   ]
  },
  {
   "cell_type": "code",
   "execution_count": 9,
   "metadata": {},
   "outputs": [
    {
     "data": {
      "text/html": [
       "<div>\n",
       "<style scoped>\n",
       "    .dataframe tbody tr th:only-of-type {\n",
       "        vertical-align: middle;\n",
       "    }\n",
       "\n",
       "    .dataframe tbody tr th {\n",
       "        vertical-align: top;\n",
       "    }\n",
       "\n",
       "    .dataframe thead th {\n",
       "        text-align: right;\n",
       "    }\n",
       "</style>\n",
       "<table border=\"1\" class=\"dataframe\">\n",
       "  <thead>\n",
       "    <tr style=\"text-align: right;\">\n",
       "      <th></th>\n",
       "      <th>Airline</th>\n",
       "      <th>Days from Purchase to Travel</th>\n",
       "      <th>Fare Type</th>\n",
       "      <th>Person</th>\n",
       "      <th>Purchase Date</th>\n",
       "      <th>Purchase Day</th>\n",
       "      <th>Origin</th>\n",
       "      <th>Destination</th>\n",
       "      <th>Route</th>\n",
       "      <th>Row ID</th>\n",
       "      <th>Ticket Price</th>\n",
       "      <th>Travel Date</th>\n",
       "      <th>TravelDay</th>\n",
       "      <th>Trips</th>\n",
       "      <th>Type of Traveler</th>\n",
       "      <th>Insure</th>\n",
       "      <th>Sex</th>\n",
       "    </tr>\n",
       "  </thead>\n",
       "  <tbody>\n",
       "    <tr>\n",
       "      <th>0</th>\n",
       "      <td>Southwest</td>\n",
       "      <td>71</td>\n",
       "      <td>First Class</td>\n",
       "      <td>Aaron Bergman</td>\n",
       "      <td>24/04/2019</td>\n",
       "      <td>miércoles</td>\n",
       "      <td>DAL</td>\n",
       "      <td>HOU</td>\n",
       "      <td>DAL-HOU</td>\n",
       "      <td>1</td>\n",
       "      <td>246</td>\n",
       "      <td>04/07/2019</td>\n",
       "      <td>jueves</td>\n",
       "      <td>9</td>\n",
       "      <td>Casual</td>\n",
       "      <td>0</td>\n",
       "      <td>M</td>\n",
       "    </tr>\n",
       "    <tr>\n",
       "      <th>1</th>\n",
       "      <td>Southwest</td>\n",
       "      <td>26</td>\n",
       "      <td>Economy</td>\n",
       "      <td>Aaron Bergman</td>\n",
       "      <td>08/06/2019</td>\n",
       "      <td>sábado</td>\n",
       "      <td>DAL</td>\n",
       "      <td>GRR</td>\n",
       "      <td>DAL-GRR</td>\n",
       "      <td>1</td>\n",
       "      <td>140</td>\n",
       "      <td>04/07/2019</td>\n",
       "      <td>jueves</td>\n",
       "      <td>9</td>\n",
       "      <td>Casual</td>\n",
       "      <td>0</td>\n",
       "      <td>M</td>\n",
       "    </tr>\n",
       "    <tr>\n",
       "      <th>2</th>\n",
       "      <td>Southwest</td>\n",
       "      <td>45</td>\n",
       "      <td>Economy</td>\n",
       "      <td>Aaron Bergman</td>\n",
       "      <td>23/08/2017</td>\n",
       "      <td>miércoles</td>\n",
       "      <td>DAL</td>\n",
       "      <td>MDW</td>\n",
       "      <td>DAL-MDW</td>\n",
       "      <td>1</td>\n",
       "      <td>70</td>\n",
       "      <td>07/10/2017</td>\n",
       "      <td>sábado</td>\n",
       "      <td>9</td>\n",
       "      <td>Casual</td>\n",
       "      <td>1</td>\n",
       "      <td>M</td>\n",
       "    </tr>\n",
       "  </tbody>\n",
       "</table>\n",
       "</div>"
      ],
      "text/plain": [
       "     Airline  Days from Purchase to Travel    Fare Type         Person  \\\n",
       "0  Southwest                            71  First Class  Aaron Bergman   \n",
       "1  Southwest                            26      Economy  Aaron Bergman   \n",
       "2  Southwest                            45      Economy  Aaron Bergman   \n",
       "\n",
       "  Purchase Date Purchase Day Origin Destination    Route  Row ID  \\\n",
       "0    24/04/2019    miércoles    DAL         HOU  DAL-HOU       1   \n",
       "1    08/06/2019       sábado    DAL         GRR  DAL-GRR       1   \n",
       "2    23/08/2017    miércoles    DAL         MDW  DAL-MDW       1   \n",
       "\n",
       "   Ticket Price Travel Date TravelDay  Trips Type of Traveler  Insure Sex  \n",
       "0           246  04/07/2019    jueves      9           Casual       0   M  \n",
       "1           140  04/07/2019    jueves      9           Casual       0   M  \n",
       "2            70  07/10/2017    sábado      9           Casual       1   M  "
      ]
     },
     "execution_count": 9,
     "metadata": {},
     "output_type": "execute_result"
    }
   ],
   "source": [
    "df.drop(['Passenger Email', 'Número de registros', 'Person-1'], axis = 1, inplace = True)\n",
    "df.head(3)"
   ]
  },
  {
   "cell_type": "markdown",
   "metadata": {},
   "source": [
    "### Se renombran las columnas para el mejor manejo cuando se escriba el codigo."
   ]
  },
  {
   "cell_type": "code",
   "execution_count": 10,
   "metadata": {},
   "outputs": [
    {
     "data": {
      "text/html": [
       "<div>\n",
       "<style scoped>\n",
       "    .dataframe tbody tr th:only-of-type {\n",
       "        vertical-align: middle;\n",
       "    }\n",
       "\n",
       "    .dataframe tbody tr th {\n",
       "        vertical-align: top;\n",
       "    }\n",
       "\n",
       "    .dataframe thead th {\n",
       "        text-align: right;\n",
       "    }\n",
       "</style>\n",
       "<table border=\"1\" class=\"dataframe\">\n",
       "  <thead>\n",
       "    <tr style=\"text-align: right;\">\n",
       "      <th></th>\n",
       "      <th>Airline</th>\n",
       "      <th>DaysAnticipation</th>\n",
       "      <th>Class</th>\n",
       "      <th>Name</th>\n",
       "      <th>PurchDate</th>\n",
       "      <th>PurchDay</th>\n",
       "      <th>Origin</th>\n",
       "      <th>Destination</th>\n",
       "      <th>Route</th>\n",
       "      <th>Row ID</th>\n",
       "      <th>Price</th>\n",
       "      <th>TravelDate</th>\n",
       "      <th>TravelDay</th>\n",
       "      <th>Trips</th>\n",
       "      <th>TypeTraveler</th>\n",
       "      <th>Insure</th>\n",
       "      <th>Sex</th>\n",
       "    </tr>\n",
       "  </thead>\n",
       "  <tbody>\n",
       "    <tr>\n",
       "      <th>0</th>\n",
       "      <td>Southwest</td>\n",
       "      <td>71</td>\n",
       "      <td>First Class</td>\n",
       "      <td>Aaron Bergman</td>\n",
       "      <td>24/04/2019</td>\n",
       "      <td>miércoles</td>\n",
       "      <td>DAL</td>\n",
       "      <td>HOU</td>\n",
       "      <td>DAL-HOU</td>\n",
       "      <td>1</td>\n",
       "      <td>246</td>\n",
       "      <td>04/07/2019</td>\n",
       "      <td>jueves</td>\n",
       "      <td>9</td>\n",
       "      <td>Casual</td>\n",
       "      <td>0</td>\n",
       "      <td>M</td>\n",
       "    </tr>\n",
       "    <tr>\n",
       "      <th>1</th>\n",
       "      <td>Southwest</td>\n",
       "      <td>26</td>\n",
       "      <td>Economy</td>\n",
       "      <td>Aaron Bergman</td>\n",
       "      <td>08/06/2019</td>\n",
       "      <td>sábado</td>\n",
       "      <td>DAL</td>\n",
       "      <td>GRR</td>\n",
       "      <td>DAL-GRR</td>\n",
       "      <td>1</td>\n",
       "      <td>140</td>\n",
       "      <td>04/07/2019</td>\n",
       "      <td>jueves</td>\n",
       "      <td>9</td>\n",
       "      <td>Casual</td>\n",
       "      <td>0</td>\n",
       "      <td>M</td>\n",
       "    </tr>\n",
       "    <tr>\n",
       "      <th>2</th>\n",
       "      <td>Southwest</td>\n",
       "      <td>45</td>\n",
       "      <td>Economy</td>\n",
       "      <td>Aaron Bergman</td>\n",
       "      <td>23/08/2017</td>\n",
       "      <td>miércoles</td>\n",
       "      <td>DAL</td>\n",
       "      <td>MDW</td>\n",
       "      <td>DAL-MDW</td>\n",
       "      <td>1</td>\n",
       "      <td>70</td>\n",
       "      <td>07/10/2017</td>\n",
       "      <td>sábado</td>\n",
       "      <td>9</td>\n",
       "      <td>Casual</td>\n",
       "      <td>1</td>\n",
       "      <td>M</td>\n",
       "    </tr>\n",
       "  </tbody>\n",
       "</table>\n",
       "</div>"
      ],
      "text/plain": [
       "     Airline  DaysAnticipation        Class           Name   PurchDate  \\\n",
       "0  Southwest                71  First Class  Aaron Bergman  24/04/2019   \n",
       "1  Southwest                26      Economy  Aaron Bergman  08/06/2019   \n",
       "2  Southwest                45      Economy  Aaron Bergman  23/08/2017   \n",
       "\n",
       "    PurchDay Origin Destination    Route  Row ID  Price  TravelDate TravelDay  \\\n",
       "0  miércoles    DAL         HOU  DAL-HOU       1    246  04/07/2019    jueves   \n",
       "1     sábado    DAL         GRR  DAL-GRR       1    140  04/07/2019    jueves   \n",
       "2  miércoles    DAL         MDW  DAL-MDW       1     70  07/10/2017    sábado   \n",
       "\n",
       "   Trips TypeTraveler  Insure Sex  \n",
       "0      9       Casual       0   M  \n",
       "1      9       Casual       0   M  \n",
       "2      9       Casual       1   M  "
      ]
     },
     "execution_count": 10,
     "metadata": {},
     "output_type": "execute_result"
    }
   ],
   "source": [
    "df.rename(columns = {'Days from Purchase to Travel':'DaysAnticipation', 'Fare Type':'Class', 'Ticket Price':'Price', 'Purchase Date':'PurchDate', 'Person':'Name', 'Purchase Day':'PurchDay', 'Travel Date':'TravelDate', 'Type of Traveler':'TypeTraveler'}, inplace = True)\n",
    "df.head(3)"
   ]
  },
  {
   "cell_type": "markdown",
   "metadata": {},
   "source": [
    "### Dado que existe más de 1 registro por persona, se presta atención a la columna 'Trips', ya que posiblemente cada registro de `'Name'` repetido puede ser un viaje distinto."
   ]
  },
  {
   "cell_type": "code",
   "execution_count": 11,
   "metadata": {},
   "outputs": [
    {
     "data": {
      "text/html": [
       "<div>\n",
       "<style scoped>\n",
       "    .dataframe tbody tr th:only-of-type {\n",
       "        vertical-align: middle;\n",
       "    }\n",
       "\n",
       "    .dataframe tbody tr th {\n",
       "        vertical-align: top;\n",
       "    }\n",
       "\n",
       "    .dataframe thead th {\n",
       "        text-align: right;\n",
       "    }\n",
       "</style>\n",
       "<table border=\"1\" class=\"dataframe\">\n",
       "  <thead>\n",
       "    <tr style=\"text-align: right;\">\n",
       "      <th></th>\n",
       "      <th>Airline</th>\n",
       "      <th>DaysAnticipation</th>\n",
       "      <th>Class</th>\n",
       "      <th>Name</th>\n",
       "      <th>PurchDate</th>\n",
       "      <th>PurchDay</th>\n",
       "      <th>Origin</th>\n",
       "      <th>Destination</th>\n",
       "      <th>Route</th>\n",
       "      <th>Row ID</th>\n",
       "      <th>Price</th>\n",
       "      <th>TravelDate</th>\n",
       "      <th>TravelDay</th>\n",
       "      <th>Trips</th>\n",
       "      <th>TypeTraveler</th>\n",
       "      <th>Insure</th>\n",
       "      <th>Sex</th>\n",
       "    </tr>\n",
       "  </thead>\n",
       "  <tbody>\n",
       "    <tr>\n",
       "      <th>42</th>\n",
       "      <td>United</td>\n",
       "      <td>19</td>\n",
       "      <td>Economy</td>\n",
       "      <td>Adam Bellavance</td>\n",
       "      <td>20/08/2018</td>\n",
       "      <td>lunes</td>\n",
       "      <td>DFW</td>\n",
       "      <td>CMH</td>\n",
       "      <td>DFW-CMH</td>\n",
       "      <td>6040</td>\n",
       "      <td>228</td>\n",
       "      <td>08/09/2018</td>\n",
       "      <td>sábado</td>\n",
       "      <td>2</td>\n",
       "      <td>Infrequent</td>\n",
       "      <td>1</td>\n",
       "      <td>M</td>\n",
       "    </tr>\n",
       "    <tr>\n",
       "      <th>43</th>\n",
       "      <td>United</td>\n",
       "      <td>45</td>\n",
       "      <td>Business</td>\n",
       "      <td>Adam Bellavance</td>\n",
       "      <td>19/10/2016</td>\n",
       "      <td>miércoles</td>\n",
       "      <td>DFW</td>\n",
       "      <td>MCO</td>\n",
       "      <td>DFW-MCO</td>\n",
       "      <td>8005</td>\n",
       "      <td>266</td>\n",
       "      <td>03/12/2016</td>\n",
       "      <td>sábado</td>\n",
       "      <td>2</td>\n",
       "      <td>Infrequent</td>\n",
       "      <td>1</td>\n",
       "      <td>M</td>\n",
       "    </tr>\n",
       "    <tr>\n",
       "      <th>44</th>\n",
       "      <td>United</td>\n",
       "      <td>19</td>\n",
       "      <td>Economy</td>\n",
       "      <td>Adam Bellavance</td>\n",
       "      <td>20/08/2018</td>\n",
       "      <td>lunes</td>\n",
       "      <td>DFW</td>\n",
       "      <td>CMH</td>\n",
       "      <td>DFW-CMH</td>\n",
       "      <td>6040</td>\n",
       "      <td>228</td>\n",
       "      <td>08/09/2018</td>\n",
       "      <td>sábado</td>\n",
       "      <td>2</td>\n",
       "      <td>Infrequent</td>\n",
       "      <td>1</td>\n",
       "      <td>M</td>\n",
       "    </tr>\n",
       "    <tr>\n",
       "      <th>45</th>\n",
       "      <td>United</td>\n",
       "      <td>45</td>\n",
       "      <td>Business</td>\n",
       "      <td>Adam Bellavance</td>\n",
       "      <td>19/10/2016</td>\n",
       "      <td>miércoles</td>\n",
       "      <td>DFW</td>\n",
       "      <td>MCO</td>\n",
       "      <td>DFW-MCO</td>\n",
       "      <td>8005</td>\n",
       "      <td>266</td>\n",
       "      <td>03/12/2016</td>\n",
       "      <td>sábado</td>\n",
       "      <td>2</td>\n",
       "      <td>Infrequent</td>\n",
       "      <td>1</td>\n",
       "      <td>M</td>\n",
       "    </tr>\n",
       "  </tbody>\n",
       "</table>\n",
       "</div>"
      ],
      "text/plain": [
       "   Airline  DaysAnticipation     Class             Name   PurchDate  \\\n",
       "42  United                19   Economy  Adam Bellavance  20/08/2018   \n",
       "43  United                45  Business  Adam Bellavance  19/10/2016   \n",
       "44  United                19   Economy  Adam Bellavance  20/08/2018   \n",
       "45  United                45  Business  Adam Bellavance  19/10/2016   \n",
       "\n",
       "     PurchDay Origin Destination    Route  Row ID  Price  TravelDate  \\\n",
       "42      lunes    DFW         CMH  DFW-CMH    6040    228  08/09/2018   \n",
       "43  miércoles    DFW         MCO  DFW-MCO    8005    266  03/12/2016   \n",
       "44      lunes    DFW         CMH  DFW-CMH    6040    228  08/09/2018   \n",
       "45  miércoles    DFW         MCO  DFW-MCO    8005    266  03/12/2016   \n",
       "\n",
       "   TravelDay  Trips TypeTraveler  Insure Sex  \n",
       "42    sábado      2   Infrequent       1   M  \n",
       "43    sábado      2   Infrequent       1   M  \n",
       "44    sábado      2   Infrequent       1   M  \n",
       "45    sábado      2   Infrequent       1   M  "
      ]
     },
     "execution_count": 11,
     "metadata": {},
     "output_type": "execute_result"
    }
   ],
   "source": [
    "# Para verificarlo, se busca algún Nombre para revisar visualmente los campos\n",
    "\n",
    "df_Filtered=df[df['Name']=='Adam Bellavance']\n",
    "df_Filtered"
   ]
  },
  {
   "cell_type": "markdown",
   "metadata": {},
   "source": [
    "En efecto, cada renglón representa un 'Trip' diferente, siendo la columna ``'Trips'`` el número de viajes que ha tenido cada persona, sin embargo, **se encontró que existen registros repetidos.**\n",
    "\n",
    "Por ejemplo, en el caso del usuario 'Adam Bellavance' que tiene 4 registros aunque sólo aparecen 2 viajes, resulta que el registro 42 y el 44 contiene exactamente la misma información (fechas, clase, ruta, etc.) Lo mismo sucede con el registro 43 y 45.\n",
    "\n",
    "Este caso se repite con prácticamente todos los usuarios, se detecta que la columna **``'Row ID'`` es un identificador único de cada registro**, lo que permite filtrar la data de acuerdo a este criterio para eliminar registros duplicados."
   ]
  },
  {
   "cell_type": "markdown",
   "metadata": {},
   "source": [
    "## Se crea un nuevo dataframe, tomando la columna Row ID como identificador para eliminar registros repetidos"
   ]
  },
  {
   "cell_type": "code",
   "execution_count": 12,
   "metadata": {},
   "outputs": [
    {
     "data": {
      "text/html": [
       "<div>\n",
       "<style scoped>\n",
       "    .dataframe tbody tr th:only-of-type {\n",
       "        vertical-align: middle;\n",
       "    }\n",
       "\n",
       "    .dataframe tbody tr th {\n",
       "        vertical-align: top;\n",
       "    }\n",
       "\n",
       "    .dataframe thead th {\n",
       "        text-align: right;\n",
       "    }\n",
       "</style>\n",
       "<table border=\"1\" class=\"dataframe\">\n",
       "  <thead>\n",
       "    <tr style=\"text-align: right;\">\n",
       "      <th></th>\n",
       "      <th>Airline</th>\n",
       "      <th>DaysAnticipation</th>\n",
       "      <th>Class</th>\n",
       "      <th>Name</th>\n",
       "      <th>PurchDate</th>\n",
       "      <th>PurchDay</th>\n",
       "      <th>Origin</th>\n",
       "      <th>Destination</th>\n",
       "      <th>Route</th>\n",
       "      <th>Row ID</th>\n",
       "      <th>Price</th>\n",
       "      <th>TravelDate</th>\n",
       "      <th>TravelDay</th>\n",
       "      <th>Trips</th>\n",
       "      <th>TypeTraveler</th>\n",
       "      <th>Insure</th>\n",
       "      <th>Sex</th>\n",
       "    </tr>\n",
       "  </thead>\n",
       "  <tbody>\n",
       "    <tr>\n",
       "      <th>0</th>\n",
       "      <td>Southwest</td>\n",
       "      <td>71</td>\n",
       "      <td>First Class</td>\n",
       "      <td>Aaron Bergman</td>\n",
       "      <td>24/04/2019</td>\n",
       "      <td>miércoles</td>\n",
       "      <td>DAL</td>\n",
       "      <td>HOU</td>\n",
       "      <td>DAL-HOU</td>\n",
       "      <td>1</td>\n",
       "      <td>246</td>\n",
       "      <td>04/07/2019</td>\n",
       "      <td>jueves</td>\n",
       "      <td>9</td>\n",
       "      <td>Casual</td>\n",
       "      <td>0</td>\n",
       "      <td>M</td>\n",
       "    </tr>\n",
       "    <tr>\n",
       "      <th>7</th>\n",
       "      <td>American Airlines</td>\n",
       "      <td>55</td>\n",
       "      <td>First Class</td>\n",
       "      <td>Aaron Bergman</td>\n",
       "      <td>10/05/2019</td>\n",
       "      <td>viernes</td>\n",
       "      <td>DFW</td>\n",
       "      <td>SEA</td>\n",
       "      <td>DFW-SEA</td>\n",
       "      <td>1161</td>\n",
       "      <td>476</td>\n",
       "      <td>04/07/2019</td>\n",
       "      <td>jueves</td>\n",
       "      <td>9</td>\n",
       "      <td>Casual</td>\n",
       "      <td>1</td>\n",
       "      <td>M</td>\n",
       "    </tr>\n",
       "    <tr>\n",
       "      <th>8</th>\n",
       "      <td>United</td>\n",
       "      <td>64</td>\n",
       "      <td>Economy</td>\n",
       "      <td>Aaron Bergman</td>\n",
       "      <td>03/01/2018</td>\n",
       "      <td>miércoles</td>\n",
       "      <td>DFW</td>\n",
       "      <td>HIO</td>\n",
       "      <td>DFW-HIO</td>\n",
       "      <td>5202</td>\n",
       "      <td>354</td>\n",
       "      <td>08/03/2018</td>\n",
       "      <td>jueves</td>\n",
       "      <td>9</td>\n",
       "      <td>Casual</td>\n",
       "      <td>1</td>\n",
       "      <td>M</td>\n",
       "    </tr>\n",
       "  </tbody>\n",
       "</table>\n",
       "</div>"
      ],
      "text/plain": [
       "             Airline  DaysAnticipation        Class           Name  \\\n",
       "0          Southwest                71  First Class  Aaron Bergman   \n",
       "7  American Airlines                55  First Class  Aaron Bergman   \n",
       "8             United                64      Economy  Aaron Bergman   \n",
       "\n",
       "    PurchDate   PurchDay Origin Destination    Route  Row ID  Price  \\\n",
       "0  24/04/2019  miércoles    DAL         HOU  DAL-HOU       1    246   \n",
       "7  10/05/2019    viernes    DFW         SEA  DFW-SEA    1161    476   \n",
       "8  03/01/2018  miércoles    DFW         HIO  DFW-HIO    5202    354   \n",
       "\n",
       "   TravelDate TravelDay  Trips TypeTraveler  Insure Sex  \n",
       "0  04/07/2019    jueves      9       Casual       0   M  \n",
       "7  04/07/2019    jueves      9       Casual       1   M  \n",
       "8  08/03/2018    jueves      9       Casual       1   M  "
      ]
     },
     "execution_count": 12,
     "metadata": {},
     "output_type": "execute_result"
    }
   ],
   "source": [
    "df_new = df.drop_duplicates(subset =\"Row ID\").copy()\n",
    "df_new.head(3)"
   ]
  },
  {
   "cell_type": "code",
   "execution_count": 13,
   "metadata": {},
   "outputs": [
    {
     "data": {
      "text/html": [
       "<div>\n",
       "<style scoped>\n",
       "    .dataframe tbody tr th:only-of-type {\n",
       "        vertical-align: middle;\n",
       "    }\n",
       "\n",
       "    .dataframe tbody tr th {\n",
       "        vertical-align: top;\n",
       "    }\n",
       "\n",
       "    .dataframe thead th {\n",
       "        text-align: right;\n",
       "    }\n",
       "</style>\n",
       "<table border=\"1\" class=\"dataframe\">\n",
       "  <thead>\n",
       "    <tr style=\"text-align: right;\">\n",
       "      <th></th>\n",
       "      <th>Airline</th>\n",
       "      <th>DaysAnticipation</th>\n",
       "      <th>Class</th>\n",
       "      <th>Name</th>\n",
       "      <th>PurchDate</th>\n",
       "      <th>PurchDay</th>\n",
       "      <th>Origin</th>\n",
       "      <th>Destination</th>\n",
       "      <th>Route</th>\n",
       "      <th>Row ID</th>\n",
       "      <th>Price</th>\n",
       "      <th>TravelDate</th>\n",
       "      <th>TravelDay</th>\n",
       "      <th>Trips</th>\n",
       "      <th>TypeTraveler</th>\n",
       "      <th>Insure</th>\n",
       "      <th>Sex</th>\n",
       "    </tr>\n",
       "  </thead>\n",
       "  <tbody>\n",
       "    <tr>\n",
       "      <th>42</th>\n",
       "      <td>United</td>\n",
       "      <td>19</td>\n",
       "      <td>Economy</td>\n",
       "      <td>Adam Bellavance</td>\n",
       "      <td>20/08/2018</td>\n",
       "      <td>lunes</td>\n",
       "      <td>DFW</td>\n",
       "      <td>CMH</td>\n",
       "      <td>DFW-CMH</td>\n",
       "      <td>6040</td>\n",
       "      <td>228</td>\n",
       "      <td>08/09/2018</td>\n",
       "      <td>sábado</td>\n",
       "      <td>2</td>\n",
       "      <td>Infrequent</td>\n",
       "      <td>1</td>\n",
       "      <td>M</td>\n",
       "    </tr>\n",
       "    <tr>\n",
       "      <th>43</th>\n",
       "      <td>United</td>\n",
       "      <td>45</td>\n",
       "      <td>Business</td>\n",
       "      <td>Adam Bellavance</td>\n",
       "      <td>19/10/2016</td>\n",
       "      <td>miércoles</td>\n",
       "      <td>DFW</td>\n",
       "      <td>MCO</td>\n",
       "      <td>DFW-MCO</td>\n",
       "      <td>8005</td>\n",
       "      <td>266</td>\n",
       "      <td>03/12/2016</td>\n",
       "      <td>sábado</td>\n",
       "      <td>2</td>\n",
       "      <td>Infrequent</td>\n",
       "      <td>1</td>\n",
       "      <td>M</td>\n",
       "    </tr>\n",
       "  </tbody>\n",
       "</table>\n",
       "</div>"
      ],
      "text/plain": [
       "   Airline  DaysAnticipation     Class             Name   PurchDate  \\\n",
       "42  United                19   Economy  Adam Bellavance  20/08/2018   \n",
       "43  United                45  Business  Adam Bellavance  19/10/2016   \n",
       "\n",
       "     PurchDay Origin Destination    Route  Row ID  Price  TravelDate  \\\n",
       "42      lunes    DFW         CMH  DFW-CMH    6040    228  08/09/2018   \n",
       "43  miércoles    DFW         MCO  DFW-MCO    8005    266  03/12/2016   \n",
       "\n",
       "   TravelDay  Trips TypeTraveler  Insure Sex  \n",
       "42    sábado      2   Infrequent       1   M  \n",
       "43    sábado      2   Infrequent       1   M  "
      ]
     },
     "execution_count": 13,
     "metadata": {},
     "output_type": "execute_result"
    }
   ],
   "source": [
    "# Verificamos de nuevo el usuario para validar registros diferentes\n",
    "df_Filtered=df_new[df_new['Name']=='Adam Bellavance']\n",
    "df_Filtered"
   ]
  },
  {
   "cell_type": "markdown",
   "metadata": {},
   "source": [
    "### Se ha logrado eliminar los registros duplicados del dataset. Ahora si corresponde el número de viajes con el número de registros."
   ]
  },
  {
   "cell_type": "code",
   "execution_count": 14,
   "metadata": {},
   "outputs": [
    {
     "name": "stdout",
     "output_type": "stream",
     "text": [
      "<class 'pandas.core.frame.DataFrame'>\n",
      "Int64Index: 2015 entries, 0 to 9146\n",
      "Data columns (total 17 columns):\n",
      " #   Column            Non-Null Count  Dtype \n",
      "---  ------            --------------  ----- \n",
      " 0   Airline           2015 non-null   object\n",
      " 1   DaysAnticipation  2015 non-null   int64 \n",
      " 2   Class             2015 non-null   object\n",
      " 3   Name              2015 non-null   object\n",
      " 4   PurchDate         2015 non-null   object\n",
      " 5   PurchDay          2015 non-null   object\n",
      " 6   Origin            2015 non-null   object\n",
      " 7   Destination       2015 non-null   object\n",
      " 8   Route             2015 non-null   object\n",
      " 9   Row ID            2015 non-null   int64 \n",
      " 10  Price             2015 non-null   int64 \n",
      " 11  TravelDate        2015 non-null   object\n",
      " 12  TravelDay         2015 non-null   object\n",
      " 13  Trips             2015 non-null   int64 \n",
      " 14  TypeTraveler      2015 non-null   object\n",
      " 15  Insure            2015 non-null   int32 \n",
      " 16  Sex               2015 non-null   object\n",
      "dtypes: int32(1), int64(4), object(12)\n",
      "memory usage: 275.5+ KB\n"
     ]
    }
   ],
   "source": [
    "df_new.info()"
   ]
  },
  {
   "cell_type": "markdown",
   "metadata": {},
   "source": [
    "### Convertir fechas a formato datetime."
   ]
  },
  {
   "cell_type": "code",
   "execution_count": 15,
   "metadata": {},
   "outputs": [],
   "source": [
    "df_new['TravelDate'] = pd.to_datetime(df_new['TravelDate'], format = '%d/%m/%Y')\n",
    "df_new['PurchDate'] = pd.to_datetime(df_new['PurchDate'], format = '%d/%m/%Y')"
   ]
  },
  {
   "cell_type": "markdown",
   "metadata": {},
   "source": [
    "### Obtenemos el mes de compra y de viaje."
   ]
  },
  {
   "cell_type": "code",
   "execution_count": 16,
   "metadata": {
    "scrolled": true
   },
   "outputs": [
    {
     "data": {
      "text/html": [
       "<div>\n",
       "<style scoped>\n",
       "    .dataframe tbody tr th:only-of-type {\n",
       "        vertical-align: middle;\n",
       "    }\n",
       "\n",
       "    .dataframe tbody tr th {\n",
       "        vertical-align: top;\n",
       "    }\n",
       "\n",
       "    .dataframe thead th {\n",
       "        text-align: right;\n",
       "    }\n",
       "</style>\n",
       "<table border=\"1\" class=\"dataframe\">\n",
       "  <thead>\n",
       "    <tr style=\"text-align: right;\">\n",
       "      <th></th>\n",
       "      <th>Airline</th>\n",
       "      <th>DaysAnticipation</th>\n",
       "      <th>Class</th>\n",
       "      <th>Name</th>\n",
       "      <th>PurchDate</th>\n",
       "      <th>PurchDay</th>\n",
       "      <th>Origin</th>\n",
       "      <th>Destination</th>\n",
       "      <th>Route</th>\n",
       "      <th>Row ID</th>\n",
       "      <th>Price</th>\n",
       "      <th>TravelDate</th>\n",
       "      <th>TravelDay</th>\n",
       "      <th>Trips</th>\n",
       "      <th>TypeTraveler</th>\n",
       "      <th>Insure</th>\n",
       "      <th>Sex</th>\n",
       "      <th>PurchMonth</th>\n",
       "      <th>TravelMonth</th>\n",
       "    </tr>\n",
       "  </thead>\n",
       "  <tbody>\n",
       "    <tr>\n",
       "      <th>0</th>\n",
       "      <td>Southwest</td>\n",
       "      <td>71</td>\n",
       "      <td>First Class</td>\n",
       "      <td>Aaron Bergman</td>\n",
       "      <td>2019-04-24</td>\n",
       "      <td>miércoles</td>\n",
       "      <td>DAL</td>\n",
       "      <td>HOU</td>\n",
       "      <td>DAL-HOU</td>\n",
       "      <td>1</td>\n",
       "      <td>246</td>\n",
       "      <td>2019-07-04</td>\n",
       "      <td>jueves</td>\n",
       "      <td>9</td>\n",
       "      <td>Casual</td>\n",
       "      <td>0</td>\n",
       "      <td>M</td>\n",
       "      <td>4</td>\n",
       "      <td>7</td>\n",
       "    </tr>\n",
       "    <tr>\n",
       "      <th>7</th>\n",
       "      <td>American Airlines</td>\n",
       "      <td>55</td>\n",
       "      <td>First Class</td>\n",
       "      <td>Aaron Bergman</td>\n",
       "      <td>2019-05-10</td>\n",
       "      <td>viernes</td>\n",
       "      <td>DFW</td>\n",
       "      <td>SEA</td>\n",
       "      <td>DFW-SEA</td>\n",
       "      <td>1161</td>\n",
       "      <td>476</td>\n",
       "      <td>2019-07-04</td>\n",
       "      <td>jueves</td>\n",
       "      <td>9</td>\n",
       "      <td>Casual</td>\n",
       "      <td>1</td>\n",
       "      <td>M</td>\n",
       "      <td>5</td>\n",
       "      <td>7</td>\n",
       "    </tr>\n",
       "    <tr>\n",
       "      <th>8</th>\n",
       "      <td>United</td>\n",
       "      <td>64</td>\n",
       "      <td>Economy</td>\n",
       "      <td>Aaron Bergman</td>\n",
       "      <td>2018-01-03</td>\n",
       "      <td>miércoles</td>\n",
       "      <td>DFW</td>\n",
       "      <td>HIO</td>\n",
       "      <td>DFW-HIO</td>\n",
       "      <td>5202</td>\n",
       "      <td>354</td>\n",
       "      <td>2018-03-08</td>\n",
       "      <td>jueves</td>\n",
       "      <td>9</td>\n",
       "      <td>Casual</td>\n",
       "      <td>1</td>\n",
       "      <td>M</td>\n",
       "      <td>1</td>\n",
       "      <td>3</td>\n",
       "    </tr>\n",
       "  </tbody>\n",
       "</table>\n",
       "</div>"
      ],
      "text/plain": [
       "             Airline  DaysAnticipation        Class           Name  PurchDate  \\\n",
       "0          Southwest                71  First Class  Aaron Bergman 2019-04-24   \n",
       "7  American Airlines                55  First Class  Aaron Bergman 2019-05-10   \n",
       "8             United                64      Economy  Aaron Bergman 2018-01-03   \n",
       "\n",
       "    PurchDay Origin Destination    Route  Row ID  Price TravelDate TravelDay  \\\n",
       "0  miércoles    DAL         HOU  DAL-HOU       1    246 2019-07-04    jueves   \n",
       "7    viernes    DFW         SEA  DFW-SEA    1161    476 2019-07-04    jueves   \n",
       "8  miércoles    DFW         HIO  DFW-HIO    5202    354 2018-03-08    jueves   \n",
       "\n",
       "   Trips TypeTraveler  Insure Sex  PurchMonth  TravelMonth  \n",
       "0      9       Casual       0   M           4            7  \n",
       "7      9       Casual       1   M           5            7  \n",
       "8      9       Casual       1   M           1            3  "
      ]
     },
     "execution_count": 16,
     "metadata": {},
     "output_type": "execute_result"
    }
   ],
   "source": [
    "df_new['PurchMonth'] = df_new['PurchDate'].dt.month\n",
    "df_new['TravelMonth'] = df_new['TravelDate'].dt.month\n",
    "df_new.head(3)"
   ]
  },
  {
   "cell_type": "markdown",
   "metadata": {},
   "source": [
    "## Agrupamiento de columnas por demanda."
   ]
  },
  {
   "cell_type": "markdown",
   "metadata": {},
   "source": [
    "Dado que el Dataset cuenta con pocos datos, para evitar tener demasiadas columnas que describan pocas variables se prueba agrupar el mes de compra, de viaje y la ruta de acuerdo a la temporada de demanda."
   ]
  },
  {
   "cell_type": "markdown",
   "metadata": {},
   "source": [
    "**Mes de compra**"
   ]
  },
  {
   "cell_type": "code",
   "execution_count": 17,
   "metadata": {},
   "outputs": [
    {
     "data": {
      "text/plain": [
       "10    13.895782\n",
       "9     13.548387\n",
       "8     11.910670\n",
       "11    11.861042\n",
       "7      8.188586\n",
       "3      6.997519\n",
       "6      6.947891\n",
       "5      6.600496\n",
       "4      6.054591\n",
       "2      5.161290\n",
       "12     4.962779\n",
       "1      3.870968\n",
       "Name: PurchMonth, dtype: float64"
      ]
     },
     "execution_count": 17,
     "metadata": {},
     "output_type": "execute_result"
    }
   ],
   "source": [
    "#sns.countplot(x='PurchMonth', data=df_new)\n",
    "df_purch=df_new['PurchMonth'].value_counts(normalize = True) * 100\n",
    "df_purch\n",
    "#Los meses 7, 8, 9, 10 y 11 concentran aprox el 60% de la demanda de meses de compra"
   ]
  },
  {
   "cell_type": "code",
   "execution_count": 18,
   "metadata": {},
   "outputs": [
    {
     "data": {
      "image/png": "[encoded data removed]",
      "text/plain": [
       "<Figure size 864x432 with 2 Axes>"
      ]
     },
     "metadata": {},
     "output_type": "display_data"
    }
   ],
   "source": [
    "plt.style.use('seaborn-darkgrid')\n",
    "fig, (ax1, ax2) = plt.subplots(1, 2, figsize = (12, 6))\n",
    "\n",
    "sns.boxplot(x = df_new['PurchMonth'], ax = ax1, linewidth=1.5)\n",
    "sns.histplot(x = df_new['PurchMonth'], ax = ax2, kde = True)\n",
    "\n",
    "ax1.tick_params(labelsize = 14)\n",
    "ax2.tick_params(labelsize = 14)"
   ]
  },
  {
   "cell_type": "markdown",
   "metadata": {},
   "source": [
    "**Mes de viaje**"
   ]
  },
  {
   "cell_type": "code",
   "execution_count": 19,
   "metadata": {},
   "outputs": [
    {
     "data": {
      "text/plain": [
       "12    19.007444\n",
       "11    16.426799\n",
       "9     13.846154\n",
       "10     9.330025\n",
       "6      7.047146\n",
       "7      6.401985\n",
       "5      6.253102\n",
       "8      5.558313\n",
       "3      5.359801\n",
       "4      5.260546\n",
       "1      3.027295\n",
       "2      2.481390\n",
       "Name: TravelMonth, dtype: float64"
      ]
     },
     "execution_count": 19,
     "metadata": {},
     "output_type": "execute_result"
    }
   ],
   "source": [
    "#sns.countplot(x='TravelMonth', data=df_new)\n",
    "df_travel=df_new['TravelMonth'].value_counts(normalize = True) * 100\n",
    "df_travel\n",
    "#Los meses 9, 10, 11 y 12 concentran aprox el 60% de la demanda de meses de viaje"
   ]
  },
  {
   "cell_type": "code",
   "execution_count": 20,
   "metadata": {},
   "outputs": [
    {
     "data": {
      "image/png": "[encoded data removed]",
      "text/plain": [
       "<Figure size 864x432 with 2 Axes>"
      ]
     },
     "metadata": {},
     "output_type": "display_data"
    }
   ],
   "source": [
    "plt.style.use('seaborn-darkgrid')\n",
    "fig, (ax1, ax2) = plt.subplots(1, 2, figsize = (12, 6))\n",
    "\n",
    "sns.boxplot(x = df_new['TravelMonth'], ax = ax1, linewidth=1.5)\n",
    "sns.histplot(x = df_new['TravelMonth'], ax = ax2, kde = True)\n",
    "\n",
    "ax1.tick_params(labelsize = 10)\n",
    "ax2.tick_params(labelsize = 10)"
   ]
  },
  {
   "cell_type": "markdown",
   "metadata": {},
   "source": [
    "**Rutas.**"
   ]
  },
  {
   "cell_type": "code",
   "execution_count": 21,
   "metadata": {},
   "outputs": [
    {
     "data": {
      "text/plain": [
       "DAL-PHX    10.769231\n",
       "DFW-COS     9.677419\n",
       "DFW-SEA     9.429280\n",
       "DFW-MCO     6.451613\n",
       "DFW-SAN     6.401985\n",
       "DFW-JFK     5.856079\n",
       "DFW-HIO     5.657568\n",
       "DFW-CMH     5.111663\n",
       "DFW-SLC     4.069479\n",
       "DAL-HOU     3.523573\n",
       "DAL-AUS     3.374690\n",
       "DFW-GRB     3.176179\n",
       "DAL-OKC     2.233251\n",
       "DFW-IAD     2.183623\n",
       "DAL-MDW     2.084367\n",
       "DAL-ATL     1.885856\n",
       "DFW-MEM     1.836228\n",
       "DFW-BUR     1.736973\n",
       "DAL-LGA     1.736973\n",
       "DFW-ELP     1.687345\n",
       "DAL-LAS     1.488834\n",
       "DFW-BUF     1.339950\n",
       "DAL-CLE     1.339950\n",
       "DAL-ELP     1.290323\n",
       "DAL-GRR     1.042184\n",
       "DFW-CHS     0.843672\n",
       "DFW-DSM     0.794045\n",
       "DAL-SFO     0.645161\n",
       "DFW-LNK     0.595533\n",
       "DAL-SEA     0.595533\n",
       "DAL-SLC     0.545906\n",
       "DAL-AMA     0.446650\n",
       "DAL-TUL     0.148883\n",
       "Name: Route, dtype: float64"
      ]
     },
     "execution_count": 21,
     "metadata": {},
     "output_type": "execute_result"
    }
   ],
   "source": [
    "df_route=df_new['Route'].value_counts(normalize = True) * 100\n",
    "df_route \n",
    "# 8 rutas concentran aprox el 60% de la demanda"
   ]
  },
  {
   "cell_type": "markdown",
   "metadata": {},
   "source": [
    "## Agrupamos las variables de Mes de compra, Mes de Viaje y Ruta, por demandas (Alta o baja).\n",
    "- Esto para disminuir la dimensionalidad del modelo al intrducir las variables."
   ]
  },
  {
   "cell_type": "code",
   "execution_count": 22,
   "metadata": {},
   "outputs": [
    {
     "data": {
      "text/html": [
       "<div>\n",
       "<style scoped>\n",
       "    .dataframe tbody tr th:only-of-type {\n",
       "        vertical-align: middle;\n",
       "    }\n",
       "\n",
       "    .dataframe tbody tr th {\n",
       "        vertical-align: top;\n",
       "    }\n",
       "\n",
       "    .dataframe thead th {\n",
       "        text-align: right;\n",
       "    }\n",
       "</style>\n",
       "<table border=\"1\" class=\"dataframe\">\n",
       "  <thead>\n",
       "    <tr style=\"text-align: right;\">\n",
       "      <th></th>\n",
       "      <th>Airline</th>\n",
       "      <th>DaysAnticipation</th>\n",
       "      <th>Class</th>\n",
       "      <th>Name</th>\n",
       "      <th>PurchDate</th>\n",
       "      <th>PurchDay</th>\n",
       "      <th>Origin</th>\n",
       "      <th>Destination</th>\n",
       "      <th>Route</th>\n",
       "      <th>Row ID</th>\n",
       "      <th>...</th>\n",
       "      <th>TravelDay</th>\n",
       "      <th>Trips</th>\n",
       "      <th>TypeTraveler</th>\n",
       "      <th>Insure</th>\n",
       "      <th>Sex</th>\n",
       "      <th>PurchMonth</th>\n",
       "      <th>TravelMonth</th>\n",
       "      <th>PurchDemand</th>\n",
       "      <th>TravelDemand</th>\n",
       "      <th>RouteDemand</th>\n",
       "    </tr>\n",
       "  </thead>\n",
       "  <tbody>\n",
       "    <tr>\n",
       "      <th>0</th>\n",
       "      <td>Southwest</td>\n",
       "      <td>71</td>\n",
       "      <td>First Class</td>\n",
       "      <td>Aaron Bergman</td>\n",
       "      <td>2019-04-24</td>\n",
       "      <td>miércoles</td>\n",
       "      <td>DAL</td>\n",
       "      <td>HOU</td>\n",
       "      <td>DAL-HOU</td>\n",
       "      <td>1</td>\n",
       "      <td>...</td>\n",
       "      <td>jueves</td>\n",
       "      <td>9</td>\n",
       "      <td>Casual</td>\n",
       "      <td>0</td>\n",
       "      <td>M</td>\n",
       "      <td>4</td>\n",
       "      <td>7</td>\n",
       "      <td>low</td>\n",
       "      <td>low</td>\n",
       "      <td>not crowded</td>\n",
       "    </tr>\n",
       "    <tr>\n",
       "      <th>7</th>\n",
       "      <td>American Airlines</td>\n",
       "      <td>55</td>\n",
       "      <td>First Class</td>\n",
       "      <td>Aaron Bergman</td>\n",
       "      <td>2019-05-10</td>\n",
       "      <td>viernes</td>\n",
       "      <td>DFW</td>\n",
       "      <td>SEA</td>\n",
       "      <td>DFW-SEA</td>\n",
       "      <td>1161</td>\n",
       "      <td>...</td>\n",
       "      <td>jueves</td>\n",
       "      <td>9</td>\n",
       "      <td>Casual</td>\n",
       "      <td>1</td>\n",
       "      <td>M</td>\n",
       "      <td>5</td>\n",
       "      <td>7</td>\n",
       "      <td>low</td>\n",
       "      <td>low</td>\n",
       "      <td>crowded</td>\n",
       "    </tr>\n",
       "    <tr>\n",
       "      <th>8</th>\n",
       "      <td>United</td>\n",
       "      <td>64</td>\n",
       "      <td>Economy</td>\n",
       "      <td>Aaron Bergman</td>\n",
       "      <td>2018-01-03</td>\n",
       "      <td>miércoles</td>\n",
       "      <td>DFW</td>\n",
       "      <td>HIO</td>\n",
       "      <td>DFW-HIO</td>\n",
       "      <td>5202</td>\n",
       "      <td>...</td>\n",
       "      <td>jueves</td>\n",
       "      <td>9</td>\n",
       "      <td>Casual</td>\n",
       "      <td>1</td>\n",
       "      <td>M</td>\n",
       "      <td>1</td>\n",
       "      <td>3</td>\n",
       "      <td>low</td>\n",
       "      <td>low</td>\n",
       "      <td>crowded</td>\n",
       "    </tr>\n",
       "  </tbody>\n",
       "</table>\n",
       "<p>3 rows × 22 columns</p>\n",
       "</div>"
      ],
      "text/plain": [
       "             Airline  DaysAnticipation        Class           Name  PurchDate  \\\n",
       "0          Southwest                71  First Class  Aaron Bergman 2019-04-24   \n",
       "7  American Airlines                55  First Class  Aaron Bergman 2019-05-10   \n",
       "8             United                64      Economy  Aaron Bergman 2018-01-03   \n",
       "\n",
       "    PurchDay Origin Destination    Route  Row ID  ...  TravelDay Trips  \\\n",
       "0  miércoles    DAL         HOU  DAL-HOU       1  ...     jueves     9   \n",
       "7    viernes    DFW         SEA  DFW-SEA    1161  ...     jueves     9   \n",
       "8  miércoles    DFW         HIO  DFW-HIO    5202  ...     jueves     9   \n",
       "\n",
       "  TypeTraveler  Insure Sex  PurchMonth TravelMonth  PurchDemand  TravelDemand  \\\n",
       "0       Casual       0   M           4           7          low           low   \n",
       "7       Casual       1   M           5           7          low           low   \n",
       "8       Casual       1   M           1           3          low           low   \n",
       "\n",
       "   RouteDemand  \n",
       "0  not crowded  \n",
       "7      crowded  \n",
       "8      crowded  \n",
       "\n",
       "[3 rows x 22 columns]"
      ]
     },
     "execution_count": 22,
     "metadata": {},
     "output_type": "execute_result"
    }
   ],
   "source": [
    "df_new['PurchDemand'] = np.where((df_new['PurchMonth']>=7)&(df_new['PurchMonth']<=11), 'high', 'low')\n",
    "df_new['TravelDemand'] = np.where((df_new['TravelMonth']>=9)&(df_new['TravelMonth']<=12), 'high', 'low')\n",
    "df_new['RouteDemand'] = np.where((df_new['Route']=='DAL-PHX')|(df_new['Route']=='DFW-COS')|(df_new['Route']=='DFW-SEA')|(df_new['Route']=='DFW-MCO')|(df_new['Route']=='DFW-SAN')|(df_new['Route']=='DFW-JFK')|(df_new['Route']=='DFW-HIO')|(df_new['Route']=='DFW-CMH'), 'crowded', 'not crowded')\n",
    "df_new.head(3)"
   ]
  },
  {
   "cell_type": "code",
   "execution_count": 23,
   "metadata": {},
   "outputs": [
    {
     "data": {
      "text/plain": [
       "high    58.610422\n",
       "low     41.389578\n",
       "Name: TravelDemand, dtype: float64"
      ]
     },
     "execution_count": 23,
     "metadata": {},
     "output_type": "execute_result"
    },
    {
     "data": {
      "image/png": "[encoded data removed]",
      "text/plain": [
       "<Figure size 432x288 with 1 Axes>"
      ]
     },
     "metadata": {},
     "output_type": "display_data"
    }
   ],
   "source": [
    "sns.countplot(x='TravelDemand', data=df_new)\n",
    "df_travel=df_new['TravelDemand'].value_counts(normalize = True) * 100\n",
    "df_travel\n",
    "#Prueba de proporción 60-40"
   ]
  },
  {
   "cell_type": "markdown",
   "metadata": {},
   "source": [
    "## Verificamos los valores de nuestras variables categoricas.\n"
   ]
  },
  {
   "cell_type": "code",
   "execution_count": 24,
   "metadata": {},
   "outputs": [],
   "source": [
    "# Función para verificar las opciones de las variables categóricas\n",
    "\n",
    "def categorical_options(categories):\n",
    "    cat_options = {}\n",
    "    for cat in categories:\n",
    "        options = list(set(df_new[cat]))\n",
    "        cat_options[cat] = options\n",
    "        \n",
    "    return cat_options"
   ]
  },
  {
   "cell_type": "code",
   "execution_count": 25,
   "metadata": {},
   "outputs": [
    {
     "data": {
      "text/plain": [
       "{'Airline': ['American Airlines', 'United', 'Delta', 'Southwest'],\n",
       " 'Class': ['First Class', 'Economy', 'Business'],\n",
       " 'RouteDemand': ['not crowded', 'crowded'],\n",
       " 'TypeTraveler': ['Infrequent', 'Frequent', 'Casual', 'Extreme'],\n",
       " 'Sex': ['M', 'F'],\n",
       " 'PurchDemand': ['high', 'low'],\n",
       " 'TravelDemand': ['high', 'low']}"
      ]
     },
     "execution_count": 25,
     "metadata": {},
     "output_type": "execute_result"
    }
   ],
   "source": [
    "categories = ['Airline', 'Class', 'RouteDemand', 'TypeTraveler','Sex', 'PurchDemand', 'TravelDemand', 'RouteDemand']\n",
    "categorical_options(categories)"
   ]
  },
  {
   "cell_type": "code",
   "execution_count": 26,
   "metadata": {},
   "outputs": [
    {
     "data": {
      "text/html": [
       "<div>\n",
       "<style scoped>\n",
       "    .dataframe tbody tr th:only-of-type {\n",
       "        vertical-align: middle;\n",
       "    }\n",
       "\n",
       "    .dataframe tbody tr th {\n",
       "        vertical-align: top;\n",
       "    }\n",
       "\n",
       "    .dataframe thead th {\n",
       "        text-align: right;\n",
       "    }\n",
       "</style>\n",
       "<table border=\"1\" class=\"dataframe\">\n",
       "  <thead>\n",
       "    <tr style=\"text-align: right;\">\n",
       "      <th></th>\n",
       "      <th>DaysAnticipation</th>\n",
       "      <th>Row ID</th>\n",
       "      <th>Price</th>\n",
       "      <th>Trips</th>\n",
       "      <th>Insure</th>\n",
       "      <th>PurchMonth</th>\n",
       "      <th>TravelMonth</th>\n",
       "    </tr>\n",
       "  </thead>\n",
       "  <tbody>\n",
       "    <tr>\n",
       "      <th>count</th>\n",
       "      <td>2015.000000</td>\n",
       "      <td>2015.000000</td>\n",
       "      <td>2015.000000</td>\n",
       "      <td>2015.000000</td>\n",
       "      <td>2015.000000</td>\n",
       "      <td>2015.000000</td>\n",
       "      <td>2015.000000</td>\n",
       "    </tr>\n",
       "    <tr>\n",
       "      <th>mean</th>\n",
       "      <td>43.486849</td>\n",
       "      <td>3603.788089</td>\n",
       "      <td>214.305211</td>\n",
       "      <td>7.481886</td>\n",
       "      <td>0.496774</td>\n",
       "      <td>7.376179</td>\n",
       "      <td>8.346402</td>\n",
       "    </tr>\n",
       "    <tr>\n",
       "      <th>std</th>\n",
       "      <td>26.777258</td>\n",
       "      <td>3241.811619</td>\n",
       "      <td>120.160066</td>\n",
       "      <td>4.310854</td>\n",
       "      <td>0.500114</td>\n",
       "      <td>3.097622</td>\n",
       "      <td>3.222332</td>\n",
       "    </tr>\n",
       "    <tr>\n",
       "      <th>min</th>\n",
       "      <td>4.000000</td>\n",
       "      <td>1.000000</td>\n",
       "      <td>40.000000</td>\n",
       "      <td>1.000000</td>\n",
       "      <td>0.000000</td>\n",
       "      <td>1.000000</td>\n",
       "      <td>1.000000</td>\n",
       "    </tr>\n",
       "    <tr>\n",
       "      <th>25%</th>\n",
       "      <td>23.000000</td>\n",
       "      <td>535.500000</td>\n",
       "      <td>120.000000</td>\n",
       "      <td>4.000000</td>\n",
       "      <td>0.000000</td>\n",
       "      <td>5.000000</td>\n",
       "      <td>6.000000</td>\n",
       "    </tr>\n",
       "    <tr>\n",
       "      <th>50%</th>\n",
       "      <td>37.000000</td>\n",
       "      <td>2769.000000</td>\n",
       "      <td>184.000000</td>\n",
       "      <td>7.000000</td>\n",
       "      <td>0.000000</td>\n",
       "      <td>8.000000</td>\n",
       "      <td>9.000000</td>\n",
       "    </tr>\n",
       "    <tr>\n",
       "      <th>75%</th>\n",
       "      <td>60.000000</td>\n",
       "      <td>6346.000000</td>\n",
       "      <td>286.000000</td>\n",
       "      <td>10.000000</td>\n",
       "      <td>1.000000</td>\n",
       "      <td>10.000000</td>\n",
       "      <td>11.000000</td>\n",
       "    </tr>\n",
       "    <tr>\n",
       "      <th>max</th>\n",
       "      <td>132.000000</td>\n",
       "      <td>9968.000000</td>\n",
       "      <td>673.000000</td>\n",
       "      <td>24.000000</td>\n",
       "      <td>1.000000</td>\n",
       "      <td>12.000000</td>\n",
       "      <td>12.000000</td>\n",
       "    </tr>\n",
       "  </tbody>\n",
       "</table>\n",
       "</div>"
      ],
      "text/plain": [
       "       DaysAnticipation       Row ID        Price        Trips       Insure  \\\n",
       "count       2015.000000  2015.000000  2015.000000  2015.000000  2015.000000   \n",
       "mean          43.486849  3603.788089   214.305211     7.481886     0.496774   \n",
       "std           26.777258  3241.811619   120.160066     4.310854     0.500114   \n",
       "min            4.000000     1.000000    40.000000     1.000000     0.000000   \n",
       "25%           23.000000   535.500000   120.000000     4.000000     0.000000   \n",
       "50%           37.000000  2769.000000   184.000000     7.000000     0.000000   \n",
       "75%           60.000000  6346.000000   286.000000    10.000000     1.000000   \n",
       "max          132.000000  9968.000000   673.000000    24.000000     1.000000   \n",
       "\n",
       "        PurchMonth  TravelMonth  \n",
       "count  2015.000000  2015.000000  \n",
       "mean      7.376179     8.346402  \n",
       "std       3.097622     3.222332  \n",
       "min       1.000000     1.000000  \n",
       "25%       5.000000     6.000000  \n",
       "50%       8.000000     9.000000  \n",
       "75%      10.000000    11.000000  \n",
       "max      12.000000    12.000000  "
      ]
     },
     "execution_count": 26,
     "metadata": {},
     "output_type": "execute_result"
    }
   ],
   "source": [
    "df_new.describe()"
   ]
  },
  {
   "cell_type": "markdown",
   "metadata": {},
   "source": [
    "## Comparación de Dataset 'Original' vs 'Limpio'"
   ]
  },
  {
   "cell_type": "markdown",
   "metadata": {},
   "source": [
    "### Proporción de asegurados"
   ]
  },
  {
   "cell_type": "code",
   "execution_count": 27,
   "metadata": {},
   "outputs": [
    {
     "data": {
      "text/plain": [
       "1    53.122953\n",
       "0    46.877047\n",
       "Name: Insure, dtype: float64"
      ]
     },
     "execution_count": 27,
     "metadata": {},
     "output_type": "execute_result"
    }
   ],
   "source": [
    "# Proporción de Asegurados con Dataset original\n",
    "df['Insure'].value_counts(normalize = True) * 100"
   ]
  },
  {
   "cell_type": "code",
   "execution_count": 28,
   "metadata": {},
   "outputs": [
    {
     "data": {
      "text/plain": [
       "1    49.677419\n",
       "0    50.322581\n",
       "Name: Insure, dtype: float64"
      ]
     },
     "execution_count": 28,
     "metadata": {},
     "output_type": "execute_result"
    }
   ],
   "source": [
    "# Proporción de Asegurados con dataset sin duplicados\n",
    "df_new['Insure'].value_counts(normalize = True, ascending = True) * 100"
   ]
  },
  {
   "cell_type": "code",
   "execution_count": 29,
   "metadata": {},
   "outputs": [
    {
     "data": {
      "text/plain": [
       "<AxesSubplot:xlabel='Insure', ylabel='count'>"
      ]
     },
     "execution_count": 29,
     "metadata": {},
     "output_type": "execute_result"
    },
    {
     "data": {
      "image/png": "[encoded data removed]",
      "text/plain": [
       "<Figure size 432x288 with 1 Axes>"
      ]
     },
     "metadata": {},
     "output_type": "display_data"
    }
   ],
   "source": [
    "# Gráfica con datos repetidos\n",
    "sns.countplot(x='Insure', data=df)"
   ]
  },
  {
   "cell_type": "code",
   "execution_count": 30,
   "metadata": {},
   "outputs": [
    {
     "data": {
      "text/plain": [
       "<AxesSubplot:xlabel='Insure', ylabel='count'>"
      ]
     },
     "execution_count": 30,
     "metadata": {},
     "output_type": "execute_result"
    },
    {
     "data": {
      "image/png": "[encoded data removed]",
      "text/plain": [
       "<Figure size 432x288 with 1 Axes>"
      ]
     },
     "metadata": {},
     "output_type": "display_data"
    }
   ],
   "source": [
    "# Gráfica sin datos repetidos\n",
    "sns.countplot(x='Insure', data=df_new)"
   ]
  },
  {
   "cell_type": "markdown",
   "metadata": {},
   "source": [
    "En escencia se mantienen las proporciones, el dataset está balanceado."
   ]
  },
  {
   "cell_type": "markdown",
   "metadata": {},
   "source": [
    "### Proporción de Aerolineas"
   ]
  },
  {
   "cell_type": "code",
   "execution_count": 31,
   "metadata": {},
   "outputs": [
    {
     "data": {
      "text/plain": [
       "Southwest            69.469316\n",
       "American Airlines    10.548155\n",
       "Delta                10.198733\n",
       "United                9.783796\n",
       "Name: Airline, dtype: float64"
      ]
     },
     "execution_count": 31,
     "metadata": {},
     "output_type": "execute_result"
    }
   ],
   "source": [
    "#Proporcion de aerolineas en Dataset original\n",
    "df['Airline'].value_counts(normalize = True) * 100"
   ]
  },
  {
   "cell_type": "code",
   "execution_count": 32,
   "metadata": {},
   "outputs": [
    {
     "data": {
      "text/plain": [
       "Southwest            33.151365\n",
       "American Airlines    23.126551\n",
       "Delta                22.382134\n",
       "United               21.339950\n",
       "Name: Airline, dtype: float64"
      ]
     },
     "execution_count": 32,
     "metadata": {},
     "output_type": "execute_result"
    }
   ],
   "source": [
    "#Proporcion de aerolineas en Dataset sin duplicados\n",
    "df_new['Airline'].value_counts(normalize = True) * 100"
   ]
  },
  {
   "cell_type": "code",
   "execution_count": 33,
   "metadata": {},
   "outputs": [
    {
     "data": {
      "text/plain": [
       "<AxesSubplot:xlabel='Airline', ylabel='count'>"
      ]
     },
     "execution_count": 33,
     "metadata": {},
     "output_type": "execute_result"
    },
    {
     "data": {
      "image/png": "[encoded data removed]",
      "text/plain": [
       "<Figure size 432x288 with 1 Axes>"
      ]
     },
     "metadata": {},
     "output_type": "display_data"
    }
   ],
   "source": [
    "# Gráfica de Dataset original\n",
    "sns.countplot(x='Airline', data=df)"
   ]
  },
  {
   "cell_type": "code",
   "execution_count": 34,
   "metadata": {},
   "outputs": [
    {
     "data": {
      "text/plain": [
       "<AxesSubplot:xlabel='Airline', ylabel='count'>"
      ]
     },
     "execution_count": 34,
     "metadata": {},
     "output_type": "execute_result"
    },
    {
     "data": {
      "image/png": "[encoded data removed]",
      "text/plain": [
       "<Figure size 432x288 with 1 Axes>"
      ]
     },
     "metadata": {},
     "output_type": "display_data"
    }
   ],
   "source": [
    "#Gráfica de Dataset sin duplicados\n",
    "sns.countplot(x='Airline', data=df_new)"
   ]
  },
  {
   "cell_type": "markdown",
   "metadata": {},
   "source": [
    "La diferencia de proporciones es notoria, la más notoria es sobre 'Southwest', que en el dataset original es diez veces el tamaño del dataset ya limpio y el resto son el doble. "
   ]
  },
  {
   "cell_type": "markdown",
   "metadata": {},
   "source": [
    "### Proporción de aeropuerto de origen"
   ]
  },
  {
   "cell_type": "code",
   "execution_count": 35,
   "metadata": {},
   "outputs": [
    {
     "data": {
      "text/plain": [
       "DAL    69.469316\n",
       "DFW    30.530684\n",
       "Name: Origin, dtype: float64"
      ]
     },
     "execution_count": 35,
     "metadata": {},
     "output_type": "execute_result"
    }
   ],
   "source": [
    "# Proporcion de dataset original\n",
    "df['Origin'].value_counts(normalize = True) * 100"
   ]
  },
  {
   "cell_type": "code",
   "execution_count": 36,
   "metadata": {},
   "outputs": [
    {
     "data": {
      "text/plain": [
       "DFW    66.848635\n",
       "DAL    33.151365\n",
       "Name: Origin, dtype: float64"
      ]
     },
     "execution_count": 36,
     "metadata": {},
     "output_type": "execute_result"
    }
   ],
   "source": [
    "# Proporcion de dataset sin duplicados\n",
    "df_new['Origin'].value_counts(normalize = True) * 100"
   ]
  },
  {
   "cell_type": "code",
   "execution_count": 37,
   "metadata": {},
   "outputs": [
    {
     "data": {
      "text/plain": [
       "<AxesSubplot:xlabel='Origin', ylabel='count'>"
      ]
     },
     "execution_count": 37,
     "metadata": {},
     "output_type": "execute_result"
    },
    {
     "data": {
      "image/png": "[encoded data removed]",
      "text/plain": [
       "<Figure size 432x288 with 1 Axes>"
      ]
     },
     "metadata": {},
     "output_type": "display_data"
    }
   ],
   "source": [
    "# Grafica con datos originales\n",
    "sns.countplot(x='Origin', data=df)"
   ]
  },
  {
   "cell_type": "code",
   "execution_count": 38,
   "metadata": {},
   "outputs": [
    {
     "data": {
      "text/plain": [
       "<AxesSubplot:xlabel='Origin', ylabel='count'>"
      ]
     },
     "execution_count": 38,
     "metadata": {},
     "output_type": "execute_result"
    },
    {
     "data": {
      "image/png": "[encoded data removed]",
      "text/plain": [
       "<Figure size 432x288 with 1 Axes>"
      ]
     },
     "metadata": {},
     "output_type": "display_data"
    }
   ],
   "source": [
    "# Grafica sin repetidos\n",
    "sns.countplot(x='Origin', data=df_new)"
   ]
  },
  {
   "cell_type": "markdown",
   "metadata": {},
   "source": [
    "La proporción entre el dataset antes de limpiarlo es invertida"
   ]
  },
  {
   "cell_type": "markdown",
   "metadata": {},
   "source": [
    "### Proporción de género de pasajero"
   ]
  },
  {
   "cell_type": "code",
   "execution_count": 39,
   "metadata": {},
   "outputs": [
    {
     "data": {
      "text/plain": [
       "M    64.577419\n",
       "F    35.422581\n",
       "Name: Sex, dtype: float64"
      ]
     },
     "execution_count": 39,
     "metadata": {},
     "output_type": "execute_result"
    }
   ],
   "source": [
    "df['Sex'].value_counts(normalize = True) * 100"
   ]
  },
  {
   "cell_type": "code",
   "execution_count": 40,
   "metadata": {},
   "outputs": [
    {
     "data": {
      "text/plain": [
       "M    65.756824\n",
       "F    34.243176\n",
       "Name: Sex, dtype: float64"
      ]
     },
     "execution_count": 40,
     "metadata": {},
     "output_type": "execute_result"
    }
   ],
   "source": [
    "df_new['Sex'].value_counts(normalize = True) * 100"
   ]
  },
  {
   "cell_type": "code",
   "execution_count": 41,
   "metadata": {},
   "outputs": [
    {
     "data": {
      "text/plain": [
       "<AxesSubplot:xlabel='Sex', ylabel='count'>"
      ]
     },
     "execution_count": 41,
     "metadata": {},
     "output_type": "execute_result"
    },
    {
     "data": {
      "image/png": "[encoded data removed]",
      "text/plain": [
       "<Figure size 432x288 with 1 Axes>"
      ]
     },
     "metadata": {},
     "output_type": "display_data"
    }
   ],
   "source": [
    "# Grafica con datos originales\n",
    "sns.countplot(x='Sex', data=df)"
   ]
  },
  {
   "cell_type": "code",
   "execution_count": 42,
   "metadata": {},
   "outputs": [
    {
     "data": {
      "text/plain": [
       "<AxesSubplot:xlabel='Sex', ylabel='count'>"
      ]
     },
     "execution_count": 42,
     "metadata": {},
     "output_type": "execute_result"
    },
    {
     "data": {
      "image/png": "[encoded data removed]",
      "text/plain": [
       "<Figure size 432x288 with 1 Axes>"
      ]
     },
     "metadata": {},
     "output_type": "display_data"
    }
   ],
   "source": [
    "# Gráfica sin datos repetidos\n",
    "sns.countplot(x='Sex', data=df_new)"
   ]
  },
  {
   "cell_type": "markdown",
   "metadata": {},
   "source": [
    "La proporción en escencia se mantiene igual."
   ]
  },
  {
   "cell_type": "markdown",
   "metadata": {},
   "source": [
    "### Proporción de Tipo de viajero"
   ]
  },
  {
   "cell_type": "code",
   "execution_count": 43,
   "metadata": {},
   "outputs": [
    {
     "data": {
      "text/plain": [
       "Casual        52.129286\n",
       "Frequent      21.511247\n",
       "Infrequent    18.999782\n",
       "Extreme        7.359686\n",
       "Name: TypeTraveler, dtype: float64"
      ]
     },
     "execution_count": 43,
     "metadata": {},
     "output_type": "execute_result"
    }
   ],
   "source": [
    "df['TypeTraveler'].value_counts(normalize = True, ascending = False) * 100"
   ]
  },
  {
   "cell_type": "code",
   "execution_count": 44,
   "metadata": {},
   "outputs": [
    {
     "data": {
      "text/plain": [
       "Casual        50.074442\n",
       "Infrequent    28.287841\n",
       "Frequent      16.625310\n",
       "Extreme        5.012407\n",
       "Name: TypeTraveler, dtype: float64"
      ]
     },
     "execution_count": 44,
     "metadata": {},
     "output_type": "execute_result"
    }
   ],
   "source": [
    "df_new['TypeTraveler'].value_counts(normalize = True, ascending = False) * 100"
   ]
  },
  {
   "cell_type": "code",
   "execution_count": 45,
   "metadata": {},
   "outputs": [
    {
     "data": {
      "text/plain": [
       "<AxesSubplot:xlabel='TypeTraveler', ylabel='count'>"
      ]
     },
     "execution_count": 45,
     "metadata": {},
     "output_type": "execute_result"
    },
    {
     "data": {
      "image/png": "[encoded data removed]",
      "text/plain": [
       "<Figure size 432x288 with 1 Axes>"
      ]
     },
     "metadata": {},
     "output_type": "display_data"
    }
   ],
   "source": [
    "# Gráfica con datos repetidos\n",
    "sns.countplot(x='TypeTraveler', data=df)"
   ]
  },
  {
   "cell_type": "code",
   "execution_count": 46,
   "metadata": {},
   "outputs": [
    {
     "data": {
      "text/plain": [
       "<AxesSubplot:xlabel='TypeTraveler', ylabel='count'>"
      ]
     },
     "execution_count": 46,
     "metadata": {},
     "output_type": "execute_result"
    },
    {
     "data": {
      "image/png": "[encoded data removed]",
      "text/plain": [
       "<Figure size 432x288 with 1 Axes>"
      ]
     },
     "metadata": {},
     "output_type": "display_data"
    }
   ],
   "source": [
    "# Gráfica sin datos repetidos\n",
    "sns.countplot(x='TypeTraveler', data=df_new)"
   ]
  },
  {
   "cell_type": "markdown",
   "metadata": {},
   "source": [
    "En escencia, la proporción se mantiene, a excepción de una ligera diferencia en ``Frequent`` e ``Infrequent``"
   ]
  },
  {
   "cell_type": "markdown",
   "metadata": {},
   "source": [
    "### Proporción de precios de vuelos"
   ]
  },
  {
   "cell_type": "code",
   "execution_count": 47,
   "metadata": {},
   "outputs": [
    {
     "data": {
      "image/png": "[encoded data removed]",
      "text/plain": [
       "<Figure size 864x432 with 2 Axes>"
      ]
     },
     "metadata": {},
     "output_type": "display_data"
    }
   ],
   "source": [
    "# Con datos repetidos\n",
    "plt.style.use('seaborn-darkgrid')\n",
    "fig, (ax1, ax2) = plt.subplots(1, 2, figsize = (12, 6))\n",
    "\n",
    "sns.boxplot(x = df['Price'], ax = ax1, linewidth=1.5)\n",
    "sns.histplot(x = df['Price'], ax = ax2, kde = True)\n",
    "\n",
    "ax1.tick_params(labelsize = 14)\n",
    "ax2.tick_params(labelsize = 14)"
   ]
  },
  {
   "cell_type": "code",
   "execution_count": 48,
   "metadata": {},
   "outputs": [
    {
     "data": {
      "image/png": "[encoded data removed]",
      "text/plain": [
       "<Figure size 864x432 with 2 Axes>"
      ]
     },
     "metadata": {},
     "output_type": "display_data"
    }
   ],
   "source": [
    "# Sin datos repetidos\n",
    "plt.style.use('seaborn-darkgrid')\n",
    "fig, (ax1, ax2) = plt.subplots(1, 2, figsize = (12, 6))\n",
    "\n",
    "sns.boxplot(x = df_new['Price'], ax = ax1, linewidth=1.5)\n",
    "sns.histplot(x = df_new['Price'], ax = ax2, kde = True)\n",
    "\n",
    "ax1.tick_params(labelsize = 14)\n",
    "ax2.tick_params(labelsize = 14)"
   ]
  },
  {
   "cell_type": "markdown",
   "metadata": {},
   "source": [
    "La distribución se mantiene"
   ]
  },
  {
   "cell_type": "markdown",
   "metadata": {},
   "source": [
    "### Proporción de viajes"
   ]
  },
  {
   "cell_type": "code",
   "execution_count": 49,
   "metadata": {},
   "outputs": [
    {
     "data": {
      "image/png": "[encoded data removed]",
      "text/plain": [
       "<Figure size 864x432 with 2 Axes>"
      ]
     },
     "metadata": {},
     "output_type": "display_data"
    }
   ],
   "source": [
    "#Con datos repetidos\n",
    "plt.style.use('seaborn-darkgrid')\n",
    "fig, (ax1, ax2) = plt.subplots(1, 2, figsize = (12, 6))\n",
    "\n",
    "sns.boxplot(x = df['Trips'], ax = ax1, linewidth=1.5)\n",
    "sns.histplot(x = df['Trips'], ax = ax2, kde = True)\n",
    "\n",
    "ax1.tick_params(labelsize = 14)\n",
    "ax2.tick_params(labelsize = 14)"
   ]
  },
  {
   "cell_type": "code",
   "execution_count": 50,
   "metadata": {},
   "outputs": [
    {
     "data": {
      "image/png": "[encoded data removed]",
      "text/plain": [
       "<Figure size 864x432 with 2 Axes>"
      ]
     },
     "metadata": {},
     "output_type": "display_data"
    }
   ],
   "source": [
    "# Sin datos repetidos\n",
    "plt.style.use('seaborn-darkgrid')\n",
    "fig, (ax1, ax2) = plt.subplots(1, 2, figsize = (12, 6))\n",
    "\n",
    "sns.boxplot(x = df_new['Trips'], ax = ax1, linewidth=1.5)\n",
    "sns.histplot(x = df_new['Trips'], ax = ax2, kde = True)\n",
    "\n",
    "ax1.tick_params(labelsize = 14)\n",
    "ax2.tick_params(labelsize = 14)"
   ]
  },
  {
   "cell_type": "markdown",
   "metadata": {},
   "source": [
    "La distribución se mantiene."
   ]
  },
  {
   "cell_type": "markdown",
   "metadata": {},
   "source": [
    "### Proporción de días de anticipación"
   ]
  },
  {
   "cell_type": "code",
   "execution_count": 51,
   "metadata": {},
   "outputs": [
    {
     "data": {
      "image/png": "[encoded data removed]",
      "text/plain": [
       "<Figure size 864x432 with 2 Axes>"
      ]
     },
     "metadata": {},
     "output_type": "display_data"
    }
   ],
   "source": [
    "# Con datos repetidos\n",
    "plt.style.use('seaborn-darkgrid')\n",
    "fig, (ax1, ax2) = plt.subplots(1, 2, figsize = (12, 6))\n",
    "\n",
    "sns.boxplot(x = df['DaysAnticipation'], ax = ax1, linewidth=1.5)\n",
    "sns.histplot(x = df['DaysAnticipation'], ax = ax2, kde = True)\n",
    "\n",
    "ax1.tick_params(labelsize = 14)\n",
    "ax2.tick_params(labelsize = 14)"
   ]
  },
  {
   "cell_type": "code",
   "execution_count": 52,
   "metadata": {},
   "outputs": [
    {
     "data": {
      "image/png": "[encoded data removed]",
      "text/plain": [
       "<Figure size 864x432 with 2 Axes>"
      ]
     },
     "metadata": {},
     "output_type": "display_data"
    }
   ],
   "source": [
    "# Sin datos repetidos\n",
    "plt.style.use('seaborn-darkgrid')\n",
    "fig, (ax1, ax2) = plt.subplots(1, 2, figsize = (12, 6))\n",
    "\n",
    "sns.boxplot(x = df_new['DaysAnticipation'], ax = ax1, linewidth=1.5)\n",
    "sns.histplot(x = df_new['DaysAnticipation'], ax = ax2, kde = True)\n",
    "\n",
    "ax1.tick_params(labelsize = 14)\n",
    "ax2.tick_params(labelsize = 14)"
   ]
  },
  {
   "cell_type": "markdown",
   "metadata": {},
   "source": [
    "La distribución no cambia"
   ]
  },
  {
   "cell_type": "markdown",
   "metadata": {},
   "source": [
    "## Usando pruebas estadisticas intentamos identificar cuáles variables son relevantes para nuestro modelo."
   ]
  },
  {
   "cell_type": "markdown",
   "metadata": {},
   "source": [
    "### t - test\n",
    "\n",
    "Esta prueba nos ayuda a comprobar si las medias de dos muestras independientes son significativamente diferentes. Esta prueba toma como hipótesis nula que dos muestras independientes tienen medias idénticas.\n",
    "\n",
    "Ho: Ambas medias son iguales"
   ]
  },
  {
   "cell_type": "markdown",
   "metadata": {},
   "source": [
    "**Insure vs Price**"
   ]
  },
  {
   "cell_type": "code",
   "execution_count": 53,
   "metadata": {},
   "outputs": [
    {
     "data": {
      "text/plain": [
       "(236.23276723276723, 192.6587771203156)"
      ]
     },
     "execution_count": 53,
     "metadata": {},
     "output_type": "execute_result"
    }
   ],
   "source": [
    "# Pruebas estadísticas\n",
    "\n",
    "si_insure = df_new[df_new['Insure']==True]['Price']\n",
    "no_insure = df_new[df_new['Insure']==False]['Price']\n",
    "si_insure.mean(), no_insure.mean()\n",
    "#Los que 'si se aseguraron' pagaron menos que los que 'no' en promedio ¿Es diferencia estadistica? Es decir...\n",
    "#Si vuelvo a muestrear, ¿será la misma diferencia?"
   ]
  },
  {
   "cell_type": "code",
   "execution_count": 54,
   "metadata": {},
   "outputs": [
    {
     "data": {
      "text/plain": [
       "Ttest_indResult(statistic=8.274085702941461, pvalue=2.3254156118395345e-16)"
      ]
     },
     "execution_count": 54,
     "metadata": {},
     "output_type": "execute_result"
    }
   ],
   "source": [
    "st.ttest_ind(si_insure,no_insure)\n",
    "#p-value es muy pequeño, Ho se descarta"
   ]
  },
  {
   "cell_type": "markdown",
   "metadata": {},
   "source": [
    "**Insure vs DaysAnticipation**"
   ]
  },
  {
   "cell_type": "code",
   "execution_count": 55,
   "metadata": {},
   "outputs": [
    {
     "data": {
      "text/plain": [
       "(43.61538461538461, 43.35996055226825)"
      ]
     },
     "execution_count": 55,
     "metadata": {},
     "output_type": "execute_result"
    }
   ],
   "source": [
    "si_insure = df_new[df_new['Insure']==True]['DaysAnticipation']\n",
    "no_insure = df_new[df_new['Insure']==False]['DaysAnticipation']\n",
    "si_insure.mean(), no_insure.mean()\n",
    "#Los que 'si se aseguraron' pagaron menos que los que 'no' en promedio ¿Es diferencia estadistica? Es decir...\n",
    "#Si vuelvo a muestrear, ¿será la misma diferencia?"
   ]
  },
  {
   "cell_type": "code",
   "execution_count": 56,
   "metadata": {},
   "outputs": [
    {
     "data": {
      "text/plain": [
       "Ttest_indResult(statistic=0.2140382009821105, pvalue=0.8305389446406821)"
      ]
     },
     "execution_count": 56,
     "metadata": {},
     "output_type": "execute_result"
    }
   ],
   "source": [
    "st.ttest_ind(si_insure,no_insure)"
   ]
  },
  {
   "cell_type": "markdown",
   "metadata": {},
   "source": [
    "### Anova\n",
    "\n",
    "Para comparar medias entre las variables"
   ]
  },
  {
   "cell_type": "code",
   "execution_count": 57,
   "metadata": {},
   "outputs": [
    {
     "data": {
      "text/plain": [
       "<AxesSubplot:xlabel='Price', ylabel='TypeTraveler'>"
      ]
     },
     "execution_count": 57,
     "metadata": {},
     "output_type": "execute_result"
    },
    {
     "data": {
      "image/png": "[encoded data removed]",
      "text/plain": [
       "<Figure size 432x288 with 1 Axes>"
      ]
     },
     "metadata": {},
     "output_type": "display_data"
    }
   ],
   "source": [
    "sns.boxplot(data = df_new, x = 'Price', y = 'TypeTraveler')"
   ]
  },
  {
   "cell_type": "code",
   "execution_count": 58,
   "metadata": {},
   "outputs": [],
   "source": [
    "casual = df_new[df_new['TypeTraveler'] == 'Casual']['Price']\n",
    "Infrequent = df_new[df_new['TypeTraveler'] == 'Infrequent']['Price']\n",
    "Extreme = df_new[df_new['TypeTraveler'] == 'Extreme']['Price']\n",
    "Frequent = df_new[df_new['TypeTraveler'] == 'Frequent']['Price']"
   ]
  },
  {
   "cell_type": "markdown",
   "metadata": {},
   "source": [
    "Ho: Todas las medias son iguales"
   ]
  },
  {
   "cell_type": "code",
   "execution_count": 59,
   "metadata": {},
   "outputs": [
    {
     "data": {
      "text/plain": [
       "KruskalResult(statistic=28.7195666747494, pvalue=2.5648117582455448e-06)"
      ]
     },
     "execution_count": 59,
     "metadata": {},
     "output_type": "execute_result"
    }
   ],
   "source": [
    "st.kruskal(casual,Infrequent,Extreme,Frequent)\n",
    "#Ho se descarta"
   ]
  },
  {
   "cell_type": "code",
   "execution_count": 60,
   "metadata": {},
   "outputs": [
    {
     "data": {
      "text/plain": [
       "Index(['Airline', 'DaysAnticipation', 'Class', 'Name', 'PurchDate', 'PurchDay',\n",
       "       'Origin', 'Destination', 'Route', 'Row ID', 'Price', 'TravelDate',\n",
       "       'TravelDay', 'Trips', 'TypeTraveler', 'Insure', 'Sex', 'PurchMonth',\n",
       "       'TravelMonth', 'PurchDemand', 'TravelDemand', 'RouteDemand'],\n",
       "      dtype='object')"
      ]
     },
     "execution_count": 60,
     "metadata": {},
     "output_type": "execute_result"
    }
   ],
   "source": [
    "df_new.columns"
   ]
  },
  {
   "cell_type": "markdown",
   "metadata": {},
   "source": [
    "### Chi2\n",
    "\n",
    "Esta prueba se utiliza para saber si dos variables son independientes o no. En este caso, se toma como hipótesis nula independencia entre las variables.\n",
    "\n",
    "Ho: Ambas variables son independientes\n",
    "\n",
    "\n",
    "**TypeTraveler vs Insure**"
   ]
  },
  {
   "cell_type": "code",
   "execution_count": 61,
   "metadata": {},
   "outputs": [
    {
     "data": {
      "text/html": [
       "<div>\n",
       "<style scoped>\n",
       "    .dataframe tbody tr th:only-of-type {\n",
       "        vertical-align: middle;\n",
       "    }\n",
       "\n",
       "    .dataframe tbody tr th {\n",
       "        vertical-align: top;\n",
       "    }\n",
       "\n",
       "    .dataframe thead th {\n",
       "        text-align: right;\n",
       "    }\n",
       "</style>\n",
       "<table border=\"1\" class=\"dataframe\">\n",
       "  <thead>\n",
       "    <tr style=\"text-align: right;\">\n",
       "      <th>Insure</th>\n",
       "      <th>0</th>\n",
       "      <th>1</th>\n",
       "    </tr>\n",
       "    <tr>\n",
       "      <th>TypeTraveler</th>\n",
       "      <th></th>\n",
       "      <th></th>\n",
       "    </tr>\n",
       "  </thead>\n",
       "  <tbody>\n",
       "    <tr>\n",
       "      <th>Casual</th>\n",
       "      <td>500</td>\n",
       "      <td>509</td>\n",
       "    </tr>\n",
       "    <tr>\n",
       "      <th>Extreme</th>\n",
       "      <td>74</td>\n",
       "      <td>27</td>\n",
       "    </tr>\n",
       "    <tr>\n",
       "      <th>Frequent</th>\n",
       "      <td>160</td>\n",
       "      <td>175</td>\n",
       "    </tr>\n",
       "    <tr>\n",
       "      <th>Infrequent</th>\n",
       "      <td>280</td>\n",
       "      <td>290</td>\n",
       "    </tr>\n",
       "  </tbody>\n",
       "</table>\n",
       "</div>"
      ],
      "text/plain": [
       "Insure          0    1\n",
       "TypeTraveler          \n",
       "Casual        500  509\n",
       "Extreme        74   27\n",
       "Frequent      160  175\n",
       "Infrequent    280  290"
      ]
     },
     "execution_count": 61,
     "metadata": {},
     "output_type": "execute_result"
    }
   ],
   "source": [
    "observed = pd.crosstab(df_new['TypeTraveler'],df_new['Insure'])\n",
    "observed"
   ]
  },
  {
   "cell_type": "markdown",
   "metadata": {},
   "source": [
    "Ho: Ambas variables son independientes"
   ]
  },
  {
   "cell_type": "code",
   "execution_count": 62,
   "metadata": {},
   "outputs": [
    {
     "data": {
      "text/plain": [
       "4.62848464954136e-05"
      ]
     },
     "execution_count": 62,
     "metadata": {},
     "output_type": "execute_result"
    }
   ],
   "source": [
    "chi, p, dof, expected = st.chi2_contingency(pd.crosstab(df_new['TypeTraveler'],df_new['Insure']))\n",
    "p"
   ]
  },
  {
   "cell_type": "code",
   "execution_count": 63,
   "metadata": {},
   "outputs": [
    {
     "data": {
      "text/html": [
       "<div>\n",
       "<style scoped>\n",
       "    .dataframe tbody tr th:only-of-type {\n",
       "        vertical-align: middle;\n",
       "    }\n",
       "\n",
       "    .dataframe tbody tr th {\n",
       "        vertical-align: top;\n",
       "    }\n",
       "\n",
       "    .dataframe thead th {\n",
       "        text-align: right;\n",
       "    }\n",
       "</style>\n",
       "<table border=\"1\" class=\"dataframe\">\n",
       "  <thead>\n",
       "    <tr style=\"text-align: right;\">\n",
       "      <th>Insure</th>\n",
       "      <th>0</th>\n",
       "      <th>1</th>\n",
       "    </tr>\n",
       "    <tr>\n",
       "      <th>TypeTraveler</th>\n",
       "      <th></th>\n",
       "      <th></th>\n",
       "    </tr>\n",
       "  </thead>\n",
       "  <tbody>\n",
       "    <tr>\n",
       "      <th>Casual</th>\n",
       "      <td>507.754839</td>\n",
       "      <td>501.245161</td>\n",
       "    </tr>\n",
       "    <tr>\n",
       "      <th>Extreme</th>\n",
       "      <td>50.825806</td>\n",
       "      <td>50.174194</td>\n",
       "    </tr>\n",
       "    <tr>\n",
       "      <th>Frequent</th>\n",
       "      <td>168.580645</td>\n",
       "      <td>166.419355</td>\n",
       "    </tr>\n",
       "    <tr>\n",
       "      <th>Infrequent</th>\n",
       "      <td>286.838710</td>\n",
       "      <td>283.161290</td>\n",
       "    </tr>\n",
       "  </tbody>\n",
       "</table>\n",
       "</div>"
      ],
      "text/plain": [
       "Insure                 0           1\n",
       "TypeTraveler                        \n",
       "Casual        507.754839  501.245161\n",
       "Extreme        50.825806   50.174194\n",
       "Frequent      168.580645  166.419355\n",
       "Infrequent    286.838710  283.161290"
      ]
     },
     "execution_count": 63,
     "metadata": {},
     "output_type": "execute_result"
    }
   ],
   "source": [
    "pd.DataFrame(data = expected, index = observed.index, columns = observed.columns)\n",
    "# Si Insure y TypeTraveler fueran independientes, esto esperaría ver:"
   ]
  },
  {
   "cell_type": "markdown",
   "metadata": {},
   "source": [
    "**Airline vs Insure**"
   ]
  },
  {
   "cell_type": "code",
   "execution_count": 64,
   "metadata": {},
   "outputs": [
    {
     "data": {
      "text/html": [
       "<div>\n",
       "<style scoped>\n",
       "    .dataframe tbody tr th:only-of-type {\n",
       "        vertical-align: middle;\n",
       "    }\n",
       "\n",
       "    .dataframe tbody tr th {\n",
       "        vertical-align: top;\n",
       "    }\n",
       "\n",
       "    .dataframe thead th {\n",
       "        text-align: right;\n",
       "    }\n",
       "</style>\n",
       "<table border=\"1\" class=\"dataframe\">\n",
       "  <thead>\n",
       "    <tr style=\"text-align: right;\">\n",
       "      <th>Insure</th>\n",
       "      <th>0</th>\n",
       "      <th>1</th>\n",
       "    </tr>\n",
       "    <tr>\n",
       "      <th>Airline</th>\n",
       "      <th></th>\n",
       "      <th></th>\n",
       "    </tr>\n",
       "  </thead>\n",
       "  <tbody>\n",
       "    <tr>\n",
       "      <th>American Airlines</th>\n",
       "      <td>176</td>\n",
       "      <td>290</td>\n",
       "    </tr>\n",
       "    <tr>\n",
       "      <th>Delta</th>\n",
       "      <td>183</td>\n",
       "      <td>268</td>\n",
       "    </tr>\n",
       "    <tr>\n",
       "      <th>Southwest</th>\n",
       "      <td>490</td>\n",
       "      <td>178</td>\n",
       "    </tr>\n",
       "    <tr>\n",
       "      <th>United</th>\n",
       "      <td>165</td>\n",
       "      <td>265</td>\n",
       "    </tr>\n",
       "  </tbody>\n",
       "</table>\n",
       "</div>"
      ],
      "text/plain": [
       "Insure               0    1\n",
       "Airline                    \n",
       "American Airlines  176  290\n",
       "Delta              183  268\n",
       "Southwest          490  178\n",
       "United             165  265"
      ]
     },
     "execution_count": 64,
     "metadata": {},
     "output_type": "execute_result"
    }
   ],
   "source": [
    "observed = pd.crosstab(df_new['Airline'],df_new['Insure'])\n",
    "observed"
   ]
  },
  {
   "cell_type": "code",
   "execution_count": 65,
   "metadata": {},
   "outputs": [
    {
     "data": {
      "text/plain": [
       "7.178841511531757e-46"
      ]
     },
     "execution_count": 65,
     "metadata": {},
     "output_type": "execute_result"
    }
   ],
   "source": [
    "chi, p, dof, expected = st.chi2_contingency(pd.crosstab(df_new['Airline'],df_new['Insure']))\n",
    "p"
   ]
  },
  {
   "cell_type": "code",
   "execution_count": 66,
   "metadata": {},
   "outputs": [
    {
     "data": {
      "text/html": [
       "<div>\n",
       "<style scoped>\n",
       "    .dataframe tbody tr th:only-of-type {\n",
       "        vertical-align: middle;\n",
       "    }\n",
       "\n",
       "    .dataframe tbody tr th {\n",
       "        vertical-align: top;\n",
       "    }\n",
       "\n",
       "    .dataframe thead th {\n",
       "        text-align: right;\n",
       "    }\n",
       "</style>\n",
       "<table border=\"1\" class=\"dataframe\">\n",
       "  <thead>\n",
       "    <tr style=\"text-align: right;\">\n",
       "      <th>Insure</th>\n",
       "      <th>0</th>\n",
       "      <th>1</th>\n",
       "    </tr>\n",
       "    <tr>\n",
       "      <th>Airline</th>\n",
       "      <th></th>\n",
       "      <th></th>\n",
       "    </tr>\n",
       "  </thead>\n",
       "  <tbody>\n",
       "    <tr>\n",
       "      <th>American Airlines</th>\n",
       "      <td>234.503226</td>\n",
       "      <td>231.496774</td>\n",
       "    </tr>\n",
       "    <tr>\n",
       "      <th>Delta</th>\n",
       "      <td>226.954839</td>\n",
       "      <td>224.045161</td>\n",
       "    </tr>\n",
       "    <tr>\n",
       "      <th>Southwest</th>\n",
       "      <td>336.154839</td>\n",
       "      <td>331.845161</td>\n",
       "    </tr>\n",
       "    <tr>\n",
       "      <th>United</th>\n",
       "      <td>216.387097</td>\n",
       "      <td>213.612903</td>\n",
       "    </tr>\n",
       "  </tbody>\n",
       "</table>\n",
       "</div>"
      ],
      "text/plain": [
       "Insure                      0           1\n",
       "Airline                                  \n",
       "American Airlines  234.503226  231.496774\n",
       "Delta              226.954839  224.045161\n",
       "Southwest          336.154839  331.845161\n",
       "United             216.387097  213.612903"
      ]
     },
     "execution_count": 66,
     "metadata": {},
     "output_type": "execute_result"
    }
   ],
   "source": [
    "pd.DataFrame(data = expected, index = observed.index, columns = observed.columns)\n",
    "# Si Insure y Airline fueran independientes, esto esperaría ver:"
   ]
  },
  {
   "cell_type": "markdown",
   "metadata": {},
   "source": [
    "**Class vs Insure**"
   ]
  },
  {
   "cell_type": "code",
   "execution_count": 67,
   "metadata": {},
   "outputs": [
    {
     "data": {
      "text/html": [
       "<div>\n",
       "<style scoped>\n",
       "    .dataframe tbody tr th:only-of-type {\n",
       "        vertical-align: middle;\n",
       "    }\n",
       "\n",
       "    .dataframe tbody tr th {\n",
       "        vertical-align: top;\n",
       "    }\n",
       "\n",
       "    .dataframe thead th {\n",
       "        text-align: right;\n",
       "    }\n",
       "</style>\n",
       "<table border=\"1\" class=\"dataframe\">\n",
       "  <thead>\n",
       "    <tr style=\"text-align: right;\">\n",
       "      <th>Insure</th>\n",
       "      <th>0</th>\n",
       "      <th>1</th>\n",
       "    </tr>\n",
       "    <tr>\n",
       "      <th>Class</th>\n",
       "      <th></th>\n",
       "      <th></th>\n",
       "    </tr>\n",
       "  </thead>\n",
       "  <tbody>\n",
       "    <tr>\n",
       "      <th>Business</th>\n",
       "      <td>223</td>\n",
       "      <td>272</td>\n",
       "    </tr>\n",
       "    <tr>\n",
       "      <th>Economy</th>\n",
       "      <td>698</td>\n",
       "      <td>642</td>\n",
       "    </tr>\n",
       "    <tr>\n",
       "      <th>First Class</th>\n",
       "      <td>93</td>\n",
       "      <td>87</td>\n",
       "    </tr>\n",
       "  </tbody>\n",
       "</table>\n",
       "</div>"
      ],
      "text/plain": [
       "Insure         0    1\n",
       "Class                \n",
       "Business     223  272\n",
       "Economy      698  642\n",
       "First Class   93   87"
      ]
     },
     "execution_count": 67,
     "metadata": {},
     "output_type": "execute_result"
    }
   ],
   "source": [
    "observed = pd.crosstab(df_new['Class'],df_new['Insure'])\n",
    "observed"
   ]
  },
  {
   "cell_type": "code",
   "execution_count": 68,
   "metadata": {},
   "outputs": [
    {
     "data": {
      "text/plain": [
       "0.025897253178125103"
      ]
     },
     "execution_count": 68,
     "metadata": {},
     "output_type": "execute_result"
    }
   ],
   "source": [
    "chi, p, dof, expected = st.chi2_contingency(pd.crosstab(df_new['Class'],df_new['Insure']))\n",
    "p"
   ]
  },
  {
   "cell_type": "code",
   "execution_count": 69,
   "metadata": {},
   "outputs": [
    {
     "data": {
      "text/html": [
       "<div>\n",
       "<style scoped>\n",
       "    .dataframe tbody tr th:only-of-type {\n",
       "        vertical-align: middle;\n",
       "    }\n",
       "\n",
       "    .dataframe tbody tr th {\n",
       "        vertical-align: top;\n",
       "    }\n",
       "\n",
       "    .dataframe thead th {\n",
       "        text-align: right;\n",
       "    }\n",
       "</style>\n",
       "<table border=\"1\" class=\"dataframe\">\n",
       "  <thead>\n",
       "    <tr style=\"text-align: right;\">\n",
       "      <th>Insure</th>\n",
       "      <th>0</th>\n",
       "      <th>1</th>\n",
       "    </tr>\n",
       "    <tr>\n",
       "      <th>Class</th>\n",
       "      <th></th>\n",
       "      <th></th>\n",
       "    </tr>\n",
       "  </thead>\n",
       "  <tbody>\n",
       "    <tr>\n",
       "      <th>Business</th>\n",
       "      <td>249.096774</td>\n",
       "      <td>245.903226</td>\n",
       "    </tr>\n",
       "    <tr>\n",
       "      <th>Economy</th>\n",
       "      <td>674.322581</td>\n",
       "      <td>665.677419</td>\n",
       "    </tr>\n",
       "    <tr>\n",
       "      <th>First Class</th>\n",
       "      <td>90.580645</td>\n",
       "      <td>89.419355</td>\n",
       "    </tr>\n",
       "  </tbody>\n",
       "</table>\n",
       "</div>"
      ],
      "text/plain": [
       "Insure                0           1\n",
       "Class                              \n",
       "Business     249.096774  245.903226\n",
       "Economy      674.322581  665.677419\n",
       "First Class   90.580645   89.419355"
      ]
     },
     "execution_count": 69,
     "metadata": {},
     "output_type": "execute_result"
    }
   ],
   "source": [
    "pd.DataFrame(data = expected, index = observed.index, columns = observed.columns)\n",
    "# Si Insure y Airline fueran independientes, esto esperaría ver:"
   ]
  },
  {
   "cell_type": "markdown",
   "metadata": {},
   "source": [
    "**RouteDemand vs Insure**"
   ]
  },
  {
   "cell_type": "code",
   "execution_count": 70,
   "metadata": {},
   "outputs": [
    {
     "data": {
      "text/html": [
       "<div>\n",
       "<style scoped>\n",
       "    .dataframe tbody tr th:only-of-type {\n",
       "        vertical-align: middle;\n",
       "    }\n",
       "\n",
       "    .dataframe tbody tr th {\n",
       "        vertical-align: top;\n",
       "    }\n",
       "\n",
       "    .dataframe thead th {\n",
       "        text-align: right;\n",
       "    }\n",
       "</style>\n",
       "<table border=\"1\" class=\"dataframe\">\n",
       "  <thead>\n",
       "    <tr style=\"text-align: right;\">\n",
       "      <th>Insure</th>\n",
       "      <th>0</th>\n",
       "      <th>1</th>\n",
       "    </tr>\n",
       "    <tr>\n",
       "      <th>RouteDemand</th>\n",
       "      <th></th>\n",
       "      <th></th>\n",
       "    </tr>\n",
       "  </thead>\n",
       "  <tbody>\n",
       "    <tr>\n",
       "      <th>crowded</th>\n",
       "      <td>563</td>\n",
       "      <td>633</td>\n",
       "    </tr>\n",
       "    <tr>\n",
       "      <th>not crowded</th>\n",
       "      <td>451</td>\n",
       "      <td>368</td>\n",
       "    </tr>\n",
       "  </tbody>\n",
       "</table>\n",
       "</div>"
      ],
      "text/plain": [
       "Insure         0    1\n",
       "RouteDemand          \n",
       "crowded      563  633\n",
       "not crowded  451  368"
      ]
     },
     "execution_count": 70,
     "metadata": {},
     "output_type": "execute_result"
    }
   ],
   "source": [
    "observed = pd.crosstab(df_new['RouteDemand'],df_new['Insure'])\n",
    "observed"
   ]
  },
  {
   "cell_type": "code",
   "execution_count": 71,
   "metadata": {},
   "outputs": [
    {
     "data": {
      "text/plain": [
       "0.000502217253219794"
      ]
     },
     "execution_count": 71,
     "metadata": {},
     "output_type": "execute_result"
    }
   ],
   "source": [
    "chi, p, dof, expected = st.chi2_contingency(pd.crosstab(df_new['RouteDemand'],df_new['Insure']))\n",
    "p"
   ]
  },
  {
   "cell_type": "code",
   "execution_count": 72,
   "metadata": {},
   "outputs": [
    {
     "data": {
      "text/html": [
       "<div>\n",
       "<style scoped>\n",
       "    .dataframe tbody tr th:only-of-type {\n",
       "        vertical-align: middle;\n",
       "    }\n",
       "\n",
       "    .dataframe tbody tr th {\n",
       "        vertical-align: top;\n",
       "    }\n",
       "\n",
       "    .dataframe thead th {\n",
       "        text-align: right;\n",
       "    }\n",
       "</style>\n",
       "<table border=\"1\" class=\"dataframe\">\n",
       "  <thead>\n",
       "    <tr style=\"text-align: right;\">\n",
       "      <th>Insure</th>\n",
       "      <th>0</th>\n",
       "      <th>1</th>\n",
       "    </tr>\n",
       "    <tr>\n",
       "      <th>RouteDemand</th>\n",
       "      <th></th>\n",
       "      <th></th>\n",
       "    </tr>\n",
       "  </thead>\n",
       "  <tbody>\n",
       "    <tr>\n",
       "      <th>crowded</th>\n",
       "      <td>601.858065</td>\n",
       "      <td>594.141935</td>\n",
       "    </tr>\n",
       "    <tr>\n",
       "      <th>not crowded</th>\n",
       "      <td>412.141935</td>\n",
       "      <td>406.858065</td>\n",
       "    </tr>\n",
       "  </tbody>\n",
       "</table>\n",
       "</div>"
      ],
      "text/plain": [
       "Insure                0           1\n",
       "RouteDemand                        \n",
       "crowded      601.858065  594.141935\n",
       "not crowded  412.141935  406.858065"
      ]
     },
     "execution_count": 72,
     "metadata": {},
     "output_type": "execute_result"
    }
   ],
   "source": [
    "pd.DataFrame(data = expected, index = observed.index, columns = observed.columns)\n",
    "# Si Insure y Airline fueran independientes, esto esperaría ver:"
   ]
  },
  {
   "cell_type": "markdown",
   "metadata": {},
   "source": [
    "**Sex vs Insure**"
   ]
  },
  {
   "cell_type": "code",
   "execution_count": 73,
   "metadata": {},
   "outputs": [
    {
     "data": {
      "text/html": [
       "<div>\n",
       "<style scoped>\n",
       "    .dataframe tbody tr th:only-of-type {\n",
       "        vertical-align: middle;\n",
       "    }\n",
       "\n",
       "    .dataframe tbody tr th {\n",
       "        vertical-align: top;\n",
       "    }\n",
       "\n",
       "    .dataframe thead th {\n",
       "        text-align: right;\n",
       "    }\n",
       "</style>\n",
       "<table border=\"1\" class=\"dataframe\">\n",
       "  <thead>\n",
       "    <tr style=\"text-align: right;\">\n",
       "      <th>Insure</th>\n",
       "      <th>0</th>\n",
       "      <th>1</th>\n",
       "    </tr>\n",
       "    <tr>\n",
       "      <th>Sex</th>\n",
       "      <th></th>\n",
       "      <th></th>\n",
       "    </tr>\n",
       "  </thead>\n",
       "  <tbody>\n",
       "    <tr>\n",
       "      <th>F</th>\n",
       "      <td>315</td>\n",
       "      <td>375</td>\n",
       "    </tr>\n",
       "    <tr>\n",
       "      <th>M</th>\n",
       "      <td>699</td>\n",
       "      <td>626</td>\n",
       "    </tr>\n",
       "  </tbody>\n",
       "</table>\n",
       "</div>"
      ],
      "text/plain": [
       "Insure    0    1\n",
       "Sex             \n",
       "F       315  375\n",
       "M       699  626"
      ]
     },
     "execution_count": 73,
     "metadata": {},
     "output_type": "execute_result"
    }
   ],
   "source": [
    "observed = pd.crosstab(df_new['Sex'],df_new['Insure'])\n",
    "observed"
   ]
  },
  {
   "cell_type": "code",
   "execution_count": 74,
   "metadata": {},
   "outputs": [
    {
     "data": {
      "text/plain": [
       "0.002892798561354377"
      ]
     },
     "execution_count": 74,
     "metadata": {},
     "output_type": "execute_result"
    }
   ],
   "source": [
    "chi, p, dof, expected = st.chi2_contingency(pd.crosstab(df_new['Sex'],df_new['Insure']))\n",
    "p"
   ]
  },
  {
   "cell_type": "code",
   "execution_count": 75,
   "metadata": {},
   "outputs": [
    {
     "data": {
      "text/html": [
       "<div>\n",
       "<style scoped>\n",
       "    .dataframe tbody tr th:only-of-type {\n",
       "        vertical-align: middle;\n",
       "    }\n",
       "\n",
       "    .dataframe tbody tr th {\n",
       "        vertical-align: top;\n",
       "    }\n",
       "\n",
       "    .dataframe thead th {\n",
       "        text-align: right;\n",
       "    }\n",
       "</style>\n",
       "<table border=\"1\" class=\"dataframe\">\n",
       "  <thead>\n",
       "    <tr style=\"text-align: right;\">\n",
       "      <th>Insure</th>\n",
       "      <th>0</th>\n",
       "      <th>1</th>\n",
       "    </tr>\n",
       "    <tr>\n",
       "      <th>Sex</th>\n",
       "      <th></th>\n",
       "      <th></th>\n",
       "    </tr>\n",
       "  </thead>\n",
       "  <tbody>\n",
       "    <tr>\n",
       "      <th>F</th>\n",
       "      <td>347.225806</td>\n",
       "      <td>342.774194</td>\n",
       "    </tr>\n",
       "    <tr>\n",
       "      <th>M</th>\n",
       "      <td>666.774194</td>\n",
       "      <td>658.225806</td>\n",
       "    </tr>\n",
       "  </tbody>\n",
       "</table>\n",
       "</div>"
      ],
      "text/plain": [
       "Insure           0           1\n",
       "Sex                           \n",
       "F       347.225806  342.774194\n",
       "M       666.774194  658.225806"
      ]
     },
     "execution_count": 75,
     "metadata": {},
     "output_type": "execute_result"
    }
   ],
   "source": [
    "pd.DataFrame(data = expected, index = observed.index, columns = observed.columns)\n",
    "# Si Insure y Airline fueran independientes, esto esperaría ver:"
   ]
  },
  {
   "cell_type": "markdown",
   "metadata": {},
   "source": [
    "**PurchDemand vs Insure**"
   ]
  },
  {
   "cell_type": "code",
   "execution_count": 76,
   "metadata": {},
   "outputs": [
    {
     "data": {
      "text/html": [
       "<div>\n",
       "<style scoped>\n",
       "    .dataframe tbody tr th:only-of-type {\n",
       "        vertical-align: middle;\n",
       "    }\n",
       "\n",
       "    .dataframe tbody tr th {\n",
       "        vertical-align: top;\n",
       "    }\n",
       "\n",
       "    .dataframe thead th {\n",
       "        text-align: right;\n",
       "    }\n",
       "</style>\n",
       "<table border=\"1\" class=\"dataframe\">\n",
       "  <thead>\n",
       "    <tr style=\"text-align: right;\">\n",
       "      <th>Insure</th>\n",
       "      <th>0</th>\n",
       "      <th>1</th>\n",
       "    </tr>\n",
       "    <tr>\n",
       "      <th>PurchDemand</th>\n",
       "      <th></th>\n",
       "      <th></th>\n",
       "    </tr>\n",
       "  </thead>\n",
       "  <tbody>\n",
       "    <tr>\n",
       "      <th>high</th>\n",
       "      <td>612</td>\n",
       "      <td>585</td>\n",
       "    </tr>\n",
       "    <tr>\n",
       "      <th>low</th>\n",
       "      <td>402</td>\n",
       "      <td>416</td>\n",
       "    </tr>\n",
       "  </tbody>\n",
       "</table>\n",
       "</div>"
      ],
      "text/plain": [
       "Insure         0    1\n",
       "PurchDemand          \n",
       "high         612  585\n",
       "low          402  416"
      ]
     },
     "execution_count": 76,
     "metadata": {},
     "output_type": "execute_result"
    }
   ],
   "source": [
    "observed = pd.crosstab(df_new['PurchDemand'],df_new['Insure'])\n",
    "observed"
   ]
  },
  {
   "cell_type": "code",
   "execution_count": 77,
   "metadata": {},
   "outputs": [
    {
     "data": {
      "text/plain": [
       "0.4070145561775842"
      ]
     },
     "execution_count": 77,
     "metadata": {},
     "output_type": "execute_result"
    }
   ],
   "source": [
    "chi, p, dof, expected = st.chi2_contingency(pd.crosstab(df_new['PurchDemand'],df_new['Insure']))\n",
    "p"
   ]
  },
  {
   "cell_type": "code",
   "execution_count": 78,
   "metadata": {},
   "outputs": [
    {
     "data": {
      "text/html": [
       "<div>\n",
       "<style scoped>\n",
       "    .dataframe tbody tr th:only-of-type {\n",
       "        vertical-align: middle;\n",
       "    }\n",
       "\n",
       "    .dataframe tbody tr th {\n",
       "        vertical-align: top;\n",
       "    }\n",
       "\n",
       "    .dataframe thead th {\n",
       "        text-align: right;\n",
       "    }\n",
       "</style>\n",
       "<table border=\"1\" class=\"dataframe\">\n",
       "  <thead>\n",
       "    <tr style=\"text-align: right;\">\n",
       "      <th>Insure</th>\n",
       "      <th>0</th>\n",
       "      <th>1</th>\n",
       "    </tr>\n",
       "    <tr>\n",
       "      <th>PurchDemand</th>\n",
       "      <th></th>\n",
       "      <th></th>\n",
       "    </tr>\n",
       "  </thead>\n",
       "  <tbody>\n",
       "    <tr>\n",
       "      <th>high</th>\n",
       "      <td>602.36129</td>\n",
       "      <td>594.63871</td>\n",
       "    </tr>\n",
       "    <tr>\n",
       "      <th>low</th>\n",
       "      <td>411.63871</td>\n",
       "      <td>406.36129</td>\n",
       "    </tr>\n",
       "  </tbody>\n",
       "</table>\n",
       "</div>"
      ],
      "text/plain": [
       "Insure               0          1\n",
       "PurchDemand                      \n",
       "high         602.36129  594.63871\n",
       "low          411.63871  406.36129"
      ]
     },
     "execution_count": 78,
     "metadata": {},
     "output_type": "execute_result"
    }
   ],
   "source": [
    "pd.DataFrame(data = expected, index = observed.index, columns = observed.columns)\n",
    "# Si Insure y Airline fueran independientes, esto esperaría ver:"
   ]
  },
  {
   "cell_type": "markdown",
   "metadata": {},
   "source": [
    "**TravelDemand vs Insure**"
   ]
  },
  {
   "cell_type": "code",
   "execution_count": 79,
   "metadata": {},
   "outputs": [
    {
     "data": {
      "text/html": [
       "<div>\n",
       "<style scoped>\n",
       "    .dataframe tbody tr th:only-of-type {\n",
       "        vertical-align: middle;\n",
       "    }\n",
       "\n",
       "    .dataframe tbody tr th {\n",
       "        vertical-align: top;\n",
       "    }\n",
       "\n",
       "    .dataframe thead th {\n",
       "        text-align: right;\n",
       "    }\n",
       "</style>\n",
       "<table border=\"1\" class=\"dataframe\">\n",
       "  <thead>\n",
       "    <tr style=\"text-align: right;\">\n",
       "      <th>Insure</th>\n",
       "      <th>0</th>\n",
       "      <th>1</th>\n",
       "    </tr>\n",
       "    <tr>\n",
       "      <th>TravelDemand</th>\n",
       "      <th></th>\n",
       "      <th></th>\n",
       "    </tr>\n",
       "  </thead>\n",
       "  <tbody>\n",
       "    <tr>\n",
       "      <th>high</th>\n",
       "      <td>596</td>\n",
       "      <td>585</td>\n",
       "    </tr>\n",
       "    <tr>\n",
       "      <th>low</th>\n",
       "      <td>418</td>\n",
       "      <td>416</td>\n",
       "    </tr>\n",
       "  </tbody>\n",
       "</table>\n",
       "</div>"
      ],
      "text/plain": [
       "Insure          0    1\n",
       "TravelDemand          \n",
       "high          596  585\n",
       "low           418  416"
      ]
     },
     "execution_count": 79,
     "metadata": {},
     "output_type": "execute_result"
    }
   ],
   "source": [
    "observed = pd.crosstab(df_new['TravelDemand'],df_new['Insure'])\n",
    "observed"
   ]
  },
  {
   "cell_type": "code",
   "execution_count": 80,
   "metadata": {},
   "outputs": [
    {
     "data": {
      "text/plain": [
       "0.9142498868517644"
      ]
     },
     "execution_count": 80,
     "metadata": {},
     "output_type": "execute_result"
    }
   ],
   "source": [
    "chi, p, dof, expected = st.chi2_contingency(pd.crosstab(df_new['TravelDemand'],df_new['Insure']))\n",
    "p"
   ]
  },
  {
   "cell_type": "code",
   "execution_count": 81,
   "metadata": {},
   "outputs": [
    {
     "data": {
      "text/html": [
       "<div>\n",
       "<style scoped>\n",
       "    .dataframe tbody tr th:only-of-type {\n",
       "        vertical-align: middle;\n",
       "    }\n",
       "\n",
       "    .dataframe tbody tr th {\n",
       "        vertical-align: top;\n",
       "    }\n",
       "\n",
       "    .dataframe thead th {\n",
       "        text-align: right;\n",
       "    }\n",
       "</style>\n",
       "<table border=\"1\" class=\"dataframe\">\n",
       "  <thead>\n",
       "    <tr style=\"text-align: right;\">\n",
       "      <th>Insure</th>\n",
       "      <th>0</th>\n",
       "      <th>1</th>\n",
       "    </tr>\n",
       "    <tr>\n",
       "      <th>TravelDemand</th>\n",
       "      <th></th>\n",
       "      <th></th>\n",
       "    </tr>\n",
       "  </thead>\n",
       "  <tbody>\n",
       "    <tr>\n",
       "      <th>high</th>\n",
       "      <td>594.309677</td>\n",
       "      <td>586.690323</td>\n",
       "    </tr>\n",
       "    <tr>\n",
       "      <th>low</th>\n",
       "      <td>419.690323</td>\n",
       "      <td>414.309677</td>\n",
       "    </tr>\n",
       "  </tbody>\n",
       "</table>\n",
       "</div>"
      ],
      "text/plain": [
       "Insure                 0           1\n",
       "TravelDemand                        \n",
       "high          594.309677  586.690323\n",
       "low           419.690323  414.309677"
      ]
     },
     "execution_count": 81,
     "metadata": {},
     "output_type": "execute_result"
    }
   ],
   "source": [
    "pd.DataFrame(data = expected, index = observed.index, columns = observed.columns)\n",
    "# Si Insure y Airline fueran independientes, esto esperaría ver:"
   ]
  },
  {
   "cell_type": "markdown",
   "metadata": {},
   "source": [
    "### Selección de variables para el modelo"
   ]
  },
  {
   "cell_type": "markdown",
   "metadata": {},
   "source": [
    "Considerando los resultados de pruebas estadísticas, seleccionamos las variables de interés"
   ]
  },
  {
   "cell_type": "code",
   "execution_count": 82,
   "metadata": {},
   "outputs": [],
   "source": [
    "X = df_new[['Airline', 'TypeTraveler', 'Class', 'RouteDemand', 'Price','Sex']]\n",
    "y = df_new['Insure'].values"
   ]
  },
  {
   "cell_type": "code",
   "execution_count": 83,
   "metadata": {},
   "outputs": [
    {
     "data": {
      "text/plain": [
       "((2015, 6), (2015,))"
      ]
     },
     "execution_count": 83,
     "metadata": {},
     "output_type": "execute_result"
    }
   ],
   "source": [
    "# Verificar distribuciones\n",
    "X.shape, y.shape"
   ]
  },
  {
   "cell_type": "markdown",
   "metadata": {},
   "source": [
    "## Dividimos nuestro Dataset en un set de entrenamiento y prueba"
   ]
  },
  {
   "cell_type": "code",
   "execution_count": 84,
   "metadata": {},
   "outputs": [],
   "source": [
    "X_train, X_test, y_train, y_test = train_test_split(X, y, test_size=0.2, random_state = 125)"
   ]
  },
  {
   "cell_type": "markdown",
   "metadata": {},
   "source": [
    "### Separamos las variables en categóricas y numéricas"
   ]
  },
  {
   "cell_type": "code",
   "execution_count": 85,
   "metadata": {},
   "outputs": [],
   "source": [
    "vars_numericas = X.select_dtypes(np.number).columns.tolist()\n",
    "vars_categoricas = X.select_dtypes(np.object).columns.tolist()"
   ]
  },
  {
   "cell_type": "markdown",
   "metadata": {},
   "source": [
    "### Creamos un Pipeline para tratamiento de los datos."
   ]
  },
  {
   "cell_type": "markdown",
   "metadata": {},
   "source": [
    "- A pesar que las variables que ingresamos al modelo no cuentan con valores nulos o faltantes, decidimos usar un pipepline robusto que nos sirva para otros proyectos."
   ]
  },
  {
   "cell_type": "code",
   "execution_count": 86,
   "metadata": {},
   "outputs": [],
   "source": [
    "# Imputación y escalamiento para variables numéticas\n",
    "# Imputación y One Hot Encoder para variables categóricas\n",
    "\n",
    "num_trans = Pipeline(steps=[\n",
    "    ('imputer', SimpleImputer(strategy='median')),\n",
    "    ('scaler', StandardScaler())])\n",
    "\n",
    "cat_trans = Pipeline(steps=[\n",
    "    ('imputer', SimpleImputer(strategy='most_frequent')),\n",
    "    ('onehot', OneHotEncoder(handle_unknown='ignore'))])\n",
    "\n",
    "preprocesador = ColumnTransformer(\n",
    "    transformers=[\n",
    "        ('preprop_num', num_trans, vars_numericas),\n",
    "        ('preprop_cat', cat_trans, vars_categoricas)],\n",
    "    remainder='passthrough')"
   ]
  },
  {
   "cell_type": "markdown",
   "metadata": {},
   "source": [
    "### Guardamos las instrucciones del pipeline en una variable llamada `clf` y le pedimos que use un modelo clasificador llamado `RandomForestClassifier`."
   ]
  },
  {
   "cell_type": "code",
   "execution_count": 87,
   "metadata": {},
   "outputs": [],
   "source": [
    "clf = Pipeline(steps=[('preprocesamiento', preprocesador),\n",
    "                      ('clasificador', RandomForestClassifier())])\n",
    "\n",
    "# Modelo utilizado: RandomForest"
   ]
  },
  {
   "cell_type": "markdown",
   "metadata": {},
   "source": [
    "### Verificamos las instrucciones de nuestro Pipeline."
   ]
  },
  {
   "cell_type": "code",
   "execution_count": 88,
   "metadata": {},
   "outputs": [
    {
     "data": {
      "text/plain": [
       "Pipeline(steps=[('preprocesamiento',\n",
       "                 ColumnTransformer(remainder='passthrough',\n",
       "                                   transformers=[('preprop_num',\n",
       "                                                  Pipeline(steps=[('imputer',\n",
       "                                                                   SimpleImputer(strategy='median')),\n",
       "                                                                  ('scaler',\n",
       "                                                                   StandardScaler())]),\n",
       "                                                  ['Price']),\n",
       "                                                 ('preprop_cat',\n",
       "                                                  Pipeline(steps=[('imputer',\n",
       "                                                                   SimpleImputer(strategy='most_frequent')),\n",
       "                                                                  ('onehot',\n",
       "                                                                   OneHotEncoder(handle_unknown='ignore'))]),\n",
       "                                                  ['Airline', 'TypeTraveler',\n",
       "                                                   'Class', 'RouteDemand',\n",
       "                                                   'Sex'])])),\n",
       "                ('clasificador', RandomForestClassifier())])"
      ]
     },
     "execution_count": 88,
     "metadata": {},
     "output_type": "execute_result"
    }
   ],
   "source": [
    "clf"
   ]
  },
  {
   "cell_type": "markdown",
   "metadata": {},
   "source": [
    "### Entrenamos el modelo usando el 80% del Dataset y lo probamos con el 20%"
   ]
  },
  {
   "cell_type": "code",
   "execution_count": 89,
   "metadata": {},
   "outputs": [
    {
     "data": {
      "text/plain": [
       "Pipeline(steps=[('preprocesamiento',\n",
       "                 ColumnTransformer(remainder='passthrough',\n",
       "                                   transformers=[('preprop_num',\n",
       "                                                  Pipeline(steps=[('imputer',\n",
       "                                                                   SimpleImputer(strategy='median')),\n",
       "                                                                  ('scaler',\n",
       "                                                                   StandardScaler())]),\n",
       "                                                  ['Price']),\n",
       "                                                 ('preprop_cat',\n",
       "                                                  Pipeline(steps=[('imputer',\n",
       "                                                                   SimpleImputer(strategy='most_frequent')),\n",
       "                                                                  ('onehot',\n",
       "                                                                   OneHotEncoder(handle_unknown='ignore'))]),\n",
       "                                                  ['Airline', 'TypeTraveler',\n",
       "                                                   'Class', 'RouteDemand',\n",
       "                                                   'Sex'])])),\n",
       "                ('clasificador', RandomForestClassifier())])"
      ]
     },
     "execution_count": 89,
     "metadata": {},
     "output_type": "execute_result"
    }
   ],
   "source": [
    "clf.fit(X_train,y_train)"
   ]
  },
  {
   "cell_type": "markdown",
   "metadata": {},
   "source": [
    "### Revisamos el **Accuracy** de nuestro **set de entrenamiento**."
   ]
  },
  {
   "cell_type": "code",
   "execution_count": 90,
   "metadata": {},
   "outputs": [
    {
     "data": {
      "text/plain": [
       "0.9733250620347395"
      ]
     },
     "execution_count": 90,
     "metadata": {},
     "output_type": "execute_result"
    }
   ],
   "source": [
    "clf.score(X_train,y_train)"
   ]
  },
  {
   "cell_type": "markdown",
   "metadata": {},
   "source": [
    "### Revisamos el **Accuracy** de nuestro **set de Prueba**."
   ]
  },
  {
   "cell_type": "code",
   "execution_count": 91,
   "metadata": {},
   "outputs": [
    {
     "data": {
      "text/plain": [
       "0.5781637717121588"
      ]
     },
     "execution_count": 91,
     "metadata": {},
     "output_type": "execute_result"
    }
   ],
   "source": [
    "clf.score(X_test, y_test)"
   ]
  },
  {
   "cell_type": "markdown",
   "metadata": {},
   "source": [
    "### Se utiliza el mismo pipeline pero ahora probando entre los clasificadores ``KNN``, ``Decision Tree`` y ``RandomForest`` con diferentes hiperparámetros para encontrar el de mejor desempeño."
   ]
  },
  {
   "cell_type": "code",
   "execution_count": 92,
   "metadata": {},
   "outputs": [],
   "source": [
    "parametros = [{'clasificador':[RandomForestClassifier()],\n",
    "               'clasificador__n_estimators':[10,100,1000],\n",
    "               'clasificador__max_features':np.arange(1,5),\n",
    "               'preprocesamiento__preprop_num__imputer__strategy':['median','mean']},\n",
    "              {'clasificador':[DecisionTreeClassifier()],\n",
    "               'clasificador__max_depth':np.arange(2,9),\n",
    "               'preprocesamiento__preprop_num__imputer__strategy':['median','mean']},\n",
    "              {'clasificador':[KNeighborsClassifier()],\n",
    "               'clasificador__n_neighbors':np.arange(1,9),\n",
    "               'preprocesamiento__preprop_num__imputer__strategy':['median','mean']}]"
   ]
  },
  {
   "cell_type": "markdown",
   "metadata": {},
   "source": [
    "### Usamos un Grid Search con un Cross Validation para separar los datos en 5 partes iguales y buscamos determinal el Recall del modelo.\n",
    "\n",
    "Para esta proyecto tomaremos el recall, ya que al área de mercadotecnia le interesa detectar todos los casos en que los usuarios no se asegurarán. \n",
    "- Entrenamos el modelo usando los parametros previamente asignados a los diferentes clasificadores."
   ]
  },
  {
   "cell_type": "code",
   "execution_count": 93,
   "metadata": {},
   "outputs": [
    {
     "data": {
      "text/plain": [
       "GridSearchCV(cv=5,\n",
       "             estimator=Pipeline(steps=[('preprocesamiento',\n",
       "                                        ColumnTransformer(remainder='passthrough',\n",
       "                                                          transformers=[('preprop_num',\n",
       "                                                                         Pipeline(steps=[('imputer',\n",
       "                                                                                          SimpleImputer(strategy='median')),\n",
       "                                                                                         ('scaler',\n",
       "                                                                                          StandardScaler())]),\n",
       "                                                                         ['Price']),\n",
       "                                                                        ('preprop_cat',\n",
       "                                                                         Pipeline(steps=[('imputer',\n",
       "                                                                                          SimpleImputer(strategy='most_frequent')),\n",
       "                                                                                         ('onehot',\n",
       "                                                                                          OneHotEncoder(handle...\n",
       "                         {'clasificador': [DecisionTreeClassifier(max_depth=2)],\n",
       "                          'clasificador__max_depth': array([2, 3, 4, 5, 6, 7, 8]),\n",
       "                          'preprocesamiento__preprop_num__imputer__strategy': ['median',\n",
       "                                                                               'mean']},\n",
       "                         {'clasificador': [KNeighborsClassifier()],\n",
       "                          'clasificador__n_neighbors': array([1, 2, 3, 4, 5, 6, 7, 8]),\n",
       "                          'preprocesamiento__preprop_num__imputer__strategy': ['median',\n",
       "                                                                               'mean']}],\n",
       "             scoring='recall')"
      ]
     },
     "execution_count": 93,
     "metadata": {},
     "output_type": "execute_result"
    }
   ],
   "source": [
    "gs = GridSearchCV(clf,param_grid=parametros,cv=5,scoring='recall', n_jobs=-1)\n",
    "gs.fit(X,y)"
   ]
  },
  {
   "cell_type": "markdown",
   "metadata": {},
   "source": [
    "### Guardamos los resultados en un Data Frame llamado `dff`"
   ]
  },
  {
   "cell_type": "code",
   "execution_count": 94,
   "metadata": {},
   "outputs": [
    {
     "data": {
      "text/html": [
       "<div>\n",
       "<style scoped>\n",
       "    .dataframe tbody tr th:only-of-type {\n",
       "        vertical-align: middle;\n",
       "    }\n",
       "\n",
       "    .dataframe tbody tr th {\n",
       "        vertical-align: top;\n",
       "    }\n",
       "\n",
       "    .dataframe thead th {\n",
       "        text-align: right;\n",
       "    }\n",
       "</style>\n",
       "<table border=\"1\" class=\"dataframe\">\n",
       "  <thead>\n",
       "    <tr style=\"text-align: right;\">\n",
       "      <th></th>\n",
       "      <th>mean_fit_time</th>\n",
       "      <th>std_fit_time</th>\n",
       "      <th>mean_score_time</th>\n",
       "      <th>std_score_time</th>\n",
       "      <th>param_clasificador</th>\n",
       "      <th>param_clasificador__max_features</th>\n",
       "      <th>param_clasificador__n_estimators</th>\n",
       "      <th>param_preprocesamiento__preprop_num__imputer__strategy</th>\n",
       "      <th>param_clasificador__max_depth</th>\n",
       "      <th>param_clasificador__n_neighbors</th>\n",
       "      <th>params</th>\n",
       "      <th>split0_test_score</th>\n",
       "      <th>split1_test_score</th>\n",
       "      <th>split2_test_score</th>\n",
       "      <th>split3_test_score</th>\n",
       "      <th>split4_test_score</th>\n",
       "      <th>mean_test_score</th>\n",
       "      <th>std_test_score</th>\n",
       "      <th>rank_test_score</th>\n",
       "    </tr>\n",
       "  </thead>\n",
       "  <tbody>\n",
       "    <tr>\n",
       "      <th>26</th>\n",
       "      <td>0.034989</td>\n",
       "      <td>0.001482</td>\n",
       "      <td>0.009949</td>\n",
       "      <td>0.000211</td>\n",
       "      <td>DecisionTreeClassifier(max_depth=2)</td>\n",
       "      <td>NaN</td>\n",
       "      <td>NaN</td>\n",
       "      <td>median</td>\n",
       "      <td>3</td>\n",
       "      <td>NaN</td>\n",
       "      <td>{'clasificador': DecisionTreeClassifier(max_de...</td>\n",
       "      <td>0.805</td>\n",
       "      <td>0.910</td>\n",
       "      <td>0.86</td>\n",
       "      <td>0.700</td>\n",
       "      <td>0.701493</td>\n",
       "      <td>0.795299</td>\n",
       "      <td>0.084045</td>\n",
       "      <td>1</td>\n",
       "    </tr>\n",
       "    <tr>\n",
       "      <th>25</th>\n",
       "      <td>0.036559</td>\n",
       "      <td>0.004899</td>\n",
       "      <td>0.010419</td>\n",
       "      <td>0.000791</td>\n",
       "      <td>DecisionTreeClassifier(max_depth=2)</td>\n",
       "      <td>NaN</td>\n",
       "      <td>NaN</td>\n",
       "      <td>mean</td>\n",
       "      <td>2</td>\n",
       "      <td>NaN</td>\n",
       "      <td>{'clasificador': DecisionTreeClassifier(max_de...</td>\n",
       "      <td>0.805</td>\n",
       "      <td>0.910</td>\n",
       "      <td>0.86</td>\n",
       "      <td>0.700</td>\n",
       "      <td>0.701493</td>\n",
       "      <td>0.795299</td>\n",
       "      <td>0.084045</td>\n",
       "      <td>1</td>\n",
       "    </tr>\n",
       "    <tr>\n",
       "      <th>27</th>\n",
       "      <td>0.034531</td>\n",
       "      <td>0.001606</td>\n",
       "      <td>0.011307</td>\n",
       "      <td>0.001340</td>\n",
       "      <td>DecisionTreeClassifier(max_depth=2)</td>\n",
       "      <td>NaN</td>\n",
       "      <td>NaN</td>\n",
       "      <td>mean</td>\n",
       "      <td>3</td>\n",
       "      <td>NaN</td>\n",
       "      <td>{'clasificador': DecisionTreeClassifier(max_de...</td>\n",
       "      <td>0.805</td>\n",
       "      <td>0.910</td>\n",
       "      <td>0.86</td>\n",
       "      <td>0.700</td>\n",
       "      <td>0.701493</td>\n",
       "      <td>0.795299</td>\n",
       "      <td>0.084045</td>\n",
       "      <td>1</td>\n",
       "    </tr>\n",
       "    <tr>\n",
       "      <th>24</th>\n",
       "      <td>0.036261</td>\n",
       "      <td>0.000975</td>\n",
       "      <td>0.011400</td>\n",
       "      <td>0.001855</td>\n",
       "      <td>DecisionTreeClassifier(max_depth=2)</td>\n",
       "      <td>NaN</td>\n",
       "      <td>NaN</td>\n",
       "      <td>median</td>\n",
       "      <td>2</td>\n",
       "      <td>NaN</td>\n",
       "      <td>{'clasificador': DecisionTreeClassifier(max_de...</td>\n",
       "      <td>0.805</td>\n",
       "      <td>0.910</td>\n",
       "      <td>0.86</td>\n",
       "      <td>0.700</td>\n",
       "      <td>0.701493</td>\n",
       "      <td>0.795299</td>\n",
       "      <td>0.084045</td>\n",
       "      <td>1</td>\n",
       "    </tr>\n",
       "    <tr>\n",
       "      <th>28</th>\n",
       "      <td>0.038251</td>\n",
       "      <td>0.002947</td>\n",
       "      <td>0.011341</td>\n",
       "      <td>0.001928</td>\n",
       "      <td>DecisionTreeClassifier(max_depth=2)</td>\n",
       "      <td>NaN</td>\n",
       "      <td>NaN</td>\n",
       "      <td>median</td>\n",
       "      <td>4</td>\n",
       "      <td>NaN</td>\n",
       "      <td>{'clasificador': DecisionTreeClassifier(max_de...</td>\n",
       "      <td>0.815</td>\n",
       "      <td>0.855</td>\n",
       "      <td>0.86</td>\n",
       "      <td>0.695</td>\n",
       "      <td>0.676617</td>\n",
       "      <td>0.780323</td>\n",
       "      <td>0.078946</td>\n",
       "      <td>5</td>\n",
       "    </tr>\n",
       "  </tbody>\n",
       "</table>\n",
       "</div>"
      ],
      "text/plain": [
       "    mean_fit_time  std_fit_time  mean_score_time  std_score_time  \\\n",
       "26       0.034989      0.001482         0.009949        0.000211   \n",
       "25       0.036559      0.004899         0.010419        0.000791   \n",
       "27       0.034531      0.001606         0.011307        0.001340   \n",
       "24       0.036261      0.000975         0.011400        0.001855   \n",
       "28       0.038251      0.002947         0.011341        0.001928   \n",
       "\n",
       "                     param_clasificador param_clasificador__max_features  \\\n",
       "26  DecisionTreeClassifier(max_depth=2)                              NaN   \n",
       "25  DecisionTreeClassifier(max_depth=2)                              NaN   \n",
       "27  DecisionTreeClassifier(max_depth=2)                              NaN   \n",
       "24  DecisionTreeClassifier(max_depth=2)                              NaN   \n",
       "28  DecisionTreeClassifier(max_depth=2)                              NaN   \n",
       "\n",
       "   param_clasificador__n_estimators  \\\n",
       "26                              NaN   \n",
       "25                              NaN   \n",
       "27                              NaN   \n",
       "24                              NaN   \n",
       "28                              NaN   \n",
       "\n",
       "   param_preprocesamiento__preprop_num__imputer__strategy  \\\n",
       "26                                             median       \n",
       "25                                               mean       \n",
       "27                                               mean       \n",
       "24                                             median       \n",
       "28                                             median       \n",
       "\n",
       "   param_clasificador__max_depth param_clasificador__n_neighbors  \\\n",
       "26                             3                             NaN   \n",
       "25                             2                             NaN   \n",
       "27                             3                             NaN   \n",
       "24                             2                             NaN   \n",
       "28                             4                             NaN   \n",
       "\n",
       "                                               params  split0_test_score  \\\n",
       "26  {'clasificador': DecisionTreeClassifier(max_de...              0.805   \n",
       "25  {'clasificador': DecisionTreeClassifier(max_de...              0.805   \n",
       "27  {'clasificador': DecisionTreeClassifier(max_de...              0.805   \n",
       "24  {'clasificador': DecisionTreeClassifier(max_de...              0.805   \n",
       "28  {'clasificador': DecisionTreeClassifier(max_de...              0.815   \n",
       "\n",
       "    split1_test_score  split2_test_score  split3_test_score  \\\n",
       "26              0.910               0.86              0.700   \n",
       "25              0.910               0.86              0.700   \n",
       "27              0.910               0.86              0.700   \n",
       "24              0.910               0.86              0.700   \n",
       "28              0.855               0.86              0.695   \n",
       "\n",
       "    split4_test_score  mean_test_score  std_test_score  rank_test_score  \n",
       "26           0.701493         0.795299        0.084045                1  \n",
       "25           0.701493         0.795299        0.084045                1  \n",
       "27           0.701493         0.795299        0.084045                1  \n",
       "24           0.701493         0.795299        0.084045                1  \n",
       "28           0.676617         0.780323        0.078946                5  "
      ]
     },
     "execution_count": 94,
     "metadata": {},
     "output_type": "execute_result"
    }
   ],
   "source": [
    "dff = pd.DataFrame(gs.cv_results_).sort_values(by='rank_test_score')\n",
    "dff.head()"
   ]
  },
  {
   "cell_type": "markdown",
   "metadata": {},
   "source": [
    "### Verificamos cual fue el mejor modelo clasificador."
   ]
  },
  {
   "cell_type": "code",
   "execution_count": 95,
   "metadata": {},
   "outputs": [
    {
     "data": {
      "text/plain": [
       "DecisionTreeClassifier(max_depth=2)"
      ]
     },
     "execution_count": 95,
     "metadata": {},
     "output_type": "execute_result"
    }
   ],
   "source": [
    "gs.best_estimator_.named_steps['clasificador']"
   ]
  },
  {
   "cell_type": "markdown",
   "metadata": {},
   "source": [
    "### Verificamos cuales fueron los mejores parametros."
   ]
  },
  {
   "cell_type": "code",
   "execution_count": 96,
   "metadata": {},
   "outputs": [
    {
     "data": {
      "text/plain": [
       "{'clasificador': DecisionTreeClassifier(max_depth=2),\n",
       " 'clasificador__max_depth': 2,\n",
       " 'preprocesamiento__preprop_num__imputer__strategy': 'median'}"
      ]
     },
     "execution_count": 96,
     "metadata": {},
     "output_type": "execute_result"
    }
   ],
   "source": [
    "gs.best_params_"
   ]
  },
  {
   "cell_type": "markdown",
   "metadata": {},
   "source": [
    "### Observamos cual fue el recall promedio usando el Grid Search con Cross Validation."
   ]
  },
  {
   "cell_type": "code",
   "execution_count": 97,
   "metadata": {},
   "outputs": [
    {
     "data": {
      "text/plain": [
       "0.7952985074626866"
      ]
     },
     "execution_count": 97,
     "metadata": {},
     "output_type": "execute_result"
    }
   ],
   "source": [
    "gs.best_score_"
   ]
  },
  {
   "cell_type": "markdown",
   "metadata": {},
   "source": [
    "### Ahora usaremos el mejor modelo que el Grid Search nos mostro, con los parametros que dieron el mejor resultado."
   ]
  },
  {
   "cell_type": "code",
   "execution_count": 98,
   "metadata": {},
   "outputs": [
    {
     "data": {
      "text/plain": [
       "Pipeline(steps=[('preprocesamiento',\n",
       "                 ColumnTransformer(remainder='passthrough',\n",
       "                                   transformers=[('preprop_num',\n",
       "                                                  Pipeline(steps=[('imputer',\n",
       "                                                                   SimpleImputer(strategy='median')),\n",
       "                                                                  ('scaler',\n",
       "                                                                   StandardScaler())]),\n",
       "                                                  ['Price']),\n",
       "                                                 ('preprop_cat',\n",
       "                                                  Pipeline(steps=[('imputer',\n",
       "                                                                   SimpleImputer(strategy='most_frequent')),\n",
       "                                                                  ('onehot',\n",
       "                                                                   OneHotEncoder(handle_unknown='ignore'))]),\n",
       "                                                  ['Airline', 'TypeTraveler',\n",
       "                                                   'Class', 'RouteDemand',\n",
       "                                                   'Sex'])])),\n",
       "                ('clasificador', DecisionTreeClassifier(max_depth=2))])"
      ]
     },
     "execution_count": 98,
     "metadata": {},
     "output_type": "execute_result"
    }
   ],
   "source": [
    "clf_opt = gs.best_estimator_\n",
    "clf_opt"
   ]
  },
  {
   "cell_type": "markdown",
   "metadata": {},
   "source": [
    "### Entrenamos el modelo tuneado."
   ]
  },
  {
   "cell_type": "code",
   "execution_count": 99,
   "metadata": {},
   "outputs": [
    {
     "data": {
      "text/plain": [
       "Pipeline(steps=[('preprocesamiento',\n",
       "                 ColumnTransformer(remainder='passthrough',\n",
       "                                   transformers=[('preprop_num',\n",
       "                                                  Pipeline(steps=[('imputer',\n",
       "                                                                   SimpleImputer(strategy='median')),\n",
       "                                                                  ('scaler',\n",
       "                                                                   StandardScaler())]),\n",
       "                                                  ['Price']),\n",
       "                                                 ('preprop_cat',\n",
       "                                                  Pipeline(steps=[('imputer',\n",
       "                                                                   SimpleImputer(strategy='most_frequent')),\n",
       "                                                                  ('onehot',\n",
       "                                                                   OneHotEncoder(handle_unknown='ignore'))]),\n",
       "                                                  ['Airline', 'TypeTraveler',\n",
       "                                                   'Class', 'RouteDemand',\n",
       "                                                   'Sex'])])),\n",
       "                ('clasificador', DecisionTreeClassifier(max_depth=2))])"
      ]
     },
     "execution_count": 99,
     "metadata": {},
     "output_type": "execute_result"
    }
   ],
   "source": [
    "clf_opt.fit(X_train,y_train)"
   ]
  },
  {
   "cell_type": "markdown",
   "metadata": {},
   "source": [
    "### Verificamos el score de nuestro set de entrenamiento."
   ]
  },
  {
   "cell_type": "code",
   "execution_count": 100,
   "metadata": {},
   "outputs": [
    {
     "data": {
      "text/plain": [
       "0.6606699751861043"
      ]
     },
     "execution_count": 100,
     "metadata": {},
     "output_type": "execute_result"
    }
   ],
   "source": [
    "clf_opt.score(X_train,y_train)"
   ]
  },
  {
   "cell_type": "markdown",
   "metadata": {},
   "source": [
    "### Y vemos como le fue en la prueba."
   ]
  },
  {
   "cell_type": "code",
   "execution_count": 101,
   "metadata": {},
   "outputs": [
    {
     "data": {
      "text/plain": [
       "0.684863523573201"
      ]
     },
     "execution_count": 101,
     "metadata": {},
     "output_type": "execute_result"
    }
   ],
   "source": [
    "clf_opt.score(X_test, y_test)"
   ]
  },
  {
   "cell_type": "markdown",
   "metadata": {},
   "source": [
    "### Hacemos una Matriz de Confusion."
   ]
  },
  {
   "cell_type": "code",
   "execution_count": 102,
   "metadata": {},
   "outputs": [],
   "source": [
    "pred_DT = clf_opt.predict(X_test)"
   ]
  },
  {
   "cell_type": "code",
   "execution_count": 103,
   "metadata": {},
   "outputs": [
    {
     "data": {
      "text/html": [
       "<div>\n",
       "<style scoped>\n",
       "    .dataframe tbody tr th:only-of-type {\n",
       "        vertical-align: middle;\n",
       "    }\n",
       "\n",
       "    .dataframe tbody tr th {\n",
       "        vertical-align: top;\n",
       "    }\n",
       "\n",
       "    .dataframe thead th {\n",
       "        text-align: right;\n",
       "    }\n",
       "</style>\n",
       "<table border=\"1\" class=\"dataframe\">\n",
       "  <thead>\n",
       "    <tr style=\"text-align: right;\">\n",
       "      <th>Predicción</th>\n",
       "      <th>0</th>\n",
       "      <th>1</th>\n",
       "    </tr>\n",
       "    <tr>\n",
       "      <th>Real</th>\n",
       "      <th></th>\n",
       "      <th></th>\n",
       "    </tr>\n",
       "  </thead>\n",
       "  <tbody>\n",
       "    <tr>\n",
       "      <th>0</th>\n",
       "      <td>117</td>\n",
       "      <td>82</td>\n",
       "    </tr>\n",
       "    <tr>\n",
       "      <th>1</th>\n",
       "      <td>45</td>\n",
       "      <td>159</td>\n",
       "    </tr>\n",
       "  </tbody>\n",
       "</table>\n",
       "</div>"
      ],
      "text/plain": [
       "Predicción    0    1\n",
       "Real                \n",
       "0           117   82\n",
       "1            45  159"
      ]
     },
     "execution_count": 103,
     "metadata": {},
     "output_type": "execute_result"
    }
   ],
   "source": [
    "cm = confusion_matrix(y_test,pred_DT)\n",
    "dummydf = pd.DataFrame(data=cm,columns=clf_opt.classes_,index=clf_opt.classes_)\n",
    "dummydf.index.name = 'Real'\n",
    "dummydf.columns.name = 'Predicción'\n",
    "dummydf"
   ]
  },
  {
   "cell_type": "markdown",
   "metadata": {},
   "source": [
    "### Verificamos el score de nuestro modelo sin el Tuneo, y usando RandomForest."
   ]
  },
  {
   "cell_type": "code",
   "execution_count": 104,
   "metadata": {},
   "outputs": [],
   "source": [
    "pred_RF = clf.predict(X_test)"
   ]
  },
  {
   "cell_type": "code",
   "execution_count": 105,
   "metadata": {},
   "outputs": [
    {
     "name": "stdout",
     "output_type": "stream",
     "text": [
      "              precision    recall  f1-score   support\n",
      "\n",
      "           0       0.57      0.58      0.58       199\n",
      "           1       0.58      0.57      0.58       204\n",
      "\n",
      "    accuracy                           0.58       403\n",
      "   macro avg       0.58      0.58      0.58       403\n",
      "weighted avg       0.58      0.58      0.58       403\n",
      "\n"
     ]
    }
   ],
   "source": [
    "print(classification_report(y_test,pred_RF))"
   ]
  },
  {
   "cell_type": "markdown",
   "metadata": {},
   "source": [
    "## CVal del modelo de Random Forest Clasificator sin tuneo."
   ]
  },
  {
   "cell_type": "code",
   "execution_count": 106,
   "metadata": {},
   "outputs": [
    {
     "data": {
      "text/plain": [
       "0.560462686567164"
      ]
     },
     "execution_count": 106,
     "metadata": {},
     "output_type": "execute_result"
    }
   ],
   "source": [
    "cvals = cross_validate(clf,X,y,cv=5,scoring='recall')\n",
    "cvals['test_score'].mean()"
   ]
  },
  {
   "cell_type": "markdown",
   "metadata": {},
   "source": [
    "## CVal del Modelo de Decision Tree."
   ]
  },
  {
   "cell_type": "code",
   "execution_count": 107,
   "metadata": {},
   "outputs": [
    {
     "data": {
      "text/plain": [
       "0.7952985074626866"
      ]
     },
     "execution_count": 107,
     "metadata": {},
     "output_type": "execute_result"
    }
   ],
   "source": [
    "cvals = cross_validate(clf_opt,X,y,cv=5,scoring='recall')\n",
    "cvals['test_score'].mean()"
   ]
  },
  {
   "cell_type": "code",
   "execution_count": 108,
   "metadata": {},
   "outputs": [
    {
     "data": {
      "text/plain": [
       "(2015, 6)"
      ]
     },
     "execution_count": 108,
     "metadata": {},
     "output_type": "execute_result"
    }
   ],
   "source": [
    "X.shape\n",
    "# Mi X tiene 6 columnas"
   ]
  },
  {
   "cell_type": "code",
   "execution_count": 109,
   "metadata": {},
   "outputs": [
    {
     "data": {
      "text/plain": [
       "(2015, 16)"
      ]
     },
     "execution_count": 109,
     "metadata": {},
     "output_type": "execute_result"
    }
   ],
   "source": [
    "clf.named_steps['preprocesamiento'].transform(X).shape\n",
    "# Después se transforman en 16 por las variables categóricas"
   ]
  },
  {
   "cell_type": "code",
   "execution_count": 110,
   "metadata": {},
   "outputs": [
    {
     "data": {
      "text/plain": [
       "array(['Airline_American Airlines', 'Airline_Delta', 'Airline_Southwest',\n",
       "       'Airline_United', 'TypeTraveler_Casual', 'TypeTraveler_Extreme',\n",
       "       'TypeTraveler_Frequent', 'TypeTraveler_Infrequent',\n",
       "       'Class_Business', 'Class_Economy', 'Class_First Class',\n",
       "       'RouteDemand_crowded', 'RouteDemand_not crowded', 'Sex_F', 'Sex_M'],\n",
       "      dtype=object)"
      ]
     },
     "execution_count": 110,
     "metadata": {},
     "output_type": "execute_result"
    }
   ],
   "source": [
    "clf.named_steps['preprocesamiento'].transformers_[1][1].named_steps['onehot'].get_feature_names(vars_categoricas)\n",
    "# Para ver las columnas"
   ]
  },
  {
   "cell_type": "markdown",
   "metadata": {},
   "source": [
    "### Verificamos el score de nuestro modelo tuneado."
   ]
  },
  {
   "cell_type": "code",
   "execution_count": 111,
   "metadata": {},
   "outputs": [
    {
     "name": "stdout",
     "output_type": "stream",
     "text": [
      "              precision    recall  f1-score   support\n",
      "\n",
      "           0       0.72      0.59      0.65       199\n",
      "           1       0.66      0.78      0.71       204\n",
      "\n",
      "    accuracy                           0.68       403\n",
      "   macro avg       0.69      0.68      0.68       403\n",
      "weighted avg       0.69      0.68      0.68       403\n",
      "\n"
     ]
    }
   ],
   "source": [
    "print(classification_report(y_test,pred_DT))\n",
    "# Precision: Cuando dije que se no se aseguraba, le atiné 66% de las veces\n",
    "# Precision: Cuando diej que si se aseguraba, le atiné 72%\n",
    "# Recall: Detecté al 78% de los que dije que no se iban a asegurar\n",
    "# Recall: Detecté al 59% de los que se iban a asegurar\n",
    "# El Accuracy no se infla tanto porque el dataset está bastante balanceado, es decir que no es una clase tan rara"
   ]
  },
  {
   "cell_type": "code",
   "execution_count": 112,
   "metadata": {},
   "outputs": [
    {
     "data": {
      "text/html": [
       "<div>\n",
       "<style scoped>\n",
       "    .dataframe tbody tr th:only-of-type {\n",
       "        vertical-align: middle;\n",
       "    }\n",
       "\n",
       "    .dataframe tbody tr th {\n",
       "        vertical-align: top;\n",
       "    }\n",
       "\n",
       "    .dataframe thead th {\n",
       "        text-align: right;\n",
       "    }\n",
       "</style>\n",
       "<table border=\"1\" class=\"dataframe\">\n",
       "  <thead>\n",
       "    <tr style=\"text-align: right;\">\n",
       "      <th></th>\n",
       "      <th>fit_time</th>\n",
       "      <th>score_time</th>\n",
       "      <th>test_score</th>\n",
       "    </tr>\n",
       "  </thead>\n",
       "  <tbody>\n",
       "    <tr>\n",
       "      <th>0</th>\n",
       "      <td>0.017999</td>\n",
       "      <td>0.005008</td>\n",
       "      <td>0.805000</td>\n",
       "    </tr>\n",
       "    <tr>\n",
       "      <th>1</th>\n",
       "      <td>0.016008</td>\n",
       "      <td>0.004993</td>\n",
       "      <td>0.910000</td>\n",
       "    </tr>\n",
       "    <tr>\n",
       "      <th>2</th>\n",
       "      <td>0.015004</td>\n",
       "      <td>0.004995</td>\n",
       "      <td>0.860000</td>\n",
       "    </tr>\n",
       "    <tr>\n",
       "      <th>3</th>\n",
       "      <td>0.016996</td>\n",
       "      <td>0.005004</td>\n",
       "      <td>0.700000</td>\n",
       "    </tr>\n",
       "    <tr>\n",
       "      <th>4</th>\n",
       "      <td>0.017000</td>\n",
       "      <td>0.005004</td>\n",
       "      <td>0.701493</td>\n",
       "    </tr>\n",
       "  </tbody>\n",
       "</table>\n",
       "</div>"
      ],
      "text/plain": [
       "   fit_time  score_time  test_score\n",
       "0  0.017999    0.005008    0.805000\n",
       "1  0.016008    0.004993    0.910000\n",
       "2  0.015004    0.004995    0.860000\n",
       "3  0.016996    0.005004    0.700000\n",
       "4  0.017000    0.005004    0.701493"
      ]
     },
     "execution_count": 112,
     "metadata": {},
     "output_type": "execute_result"
    }
   ],
   "source": [
    "pd.DataFrame(cvals)"
   ]
  },
  {
   "cell_type": "code",
   "execution_count": 113,
   "metadata": {},
   "outputs": [
    {
     "data": {
      "text/plain": [
       "0.7952985074626866"
      ]
     },
     "execution_count": 113,
     "metadata": {},
     "output_type": "execute_result"
    }
   ],
   "source": [
    "cvals['test_score'].mean()"
   ]
  },
  {
   "cell_type": "code",
   "execution_count": 114,
   "metadata": {},
   "outputs": [],
   "source": [
    "pred_RF = clf.predict(X_test)\n",
    "#pred_RF"
   ]
  },
  {
   "cell_type": "code",
   "execution_count": 115,
   "metadata": {},
   "outputs": [],
   "source": [
    "# Para ver las importancias del random forest\n",
    "#clf.named_steps['clasificador'].feature_importances_"
   ]
  },
  {
   "cell_type": "code",
   "execution_count": 116,
   "metadata": {},
   "outputs": [
    {
     "data": {
      "text/html": [
       "<div>\n",
       "<style scoped>\n",
       "    .dataframe tbody tr th:only-of-type {\n",
       "        vertical-align: middle;\n",
       "    }\n",
       "\n",
       "    .dataframe tbody tr th {\n",
       "        vertical-align: top;\n",
       "    }\n",
       "\n",
       "    .dataframe thead th {\n",
       "        text-align: right;\n",
       "    }\n",
       "</style>\n",
       "<table border=\"1\" class=\"dataframe\">\n",
       "  <thead>\n",
       "    <tr style=\"text-align: right;\">\n",
       "      <th></th>\n",
       "      <th>Importances</th>\n",
       "    </tr>\n",
       "  </thead>\n",
       "  <tbody>\n",
       "    <tr>\n",
       "      <th>Price</th>\n",
       "      <td>0.705474</td>\n",
       "    </tr>\n",
       "    <tr>\n",
       "      <th>Airline_Southwest</th>\n",
       "      <td>0.060406</td>\n",
       "    </tr>\n",
       "    <tr>\n",
       "      <th>Airline_American Airlines</th>\n",
       "      <td>0.020148</td>\n",
       "    </tr>\n",
       "    <tr>\n",
       "      <th>TypeTraveler_Infrequent</th>\n",
       "      <td>0.019198</td>\n",
       "    </tr>\n",
       "    <tr>\n",
       "      <th>TypeTraveler_Casual</th>\n",
       "      <td>0.018759</td>\n",
       "    </tr>\n",
       "    <tr>\n",
       "      <th>TypeTraveler_Extreme</th>\n",
       "      <td>0.018461</td>\n",
       "    </tr>\n",
       "    <tr>\n",
       "      <th>Airline_United</th>\n",
       "      <td>0.017972</td>\n",
       "    </tr>\n",
       "    <tr>\n",
       "      <th>Airline_Delta</th>\n",
       "      <td>0.017850</td>\n",
       "    </tr>\n",
       "    <tr>\n",
       "      <th>RouteDemand_crowded</th>\n",
       "      <td>0.017577</td>\n",
       "    </tr>\n",
       "    <tr>\n",
       "      <th>Sex_M</th>\n",
       "      <td>0.016840</td>\n",
       "    </tr>\n",
       "  </tbody>\n",
       "</table>\n",
       "</div>"
      ],
      "text/plain": [
       "                           Importances\n",
       "Price                         0.705474\n",
       "Airline_Southwest             0.060406\n",
       "Airline_American Airlines     0.020148\n",
       "TypeTraveler_Infrequent       0.019198\n",
       "TypeTraveler_Casual           0.018759\n",
       "TypeTraveler_Extreme          0.018461\n",
       "Airline_United                0.017972\n",
       "Airline_Delta                 0.017850\n",
       "RouteDemand_crowded           0.017577\n",
       "Sex_M                         0.016840"
      ]
     },
     "execution_count": 116,
     "metadata": {},
     "output_type": "execute_result"
    }
   ],
   "source": [
    "# Para ver las importancias del random forest en dataframe\n",
    "cat_names = clf.named_steps['preprocesamiento'].transformers_[1][1].named_steps['onehot'].get_feature_names(vars_categoricas)\n",
    "\n",
    "feature_names = np.concatenate([vars_numericas,cat_names])\n",
    "\n",
    "pd.DataFrame(data = clf.named_steps['clasificador'].feature_importances_,\n",
    "             columns=['Importances'],index=feature_names)\\\n",
    ".sort_values(by='Importances',ascending=False)\\\n",
    ".nlargest(10,columns='Importances')"
   ]
  },
  {
   "cell_type": "code",
   "execution_count": 117,
   "metadata": {},
   "outputs": [
    {
     "data": {
      "text/plain": [
       "<AxesSubplot:>"
      ]
     },
     "execution_count": 117,
     "metadata": {},
     "output_type": "execute_result"
    },
    {
     "data": {
      "image/png": "[encoded data removed]",
      "text/plain": [
       "<Figure size 432x288 with 1 Axes>"
      ]
     },
     "metadata": {},
     "output_type": "display_data"
    }
   ],
   "source": [
    "pd.DataFrame(data = clf.named_steps['clasificador'].feature_importances_,\n",
    "             columns=['Importances'],index=feature_names)\\\n",
    ".sort_values(by='Importances',ascending=False)\\\n",
    ".nlargest(10,columns='Importances').plot.bar()\n",
    "\n",
    "# Nos dice que tan importante, pero no dice para que ,, que se quede o se vaya "
   ]
  },
  {
   "cell_type": "code",
   "execution_count": 118,
   "metadata": {},
   "outputs": [
    {
     "data": {
      "text/html": [
       "<div>\n",
       "<style scoped>\n",
       "    .dataframe tbody tr th:only-of-type {\n",
       "        vertical-align: middle;\n",
       "    }\n",
       "\n",
       "    .dataframe tbody tr th {\n",
       "        vertical-align: top;\n",
       "    }\n",
       "\n",
       "    .dataframe thead th {\n",
       "        text-align: right;\n",
       "    }\n",
       "</style>\n",
       "<table border=\"1\" class=\"dataframe\">\n",
       "  <thead>\n",
       "    <tr style=\"text-align: right;\">\n",
       "      <th></th>\n",
       "      <th>Importances</th>\n",
       "    </tr>\n",
       "  </thead>\n",
       "  <tbody>\n",
       "    <tr>\n",
       "      <th>Airline_Southwest</th>\n",
       "      <td>0.827567</td>\n",
       "    </tr>\n",
       "    <tr>\n",
       "      <th>TypeTraveler_Extreme</th>\n",
       "      <td>0.117940</td>\n",
       "    </tr>\n",
       "    <tr>\n",
       "      <th>RouteDemand_crowded</th>\n",
       "      <td>0.054493</td>\n",
       "    </tr>\n",
       "    <tr>\n",
       "      <th>Price</th>\n",
       "      <td>0.000000</td>\n",
       "    </tr>\n",
       "    <tr>\n",
       "      <th>Airline_American Airlines</th>\n",
       "      <td>0.000000</td>\n",
       "    </tr>\n",
       "    <tr>\n",
       "      <th>Airline_Delta</th>\n",
       "      <td>0.000000</td>\n",
       "    </tr>\n",
       "    <tr>\n",
       "      <th>Airline_United</th>\n",
       "      <td>0.000000</td>\n",
       "    </tr>\n",
       "    <tr>\n",
       "      <th>TypeTraveler_Casual</th>\n",
       "      <td>0.000000</td>\n",
       "    </tr>\n",
       "    <tr>\n",
       "      <th>TypeTraveler_Frequent</th>\n",
       "      <td>0.000000</td>\n",
       "    </tr>\n",
       "    <tr>\n",
       "      <th>TypeTraveler_Infrequent</th>\n",
       "      <td>0.000000</td>\n",
       "    </tr>\n",
       "  </tbody>\n",
       "</table>\n",
       "</div>"
      ],
      "text/plain": [
       "                           Importances\n",
       "Airline_Southwest             0.827567\n",
       "TypeTraveler_Extreme          0.117940\n",
       "RouteDemand_crowded           0.054493\n",
       "Price                         0.000000\n",
       "Airline_American Airlines     0.000000\n",
       "Airline_Delta                 0.000000\n",
       "Airline_United                0.000000\n",
       "TypeTraveler_Casual           0.000000\n",
       "TypeTraveler_Frequent         0.000000\n",
       "TypeTraveler_Infrequent       0.000000"
      ]
     },
     "execution_count": 118,
     "metadata": {},
     "output_type": "execute_result"
    }
   ],
   "source": [
    "cat_names = clf_opt.named_steps['preprocesamiento'].transformers_[1][1].named_steps['onehot'].get_feature_names(vars_categoricas)\n",
    "\n",
    "feature_names = np.concatenate([vars_numericas,cat_names])\n",
    "\n",
    "pd.DataFrame(data = clf_opt.named_steps['clasificador'].feature_importances_,\n",
    "             columns=['Importances'],index=feature_names)\\\n",
    ".sort_values(by='Importances',ascending=False)\\\n",
    ".nlargest(10,columns='Importances')"
   ]
  },
  {
   "cell_type": "markdown",
   "metadata": {},
   "source": [
    "## Curva PR"
   ]
  },
  {
   "cell_type": "code",
   "execution_count": 119,
   "metadata": {},
   "outputs": [
    {
     "data": {
      "text/plain": [
       "0.6361237582769538"
      ]
     },
     "execution_count": 119,
     "metadata": {},
     "output_type": "execute_result"
    }
   ],
   "source": [
    "average_precision_score(y_test, clf_opt.predict_proba(X_test)[:,1])"
   ]
  },
  {
   "cell_type": "code",
   "execution_count": 120,
   "metadata": {},
   "outputs": [
    {
     "data": {
      "image/png": "[encoded data removed]",
      "text/plain": [
       "<Figure size 1440x720 with 1 Axes>"
      ]
     },
     "metadata": {},
     "output_type": "display_data"
    }
   ],
   "source": [
    "fig, ax = plt.subplots(figsize = (20,10))\n",
    "_ = plot_precision_recall_curve(clf_opt, X_test, y_test, ax = ax)"
   ]
  },
  {
   "cell_type": "code",
   "execution_count": 121,
   "metadata": {},
   "outputs": [],
   "source": [
    "predicciones_proba = clf_opt.predict_proba(X_test)"
   ]
  },
  {
   "cell_type": "code",
   "execution_count": 122,
   "metadata": {},
   "outputs": [],
   "source": [
    "precision, recall, thresholds = precision_recall_curve(y_test, predicciones_proba[:,1])"
   ]
  },
  {
   "cell_type": "code",
   "execution_count": 123,
   "metadata": {},
   "outputs": [
    {
     "data": {
      "text/plain": [
       "array([0.50620347, 0.55523256, 0.64202335, 0.65975104, 1.        ])"
      ]
     },
     "execution_count": 123,
     "metadata": {},
     "output_type": "execute_result"
    }
   ],
   "source": [
    "precision"
   ]
  },
  {
   "cell_type": "code",
   "execution_count": 124,
   "metadata": {},
   "outputs": [
    {
     "data": {
      "text/plain": [
       "array([1.        , 0.93627451, 0.80882353, 0.77941176, 0.        ])"
      ]
     },
     "execution_count": 124,
     "metadata": {},
     "output_type": "execute_result"
    }
   ],
   "source": [
    "recall"
   ]
  },
  {
   "cell_type": "code",
   "execution_count": 125,
   "metadata": {},
   "outputs": [
    {
     "data": {
      "text/plain": [
       "array([0.15822785, 0.31318681, 0.31818182, 0.62207031])"
      ]
     },
     "execution_count": 125,
     "metadata": {},
     "output_type": "execute_result"
    }
   ],
   "source": [
    "thresholds"
   ]
  },
  {
   "cell_type": "code",
   "execution_count": 126,
   "metadata": {},
   "outputs": [],
   "source": [
    "predicted = clf_opt.predict_proba(X_test)[:,1]\n",
    "predicted = np.where(predicted >= 0.15822785,1,0)"
   ]
  },
  {
   "cell_type": "markdown",
   "metadata": {},
   "source": [
    "# En Resumen"
   ]
  },
  {
   "cell_type": "code",
   "execution_count": 127,
   "metadata": {},
   "outputs": [
    {
     "name": "stdout",
     "output_type": "stream",
     "text": [
      "              precision    recall  f1-score   support\n",
      "\n",
      "           0       0.57      0.58      0.58       199\n",
      "           1       0.58      0.57      0.58       204\n",
      "\n",
      "    accuracy                           0.58       403\n",
      "   macro avg       0.58      0.58      0.58       403\n",
      "weighted avg       0.58      0.58      0.58       403\n",
      "\n"
     ]
    }
   ],
   "source": [
    "print(classification_report(y_test,pred_RF))"
   ]
  },
  {
   "cell_type": "code",
   "execution_count": 128,
   "metadata": {},
   "outputs": [
    {
     "name": "stdout",
     "output_type": "stream",
     "text": [
      "              precision    recall  f1-score   support\n",
      "\n",
      "           0       0.72      0.59      0.65       199\n",
      "           1       0.66      0.78      0.71       204\n",
      "\n",
      "    accuracy                           0.68       403\n",
      "   macro avg       0.69      0.68      0.68       403\n",
      "weighted avg       0.69      0.68      0.68       403\n",
      "\n"
     ]
    }
   ],
   "source": [
    "print(classification_report(y_test,pred_DT))"
   ]
  },
  {
   "cell_type": "markdown",
   "metadata": {},
   "source": [
    "## Modelo finamente Tuneado con la Curva PR."
   ]
  },
  {
   "cell_type": "code",
   "execution_count": 129,
   "metadata": {},
   "outputs": [
    {
     "name": "stdout",
     "output_type": "stream",
     "text": [
      "              precision    recall  f1-score   support\n",
      "\n",
      "           0       0.78      0.23      0.36       199\n",
      "           1       0.56      0.94      0.70       204\n",
      "\n",
      "    accuracy                           0.59       403\n",
      "   macro avg       0.67      0.58      0.53       403\n",
      "weighted avg       0.67      0.59      0.53       403\n",
      "\n"
     ]
    }
   ],
   "source": [
    "print(classification_report(y_test, predicted))"
   ]
  },
  {
   "cell_type": "markdown",
   "metadata": {},
   "source": [
    "Finalmente, como un futuro proyecto le pediremos al área informática de nuestra empresa de seguros \"Dallas Flight Insurance\" registrar más datos relevantes y característicos de nuestros usuarios, como por ejemplo la edad, que nos ayuden a agrupar/segmentar nuestros datos en pequeñas poblaciones para así darle al área de Marketing las herramientas necesarias para crear nuevas y más eficientes estrategias de mercado focalizadas en las características que comparten los usuarios dentro de las poblaciones que encontremos mediante un modelo de clustering."
   ]
  },
  {
   "cell_type": "markdown",
   "metadata": {},
   "source": [
    "En  conclusión, al fijarnos en el recall y optimizarlo, logramos encontrar un modelo que el 94% de las veces detecta correctamente a los usuarios que no se van a asegurar."
   ]
  }
 ],
 "metadata": {
  "kernelspec": {
   "display_name": "Python 3",
   "language": "python",
   "name": "python3"
  },
  "language_info": {
   "codemirror_mode": {
    "name": "ipython",
    "version": 3
   },
   "file_extension": ".py",
   "mimetype": "text/x-python",
   "name": "python",
   "nbconvert_exporter": "python",
   "pygments_lexer": "ipython3",
   "version": "3.8.5"
  }
 },
 "nbformat": 4,
 "nbformat_minor": 4
}
