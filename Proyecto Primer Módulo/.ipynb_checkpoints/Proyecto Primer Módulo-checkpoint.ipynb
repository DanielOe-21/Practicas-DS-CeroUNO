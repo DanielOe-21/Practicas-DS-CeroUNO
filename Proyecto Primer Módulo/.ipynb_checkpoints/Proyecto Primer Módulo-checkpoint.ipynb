{
 "cells": [
  {
   "cell_type": "markdown",
   "metadata": {},
   "source": [
    "# Proyecto del primer módulo.\n",
    "\n",
    "Sean bienvenidos al nuevo startup del momento llamado DataSense Inc.; ustedes han sido contratados como analistas de datos en el área de tecnología. En esta área ya hay 4 analistas encargados de otras áreas de la empresa por lo cual a ti te fue asignada la labor de analizar los datos del departamento de ventas; al llegar en tu primer día caes en cuenta que los empleados están usando diversas herramientas para realizar el análisis. Algunos utilizan Excel, otros utilizan Google Sheets pero ambas opciones son ya sea licencias personales o licencias ilegales; por lo tanto, su jefe les ha dicho que busquen una herramienta que pueda trabajar, editar y manipular estos archivos ya que la herramienta será implementada en toda la empresa. Mientras los otros 4 analistas debaten entre utilizar Excel o Sheets tu recuerdas haber visto que Python puede ser utilizado para analizar estos tipos de archivos; por lo tanto instalas Anaconda y comienzas a trabajar con los archivos fundamentales.\n",
    "\n",
    "## Parte 1\n",
    "En esta parte solo puedes utilizar Python vanilla (y el paquete csv para abrir el archivo Business Data.csv); aquí vas a demostrar tus conocimientos de Python básico."
   ]
  },
  {
   "cell_type": "code",
   "execution_count": null,
   "metadata": {},
   "outputs": [],
   "source": [
    "import csv"
   ]
  },
  {
   "cell_type": "markdown",
   "metadata": {},
   "source": [
    "1. Carga el archivo csv a Python usando código vanilla (no importes más paquetes)."
   ]
  },
  {
   "cell_type": "code",
   "execution_count": null,
   "metadata": {},
   "outputs": [],
   "source": [
    "## A continuación un ejemplo de la clase de respuesta que espero\n",
    "\n",
    "\"\"\"Hay partes del código que no son necesarias explicar, \n",
    "pueden obtener respuestas de otros lados pero es importante mantener legibilidad.\"\"\"\n",
    "\n",
    "archivo = []\n",
    "\n",
    "with open('Business Data.csv', 'r', encoding = \"utf-8-sig\" ) as file:  ##Cuidado con el encoding, puede que en ciertas máquinas requiera un encoding distinto (utf-8, utf, o ni uno).\n",
    "    my_reader = csv.reader(file, delimiter=',')\n",
    "    for row in my_reader:\n",
    "        archivo.append(row)\n",
    "    "
   ]
  },
  {
   "cell_type": "markdown",
   "metadata": {},
   "source": [
    "2. Ahora explora tu objeto. Como es una lista de listas podemos acceder a 2 índices distintos.\n",
    "- ¿El primer índice nos da una columna del csv, o un reglón?\n",
    "- ¿Cuales son los nombres de las columnas del archivo csv?\n",
    "- Corre el comando len sobre tu lista de listas. ¿Que significa el resultado?\n",
    "- ¿Cuál es la longitud de las listas dentro de este objeto?"
   ]
  },
  {
   "cell_type": "code",
   "execution_count": null,
   "metadata": {},
   "outputs": [],
   "source": [
    "print(archivo[0])"
   ]
  },
  {
   "cell_type": "code",
   "execution_count": null,
   "metadata": {},
   "outputs": [],
   "source": [
    "# 1. Es un renglón\n",
    "# 2. Nombre, Edad, Sexo, Area, Posicion, Sueldo"
   ]
  },
  {
   "cell_type": "code",
   "execution_count": null,
   "metadata": {},
   "outputs": [],
   "source": [
    "len(archivo)\n",
    "# 3. Significa que \"archivo\" tiene 36 listas"
   ]
  },
  {
   "cell_type": "code",
   "execution_count": null,
   "metadata": {},
   "outputs": [],
   "source": [
    "len(archivo[1])\n",
    "# 4. Cada lista dentro de \"archivo\" tiene 6 elementos"
   ]
  },
  {
   "cell_type": "markdown",
   "metadata": {},
   "source": [
    "3. ¿Cuál es el tipo de datos que hay en cada columna? ¿Hay alguna incongruencia?\n",
    "- Inspecciona la primera observación e imprime el tipo de dato en cada columna."
   ]
  },
  {
   "cell_type": "code",
   "execution_count": null,
   "metadata": {},
   "outputs": [],
   "source": [
    "#print(archivo[1])\n",
    "\n",
    "for i in archivo[1]:\n",
    "    print ('El elemento \"{}\" es de tipo {}'.format( i , type(i)))\n",
    "    \n",
    "# Cada columna tiene elemento de tipo String, pero la incongruencia es que \"Edad\" y \"Sueldo\" deberían ser tipo numérico"
   ]
  },
  {
   "cell_type": "markdown",
   "metadata": {},
   "source": [
    "4. En nuestros datos hay algunas palabras que llevan acento; sin embargo, cuando estamos tratando con el usuario hay ocasiones en las que puede cometer errores con estos acentos o puede ser que escriba la palabra sin mayúscula.\n",
    "\n",
    "- ¿Como se llama el proceso de transformar palabras para agruparlas?\n",
    "- Crea una función que reciba como argumento una palabra con mayúscula y acentos y que regrese la palabra con puras minúsculas y sin acentos. Prueba la función con la palabra Esdrújula."
   ]
  },
  {
   "cell_type": "code",
   "execution_count": null,
   "metadata": {},
   "outputs": [],
   "source": [
    "# 1. El proceso de transformar palabras para agruparlas se llama \"normalizar\""
   ]
  },
  {
   "cell_type": "code",
   "execution_count": null,
   "metadata": {},
   "outputs": [],
   "source": [
    "def normalizar(palabra):\n",
    "    replacements = (\n",
    "        (\"á\", \"a\"),\n",
    "        (\"é\", \"e\"),\n",
    "        (\"í\", \"i\"),\n",
    "        (\"ó\", \"o\"),\n",
    "        (\"ú\", \"u\"),\n",
    "    )\n",
    "    for a, b in replacements:\n",
    "        palabra = palabra.replace(a, b).replace(a.upper(), b.upper())\n",
    "    return palabra.lower()\n",
    "\n",
    "print(normalizar(\"Esdrújula\"))"
   ]
  },
  {
   "cell_type": "markdown",
   "metadata": {},
   "source": [
    "5. Realiza una transformación a tu lista para que ahora el primer índice nos de una columna en lugar de un renglón."
   ]
  },
  {
   "cell_type": "code",
   "execution_count": null,
   "metadata": {},
   "outputs": [],
   "source": [
    "lista_2 = [[fila[i] for fila in archivo ] for i in range(len(archivo[0]))]\n",
    "print(lista_2[0])"
   ]
  },
  {
   "cell_type": "markdown",
   "metadata": {},
   "source": [
    "6. Una vez hecha la transformación, extrae la columna de nombres de tu data. ¿Que observas que puede dificultar el proceso de análisis de datos?"
   ]
  },
  {
   "cell_type": "code",
   "execution_count": null,
   "metadata": {},
   "outputs": [],
   "source": [
    "print(lista_2[0])\n",
    "# Algunos individuos tienen 2 nombres + 1 apellido, otros tienen 1 nombre + 1 apellido, esto puede dificultar el análisis."
   ]
  },
  {
   "cell_type": "markdown",
   "metadata": {},
   "source": [
    "## Parte 2\n",
    "Mientras sigues realizando pruebas en Python caes en cuenta de que esto es mucho más difícil de lo que recordabas; los objetos de listas no son los mejores para manipular estos datos y parece que el debate regresa a Excel y Sheets pero una busqueda en google te hace recordar que existen librerías gratuitas en Python que facilitan el análisis de datos. Decides instalar Numpy y Pandas y regresar a trabajar para ahora si poder realizar un análisis de tus datos.\n",
    "\n",
    "### A partir de este punto ya podemos utilizar Numpy y Pandas, pero seguimos trabajando con el archivo Business Data.csv de forma exclusiva.\n"
   ]
  },
  {
   "cell_type": "code",
   "execution_count": null,
   "metadata": {},
   "outputs": [],
   "source": [
    "import numpy as np\n",
    "import pandas as pd"
   ]
  },
  {
   "cell_type": "markdown",
   "metadata": {},
   "source": [
    "7. Carga la base de datos anterior de un formato a un dataframe. Ya no tienes que utilizar la lista de listas."
   ]
  },
  {
   "cell_type": "code",
   "execution_count": null,
   "metadata": {},
   "outputs": [],
   "source": [
    "df = pd.read_csv('./Business Data.csv')\n",
    "df.head(3)"
   ]
  },
  {
   "cell_type": "markdown",
   "metadata": {},
   "source": [
    "8. ¿Cuantos hombres hay en la empresa, cuantas mujeres?"
   ]
  },
  {
   "cell_type": "code",
   "execution_count": null,
   "metadata": {},
   "outputs": [],
   "source": [
    "df.groupby('Sexo').count()['Nombre']"
   ]
  },
  {
   "cell_type": "markdown",
   "metadata": {},
   "source": [
    "9. ¿Cuantas áreas distintas hay en la empresa; cuantos empleados hay por área?"
   ]
  },
  {
   "cell_type": "code",
   "execution_count": null,
   "metadata": {},
   "outputs": [],
   "source": [
    "df.pivot_table(index = 'Area',\n",
    "               values = 'Nombre',\n",
    "               aggfunc = 'count').rename(columns={'Nombre':'Empleados'})   "
   ]
  },
  {
   "cell_type": "markdown",
   "metadata": {},
   "source": [
    "10. ¿Como está la distribución de género en estas áreas, cuantos hombres y cuantas mujeres en cada área?"
   ]
  },
  {
   "cell_type": "code",
   "execution_count": null,
   "metadata": {},
   "outputs": [],
   "source": [
    "df.pivot_table(index = 'Area',\n",
    "               columns = 'Sexo',\n",
    "               values = 'Nombre',\n",
    "               aggfunc = 'count').rename(columns={'F':'Mujeres', 'M': 'Hombres'})"
   ]
  },
  {
   "cell_type": "markdown",
   "metadata": {},
   "source": [
    "11. ¿Cuantas posiciones distintas hay dentro del área de Tecnología, cuantas hay en el área de Ventas?"
   ]
  },
  {
   "cell_type": "code",
   "execution_count": null,
   "metadata": {},
   "outputs": [],
   "source": [
    "df.pivot_table(index = ['Area','Posición'],\n",
    "               values = 'Nombre',\n",
    "               aggfunc = 'count')   "
   ]
  },
  {
   "cell_type": "code",
   "execution_count": null,
   "metadata": {},
   "outputs": [],
   "source": [
    "df.pivot_table(index = 'Area',\n",
    "               values = 'Posición',\n",
    "               aggfunc = 'nunique')"
   ]
  },
  {
   "cell_type": "markdown",
   "metadata": {},
   "source": [
    "12. Hay alguna posición que tengan en común ventas y tecnología (que tengan exactamente el mismo nombre). ¿En caso de que si haya, cual?"
   ]
  },
  {
   "cell_type": "code",
   "execution_count": null,
   "metadata": {},
   "outputs": [],
   "source": [
    "A = set(pd.unique(df['Posición'][df['Area']=='Tecnología']))\n",
    "B = set(pd.unique(df['Posición'][df['Area']=='Ventas']))\n",
    "print('Ambas áreas tienen la posición {} en común'.format(A.intersection(B)))"
   ]
  },
  {
   "cell_type": "markdown",
   "metadata": {},
   "source": [
    "13. ¿Cuál es el primer nombre más común en la empresa, cual es el apellido más común?"
   ]
  },
  {
   "cell_type": "code",
   "execution_count": null,
   "metadata": {},
   "outputs": [],
   "source": [
    "primer_nombre = df['Nombre'].apply(lambda x: x.split()[0]).value_counts()\n",
    "apellido = df['Nombre'].apply(lambda x: x.split()[-1]).value_counts()\n",
    "\n",
    "print('El primer nombre más común en la empresa es \"{}\", mientras que el apellido más común es \"{}\"'.format(primer_nombre.index[0], apellido.index[0]))"
   ]
  },
  {
   "cell_type": "markdown",
   "metadata": {},
   "source": [
    "14. Revisa nuevamente el tipo de dato que hay en cada columna; si no corresponde, entonces transformalo al que sí corresponde."
   ]
  },
  {
   "cell_type": "code",
   "execution_count": null,
   "metadata": {},
   "outputs": [],
   "source": [
    "df.dtypes\n",
    "# Si corresponden, \"Edad\" y \"Sueldo\" ya son de tipo numérico"
   ]
  },
  {
   "cell_type": "markdown",
   "metadata": {},
   "source": [
    "15. ¿Cual es la edad promedio en la empresa, cual es el sueldo promedio?"
   ]
  },
  {
   "cell_type": "code",
   "execution_count": null,
   "metadata": {},
   "outputs": [],
   "source": [
    "print('La edad promedio en la empresa es {} años.\\n'.format(df.Edad.mean()))\n",
    "print('El sueldo promedio es de ${} pesos.'.format(df.Sueldo.mean()))"
   ]
  },
  {
   "cell_type": "markdown",
   "metadata": {},
   "source": [
    "16. Ahora calcula el sueldo promedio por sexo.\n",
    "- ¿Cuál sexo tiene mayor sueldo y cual es la diferencia entre los sueldos?"
   ]
  },
  {
   "cell_type": "code",
   "execution_count": null,
   "metadata": {},
   "outputs": [],
   "source": [
    "mujer = df.Sexo == 'F'\n",
    "hombre = df.Sexo == 'M'\n",
    "\n",
    "sueldo_hombre = df[(hombre)].Sueldo.mean()\n",
    "sueldo_mujer = df[(mujer)].Sueldo.mean()\n",
    "\n",
    "if sueldo_hombre > sueldo_mujer:\n",
    "    print ('Ganan más los hombres, en promedio ${}'.format(sueldo_hombre))\n",
    "else:\n",
    "    print('Ganan más las mujeres, en promedio ${}'.format(sueldo_mujer))\n",
    "        \n",
    "print('Son ${} más de diferencia'.format(abs(sueldo_mujer - sueldo_hombre)))"
   ]
  },
  {
   "cell_type": "markdown",
   "metadata": {},
   "source": [
    "17. Calcula el sueldo promedio por área y el sueldo promedio por posición."
   ]
  },
  {
   "cell_type": "code",
   "execution_count": null,
   "metadata": {},
   "outputs": [],
   "source": [
    "df.pivot_table(index = 'Area',\n",
    "               values = 'Sueldo',\n",
    "               aggfunc = 'mean')"
   ]
  },
  {
   "cell_type": "code",
   "execution_count": null,
   "metadata": {},
   "outputs": [],
   "source": [
    "df.pivot_table(index = ['Area','Posición'],\n",
    "               values = 'Sueldo',\n",
    "               aggfunc = 'mean').sort_values(by = 'Sueldo', ascending = False)"
   ]
  },
  {
   "cell_type": "markdown",
   "metadata": {},
   "source": [
    "18. ¿En base a la información anterior, que posición dirías que tiene el menor sueldo promedio de la empresa?"
   ]
  },
  {
   "cell_type": "code",
   "execution_count": null,
   "metadata": {},
   "outputs": [],
   "source": [
    "print('La posición de \"Vendedor\" es la que tiene el menor sueldo promedio de la empresa')"
   ]
  },
  {
   "cell_type": "markdown",
   "metadata": {},
   "source": [
    "19. El sueldo mostrado en la base de datos es el sueldo bruto (sin quitar impuestos) mensual; calcula 3 columnas adicionales en donde muestres\n",
    "   - El sueldo bruto anual (suma 1/2 mes de sueldo como aguinaldo a los empleados)\n",
    "   - Considerando las siguientes tasas de impuestos, calcula el sueldo neto anual (sueldo descontando impuestos, te recomiendo crear una función).\n",
    "   - Una vez hecho lo anterior, crea una nueva columna de sueldo neto mensual.\n",
    "   \n",
    "   \n",
    "   s < 100,000  10%\n",
    "   \n",
    "   100,000 < s <= 125,000 12%\n",
    "   \n",
    "   125,000 < s <= 150,000 14%\n",
    "   \n",
    "   150,000 < s <= 175,000 16%\n",
    "   \n",
    "   175,000 < s <= 200,000 17%\n",
    "   \n",
    "   200,000 < s <= 250,000 19%\n",
    "   \n",
    "   250,000 < s <= 300,000 21%\n",
    "   \n",
    "   300,000 < s <= 350,000 23%\n",
    "   \n",
    "   350,000 < s <= 400,000 25%\n",
    "   \n",
    "   s > 400,000 30%"
   ]
  },
  {
   "cell_type": "code",
   "execution_count": null,
   "metadata": {},
   "outputs": [],
   "source": [
    "df['Sueldo_bruto_anual'] = df['Sueldo'] * 12.5\n",
    "df.head()"
   ]
  },
  {
   "cell_type": "code",
   "execution_count": null,
   "metadata": {},
   "outputs": [],
   "source": [
    "def sueldoNetoAnual(Sueldo_bruto_anual):\n",
    "    \n",
    "    Sueldo_neto_anual = Sueldo_bruto_anual\n",
    "    \n",
    "    if Sueldo_bruto_anual < 100000:\n",
    "        Sueldo_neto_anual = Sueldo_bruto_anual *.9\n",
    "        \n",
    "    elif 100000 < Sueldo_bruto_anual <= 125000:\n",
    "        Sueldo_neto_anual = Sueldo_bruto_anual *.88\n",
    "        \n",
    "    elif 125000 < Sueldo_bruto_anual <= 150000:\n",
    "        Sueldo_neto_anual = Sueldo_bruto_anual *.86\n",
    "    \n",
    "    elif 150000 < Sueldo_bruto_anual <= 175000:\n",
    "        Sueldo_neto_anual = Sueldo_bruto_anual *.84\n",
    "    \n",
    "    elif 175000 < Sueldo_bruto_anual <= 200000:\n",
    "        Sueldo_neto_anual = Sueldo_bruto_anual *.83\n",
    "    \n",
    "    elif 200000 < Sueldo_bruto_anual <= 250000:\n",
    "        Sueldo_neto_anual = Sueldo_bruto_anual *.81\n",
    "    \n",
    "    elif 250000 < Sueldo_bruto_anual <= 300000:\n",
    "        Sueldo_neto_anual = Sueldo_bruto_anual *.79\n",
    "    \n",
    "    elif 300000 < Sueldo_bruto_anual <= 350000:\n",
    "        Sueldo_neto_anual = Sueldo_bruto_anual *.77\n",
    "    \n",
    "    elif 350000 < Sueldo_bruto_anual <= 400000:\n",
    "        Sueldo_neto_anual = Sueldo_bruto_anual *.75\n",
    "    \n",
    "    elif Sueldo_bruto_anual > 400000:\n",
    "        Sueldo_neto_anual = Sueldo_bruto_anual *.70\n",
    "        \n",
    "    return Sueldo_neto_anual\n",
    "\n",
    "df['SueldoNeto_anual'] = df['Sueldo_bruto_anual'].apply(sueldoNetoAnual)\n",
    "df.head()"
   ]
  },
  {
   "cell_type": "code",
   "execution_count": null,
   "metadata": {},
   "outputs": [],
   "source": [
    "df['Sueldo_neto_mensual'] = df['SueldoNeto_anual']/12.5\n",
    "df.head()"
   ]
  },
  {
   "cell_type": "markdown",
   "metadata": {},
   "source": [
    "20. Ahora que tenemos los salarios netos (lo que el empleado termina recibiendo de forma mensual). ¿Como cambió el sueldo promedio por área, subió o bajó?"
   ]
  },
  {
   "cell_type": "code",
   "execution_count": null,
   "metadata": {},
   "outputs": [],
   "source": [
    "df.pivot_table(index = 'Area',\n",
    "               values = ['Sueldo','Sueldo_neto_mensual'],\n",
    "               aggfunc = 'mean')\n",
    "\n",
    "# El sueldo promedio bajó por los impuestos"
   ]
  },
  {
   "cell_type": "code",
   "execution_count": null,
   "metadata": {},
   "outputs": [],
   "source": [
    "df_bs = df\n",
    "df_bs.head()"
   ]
  },
  {
   "cell_type": "markdown",
   "metadata": {},
   "source": [
    "## Parte 3\n",
    "Después de realizar tu análisis te comienzas a sentir con más tranquilidad; has podido calcular varios estadísticos relevantes para los empleados pero quieres poner tus habilidades a prueba. Vas con la gente encargada de la base de datos y les pides los archivos csv del departamento de ventas y decides realizar tu primer análisis exploratorio de datos de la empresa.\n",
    "\n",
    "## A partir de este punto va a ser necesario usar los archivos csv restantes.\n",
    "\n",
    "Los datos de transacciones representan todas las compras realizadas por los clientes en el último mes; en este caso tenemos los archivos Customer, Invoice, Product, Purchases y SellersID para que ustedes puedan tener información específica acerca de las compras."
   ]
  },
  {
   "cell_type": "code",
   "execution_count": null,
   "metadata": {},
   "outputs": [],
   "source": [
    "import numpy as np\n",
    "import pandas as pd\n",
    "\n",
    "df_cust = pd.read_csv('./Customer.csv')\n",
    "df_cust.head(3)"
   ]
  },
  {
   "cell_type": "code",
   "execution_count": null,
   "metadata": {},
   "outputs": [],
   "source": [
    "df_inv = pd.read_csv('./Invoice.csv')\n",
    "df_inv.head(3)"
   ]
  },
  {
   "cell_type": "code",
   "execution_count": null,
   "metadata": {},
   "outputs": [],
   "source": [
    "df_prod = pd.read_csv('./Product.csv')\n",
    "df_prod.head(3)"
   ]
  },
  {
   "cell_type": "code",
   "execution_count": null,
   "metadata": {
    "scrolled": true
   },
   "outputs": [],
   "source": [
    "df_pur = pd.read_csv('./Purchases.csv')\n",
    "df_pur.head(3)"
   ]
  },
  {
   "cell_type": "code",
   "execution_count": null,
   "metadata": {},
   "outputs": [],
   "source": [
    "df_sel = pd.read_csv('./SellersID.csv')\n",
    "df_sel.rename(columns = {'id':'Vendedor'}, inplace = True)\n",
    "df_sel.head(3)"
   ]
  },
  {
   "cell_type": "code",
   "execution_count": null,
   "metadata": {},
   "outputs": [],
   "source": [
    "df = pd.merge(df_cust, df_sel)\n",
    "df.head()"
   ]
  },
  {
   "cell_type": "code",
   "execution_count": null,
   "metadata": {},
   "outputs": [],
   "source": [
    "df = pd.merge(df,df_pur)\n",
    "df.head()"
   ]
  },
  {
   "cell_type": "code",
   "execution_count": null,
   "metadata": {},
   "outputs": [],
   "source": [
    "df = pd.merge(df , df_inv)\n",
    "df.head()"
   ]
  },
  {
   "cell_type": "code",
   "execution_count": null,
   "metadata": {},
   "outputs": [],
   "source": [
    "df = pd.merge(df , df_prod)\n",
    "df.head()"
   ]
  },
  {
   "cell_type": "code",
   "execution_count": null,
   "metadata": {},
   "outputs": [],
   "source": [
    "df.insert(12, 'Total' , df['Cantidad'] * df['Precio'])\n",
    "df.head()"
   ]
  },
  {
   "cell_type": "markdown",
   "metadata": {},
   "source": [
    "21. ¿Cuantos clientes tiene la empresa en total; cuantos clientes tiene asignado cada vendedor?"
   ]
  },
  {
   "cell_type": "code",
   "execution_count": null,
   "metadata": {},
   "outputs": [],
   "source": [
    "print('La empresa tiene {} clientes en total'.format(df['Cliente'].nunique()))"
   ]
  },
  {
   "cell_type": "code",
   "execution_count": null,
   "metadata": {},
   "outputs": [],
   "source": [
    "df.pivot_table(index = 'Vendedor',\n",
    "               values = 'Cliente',\n",
    "               aggfunc = 'nunique')"
   ]
  },
  {
   "cell_type": "markdown",
   "metadata": {},
   "source": [
    "22. ¿Cuál es el número total de transacciones? Muestra cuantas compras ha realizado cada cliente."
   ]
  },
  {
   "cell_type": "code",
   "execution_count": null,
   "metadata": {},
   "outputs": [],
   "source": [
    "print('La empresa tiene {} facturas realizadas'.format(df['Factura'].nunique()))\n",
    "df.pivot_table(index = 'Cliente',\n",
    "               values = 'Factura',\n",
    "               aggfunc = 'nunique')"
   ]
  },
  {
   "cell_type": "markdown",
   "metadata": {},
   "source": [
    "23. ¿Cuanto dinero ha gastado cada cliente en total?"
   ]
  },
  {
   "cell_type": "code",
   "execution_count": null,
   "metadata": {},
   "outputs": [],
   "source": [
    "df.pivot_table(index = 'Cliente',\n",
    "               values = 'Total',\n",
    "               aggfunc = 'sum')"
   ]
  },
  {
   "cell_type": "code",
   "execution_count": null,
   "metadata": {},
   "outputs": [],
   "source": [
    "#df.groupby('Cliente').sum()['Total']"
   ]
  },
  {
   "cell_type": "markdown",
   "metadata": {},
   "source": [
    "24. ¿Cuantas unidades se ha vendido de cada tipo de producto? "
   ]
  },
  {
   "cell_type": "code",
   "execution_count": null,
   "metadata": {},
   "outputs": [],
   "source": [
    "df.pivot_table(index = 'Producto',\n",
    "               values = 'Cantidad',\n",
    "               aggfunc = 'sum')"
   ]
  },
  {
   "cell_type": "markdown",
   "metadata": {},
   "source": [
    "25. ¿Cuanto dinero (bruto) ha ganado cada vendedor? Recordemos que aquí no estamos considerando el porcentaje de costo de producción."
   ]
  },
  {
   "cell_type": "code",
   "execution_count": null,
   "metadata": {},
   "outputs": [],
   "source": [
    "rank = df.pivot_table(index = 'Vendedor',\n",
    "                      values = 'Total',\n",
    "                      aggfunc = 'sum').sort_values(by = 'Total',ascending = False)\n",
    "rank"
   ]
  },
  {
   "cell_type": "markdown",
   "metadata": {},
   "source": [
    "26. ¿Quien fue el mejor vendor, quien fue el peor?"
   ]
  },
  {
   "cell_type": "code",
   "execution_count": null,
   "metadata": {},
   "outputs": [],
   "source": [
    "print('El mejor vendedor fué: {} \\n\\n'.format(rank.head(1)))\n",
    "print('Mientras que el peor fué: {}'.format(rank.tail(1)))"
   ]
  },
  {
   "cell_type": "markdown",
   "metadata": {},
   "source": [
    "27. Asumamos que la única fuente de ingresos de la empresa son estas ventas, muestra la contribución que hace cada uno de los vendedores a los ingresos totales como porcentajes. ¿Cuanto contribuye el peor vendedor, cuanto contribuye el mejor?"
   ]
  },
  {
   "cell_type": "code",
   "execution_count": null,
   "metadata": {},
   "outputs": [],
   "source": [
    "Ganancia_total = df['Total'].sum()\n",
    "contribuye = ((rank * 100)/Ganancia_total).sort_values(by='Total',ascending = False).rename(columns={'Total':'Porcentaje'})\n",
    "contribuye"
   ]
  },
  {
   "cell_type": "code",
   "execution_count": null,
   "metadata": {},
   "outputs": [],
   "source": [
    "df['Ganancia Neta'] = df['Total'] * df ['Porcentaje de Ganancia']\n",
    "df.head()"
   ]
  },
  {
   "cell_type": "markdown",
   "metadata": {},
   "source": [
    "28. Con todos los datos anteriores, ahora podemos realizar un cálculo que nos muestre el estado de nuestra empresa. \n",
    "\n",
    "- ¿Considerando como gastos únicos los mostrados en Product.csv (costo de producción) y el sueldo neto, cuanto dinero está generando la empresa?\n",
    "\n",
    "- ¿La empresa está ganando o perdiendo dinero?"
   ]
  },
  {
   "cell_type": "code",
   "execution_count": null,
   "metadata": {},
   "outputs": [],
   "source": [
    "Ganancia_Neta = df['Ganancia Neta'].sum()\n",
    "Gasto_sueldos = df_bs['Sueldo_neto_mensual'].sum()\n",
    "\n",
    "Status = Ganancia_Neta - Gasto_sueldos\n",
    "\n",
    "if Status > 0:\n",
    "    print('La empresa está ganando: ${}'.format(Status))\n",
    "elif Status == 0:\n",
    "    print('La empresa está en punto de equilibrio')\n",
    "else:\n",
    "    print('La empresa está perdiendo: ${}'.format(Status))"
   ]
  },
  {
   "cell_type": "markdown",
   "metadata": {},
   "source": [
    "29. ¿Asumamos que corremos al vendedor de menor desempeño y perdemos sus ventas, cuanto cambia la ganancia o la perdida mensual?"
   ]
  },
  {
   "cell_type": "code",
   "execution_count": null,
   "metadata": {},
   "outputs": [],
   "source": [
    "df = df.drop(df[df['Nombre']=='Tadeo Gutierrez'].index)\n",
    "df_bs = df_bs.drop(df_bs[df_bs['Nombre']=='Tadeo Gutierrez'].index)"
   ]
  },
  {
   "cell_type": "code",
   "execution_count": null,
   "metadata": {},
   "outputs": [],
   "source": [
    "Ganancia_Neta = df['Ganancia Neta'].sum()\n",
    "Gasto_sueldos = df_bs['Sueldo_neto_mensual'].sum()\n",
    "\n",
    "Status = Ganancia_Neta - Gasto_sueldos\n",
    "\n",
    "if Status > 0:\n",
    "    print('La empresa está ganando: ${}'.format(Status))\n",
    "elif Status == 0:\n",
    "    print('La empresa está en punto de equilibrio')\n",
    "else:\n",
    "    print('La empresa está perdiendo: ${}'.format(Status))"
   ]
  },
  {
   "cell_type": "markdown",
   "metadata": {},
   "source": [
    "30. ¿Este resultado les llamó la atención? Expliquen por qué y sugieran un cambio que realizarían si es que aplica."
   ]
  },
  {
   "cell_type": "markdown",
   "metadata": {},
   "source": [
    "**R:** Si llamó mi atención el cambio, pues es fácil darse cuenta que el vendedor V0005 Tadeo Gutierrez genera más ingreso a la empresa de lo que cuesta mantenerlo, es de destacar que sólo tiene 4 clientes. Por lo tanto, correrlo no es una opción viable para la empresa, en cambio, se podría buscar la manera para que prospecte o venda más."
   ]
  },
  {
   "cell_type": "markdown",
   "metadata": {},
   "source": [
    "# Parte 4\n",
    "Después de cruzar tantas tablas y combinarlas una con otra vas con tu jefe y le presentas estos resultados; al inicio toma tu palabra con mucho escepticismo ya que no está muy familiarizado con Python pero al ver los resultados que presentas y al saber que la herramienta es gratuita menciona que está muy abierto a la posibilidad de implementar Python como la herramienta central del departamento de analistas. Te sientes satisfecho con tu labor aunque piensas que a lo mejor después le tienes que comentar que aunque Python es gratuito y poderoso alguna otra herramienta estadística o de BI nunca le ha hecho daño a nadie. Regresas a tu lugar de trabajo y antes de que te des cuenta te pones a pensar acerca del funcionamiento de tu base de datos; tomas una hoja de papel y te pones a escribir.\n",
    "\n",
    "### Sección Teórica\n",
    "\n",
    "La siguiente sección son una colección de preguntas teóricas; es decir, no tienes que programar para ello pero es necesario tener conocimiento de fondo. Toda la sección involucra temáticas de la semana de webscrapping y modelo de datos con un mayor énfasis en la parte de modelo de datos."
   ]
  },
  {
   "cell_type": "markdown",
   "metadata": {},
   "source": [
    "31. Analizando los datos que tenemos; plantea cuales son las entidades existentes."
   ]
  },
  {
   "cell_type": "code",
   "execution_count": null,
   "metadata": {},
   "outputs": [],
   "source": [
    "df_final = pd.merge(df_bs, df)\n",
    "df_final.head(3)\n",
    "# Vendedor, Cliente , Factura, Producto"
   ]
  },
  {
   "cell_type": "markdown",
   "metadata": {},
   "source": [
    "32. Escribe las propiedades correspondientes de cada entidad."
   ]
  },
  {
   "cell_type": "markdown",
   "metadata": {},
   "source": [
    "* Vendedor : Id, nombre, edad, sexo, cliente, Area, Posición\n",
    "\n",
    "* Cliente : vendedor, factura \n",
    "\n",
    "* Factura: Numero, productos, cantidades, precios y totales\n",
    "\n",
    "* Producto: Ganancia, precio, identificador"
   ]
  },
  {
   "cell_type": "markdown",
   "metadata": {},
   "source": [
    "33. De las entidades anteriores, define cuales son las llaves primarias o foraneas presentes."
   ]
  },
  {
   "cell_type": "code",
   "execution_count": null,
   "metadata": {},
   "outputs": [],
   "source": []
  },
  {
   "cell_type": "markdown",
   "metadata": {},
   "source": [
    "34. Ahora recuerda las relaciones; identifica las relaciones one to one, one to many y many to many en esta base de datos."
   ]
  },
  {
   "cell_type": "code",
   "execution_count": null,
   "metadata": {},
   "outputs": [],
   "source": []
  },
  {
   "cell_type": "markdown",
   "metadata": {},
   "source": [
    "35. Con las propiedades derivadas; escribe el tipo de datos correspondiente a cada propiedad."
   ]
  },
  {
   "cell_type": "code",
   "execution_count": null,
   "metadata": {},
   "outputs": [],
   "source": []
  },
  {
   "cell_type": "markdown",
   "metadata": {},
   "source": [
    "36. Dada la estructura de nuestros datos, que esquema recomendarías para almacenar la data. ¿SQL o No-SQL? Justifica tu respuesta."
   ]
  },
  {
   "cell_type": "markdown",
   "metadata": {},
   "source": [
    "**R:** Recomendaría SQL, ya que la información se presenta completa y ordenada, es más fácil trabajar estos datos en dicho formato pues se pueden representar y trabajar similar a una tabla de excel."
   ]
  },
  {
   "cell_type": "markdown",
   "metadata": {},
   "source": [
    "37. Con todo esto en mente; menciona alguna propiedad importante que puedes agregar a esta base de datos para sacarle más jugo a la data y menciona la entidad a la que pertenece."
   ]
  },
  {
   "cell_type": "markdown",
   "metadata": {},
   "source": [
    "**R:** Agregaría la fecha de compra a la entidad de Cliente"
   ]
  },
  {
   "cell_type": "markdown",
   "metadata": {},
   "source": [
    "38. Con esa propiedad menciona al menos una métrica relevante que puedes calcular y como esta puede terminar ayudando al negocio."
   ]
  },
  {
   "cell_type": "markdown",
   "metadata": {},
   "source": [
    "**R:** Se puede calcular la frecuencia de compra del cliente, para poder analizar el comportamiento del mercado y el flujo de productos"
   ]
  }
 ],
 "metadata": {
  "kernelspec": {
   "display_name": "Python 3",
   "language": "python",
   "name": "python3"
  },
  "language_info": {
   "codemirror_mode": {
    "name": "ipython",
    "version": 3
   },
   "file_extension": ".py",
   "mimetype": "text/x-python",
   "name": "python",
   "nbconvert_exporter": "python",
   "pygments_lexer": "ipython3",
   "version": "3.8.5"
  }
 },
 "nbformat": 4,
 "nbformat_minor": 4
}
